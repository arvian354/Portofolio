{
  "nbformat": 4,
  "nbformat_minor": 0,
  "metadata": {
    "colab": {
      "name": "HOTWHEELS_FINAL_PROJECT1_(Skema 1)_standarisasi_dan_outlier_direplace_.ipynb",
      "provenance": [],
      "collapsed_sections": [
        "J_cTr4AIz_a6",
        "1gzcdCxQ_RyY",
        "z3mYfcnwBnw_",
        "BFfgZ_KTEUeG",
        "KGyErfuoEUek",
        "RxtjJuKuEUeo",
        "B4LGYdqEEZ4R",
        "S6sMR7JlEZ4S",
        "Tz5Zjv0XEZ4Y",
        "8Vk7EtBkcGVe",
        "yf7yrZyDFkoC",
        "XT2cDsVIIffN",
        "WmakIi0ZHj3R",
        "jEoeait9GcAH",
        "J98dPDwGFnPi",
        "v5ikQsPI2gM5"
      ],
      "toc_visible": true,
      "include_colab_link": true
    },
    "kernelspec": {
      "display_name": "Python 3",
      "name": "python3"
    },
    "language_info": {
      "name": "python"
    }
  },
  "cells": [
    {
      "cell_type": "markdown",
      "metadata": {
        "id": "view-in-github",
        "colab_type": "text"
      },
      "source": [
        "<a href=\"https://colab.research.google.com/github/arvian354/Portofolio/blob/main/HOTWHEELS_FINAL_PROJECT1_(Skema_1)_standarisasi_dan_outlier_direplace_.ipynb\" target=\"_parent\"><img src=\"https://colab.research.google.com/assets/colab-badge.svg\" alt=\"Open In Colab\"/></a>"
      ]
    },
    {
      "cell_type": "markdown",
      "metadata": {
        "id": "-INapSGqRuQL"
      },
      "source": [
        "# **FINAL PROJECT : Machine Learning Of Car Insurance Claim**"
      ]
    },
    {
      "cell_type": "markdown",
      "metadata": {
        "id": "zAZLpQ7GRvyQ"
      },
      "source": [
        "## **ML Preperation**"
      ]
    },
    {
      "cell_type": "markdown",
      "metadata": {
        "id": "RudmdfvtSGF4"
      },
      "source": [
        "- Import Package\n",
        "- Dataset (Import, Describe, Info)\n",
        "- Pre-Cleansing (Re-Formating & Cleansing Preperation)\n",
        "- Split Feature Category & Numeric"
      ]
    },
    {
      "cell_type": "markdown",
      "metadata": {
        "id": "vSKuev_JS1dE"
      },
      "source": [
        "### **Import Package**"
      ]
    },
    {
      "cell_type": "code",
      "metadata": {
        "id": "Q5QAH69KR90w"
      },
      "source": [
        "import warnings\n",
        "warnings.filterwarnings('ignore')\n",
        "\n",
        "import numpy as np\n",
        "import pandas as pd\n",
        "import seaborn as sns\n",
        "import matplotlib.pyplot as plt\n",
        "%matplotlib inline\n",
        "from scipy import stats"
      ],
      "execution_count": null,
      "outputs": []
    },
    {
      "cell_type": "markdown",
      "metadata": {
        "id": "_W8-xZqkTB-K"
      },
      "source": [
        "### **Dataset** (Import, Describe, & Info)"
      ]
    },
    {
      "cell_type": "code",
      "metadata": {
        "colab": {
          "base_uri": "https://localhost:8080/",
          "height": 292
        },
        "id": "0mw6ov3OTG3v",
        "outputId": "264ab742-1d1a-4c20-fb80-c5e84e27a38a"
      },
      "source": [
        "data = pd.read_csv('file(3).csv')\n",
        "data.sample(5)"
      ],
      "execution_count": null,
      "outputs": [
        {
          "output_type": "execute_result",
          "data": {
            "text/html": [
              "<div>\n",
              "<style scoped>\n",
              "    .dataframe tbody tr th:only-of-type {\n",
              "        vertical-align: middle;\n",
              "    }\n",
              "\n",
              "    .dataframe tbody tr th {\n",
              "        vertical-align: top;\n",
              "    }\n",
              "\n",
              "    .dataframe thead th {\n",
              "        text-align: right;\n",
              "    }\n",
              "</style>\n",
              "<table border=\"1\" class=\"dataframe\">\n",
              "  <thead>\n",
              "    <tr style=\"text-align: right;\">\n",
              "      <th></th>\n",
              "      <th>ID</th>\n",
              "      <th>KIDSDRIV</th>\n",
              "      <th>AGE</th>\n",
              "      <th>HOMEKIDS</th>\n",
              "      <th>YOJ</th>\n",
              "      <th>INCOME</th>\n",
              "      <th>PARENT1</th>\n",
              "      <th>HOME_VAL</th>\n",
              "      <th>MSTATUS</th>\n",
              "      <th>GENDER</th>\n",
              "      <th>EDUCATION</th>\n",
              "      <th>OCCUPATION</th>\n",
              "      <th>TRAVTIME</th>\n",
              "      <th>CAR_USE</th>\n",
              "      <th>BLUEBOOK</th>\n",
              "      <th>TIF</th>\n",
              "      <th>CAR_TYPE</th>\n",
              "      <th>RED_CAR</th>\n",
              "      <th>OLDCLAIM</th>\n",
              "      <th>CLM_FREQ</th>\n",
              "      <th>REVOKED</th>\n",
              "      <th>MVR_PTS</th>\n",
              "      <th>CLM_AMT</th>\n",
              "      <th>CAR_AGE</th>\n",
              "      <th>CLAIM_FLAG</th>\n",
              "    </tr>\n",
              "  </thead>\n",
              "  <tbody>\n",
              "    <tr>\n",
              "      <th>4950</th>\n",
              "      <td>336019495</td>\n",
              "      <td>0</td>\n",
              "      <td>52.0</td>\n",
              "      <td>0</td>\n",
              "      <td>14.0</td>\n",
              "      <td>$62,804</td>\n",
              "      <td>No</td>\n",
              "      <td>$225,810</td>\n",
              "      <td>Yes</td>\n",
              "      <td>M</td>\n",
              "      <td>Bachelors</td>\n",
              "      <td>z_Blue Collar</td>\n",
              "      <td>26</td>\n",
              "      <td>Commercial</td>\n",
              "      <td>$15,510</td>\n",
              "      <td>6</td>\n",
              "      <td>Minivan</td>\n",
              "      <td>yes</td>\n",
              "      <td>$0</td>\n",
              "      <td>0</td>\n",
              "      <td>No</td>\n",
              "      <td>1</td>\n",
              "      <td>$0</td>\n",
              "      <td>13.0</td>\n",
              "      <td>0</td>\n",
              "    </tr>\n",
              "    <tr>\n",
              "      <th>2496</th>\n",
              "      <td>193388454</td>\n",
              "      <td>0</td>\n",
              "      <td>28.0</td>\n",
              "      <td>3</td>\n",
              "      <td>13.0</td>\n",
              "      <td>$98,485</td>\n",
              "      <td>No</td>\n",
              "      <td>$284,911</td>\n",
              "      <td>Yes</td>\n",
              "      <td>M</td>\n",
              "      <td>Bachelors</td>\n",
              "      <td>z_Blue Collar</td>\n",
              "      <td>71</td>\n",
              "      <td>Commercial</td>\n",
              "      <td>$22,490</td>\n",
              "      <td>1</td>\n",
              "      <td>Van</td>\n",
              "      <td>yes</td>\n",
              "      <td>$0</td>\n",
              "      <td>0</td>\n",
              "      <td>No</td>\n",
              "      <td>2</td>\n",
              "      <td>$0</td>\n",
              "      <td>NaN</td>\n",
              "      <td>0</td>\n",
              "    </tr>\n",
              "    <tr>\n",
              "      <th>5048</th>\n",
              "      <td>698634293</td>\n",
              "      <td>1</td>\n",
              "      <td>44.0</td>\n",
              "      <td>3</td>\n",
              "      <td>15.0</td>\n",
              "      <td>$55,996</td>\n",
              "      <td>No</td>\n",
              "      <td>$220,628</td>\n",
              "      <td>Yes</td>\n",
              "      <td>z_F</td>\n",
              "      <td>z_High School</td>\n",
              "      <td>z_Blue Collar</td>\n",
              "      <td>33</td>\n",
              "      <td>Commercial</td>\n",
              "      <td>$22,280</td>\n",
              "      <td>1</td>\n",
              "      <td>z_SUV</td>\n",
              "      <td>no</td>\n",
              "      <td>$0</td>\n",
              "      <td>0</td>\n",
              "      <td>No</td>\n",
              "      <td>0</td>\n",
              "      <td>$0</td>\n",
              "      <td>1.0</td>\n",
              "      <td>0</td>\n",
              "    </tr>\n",
              "    <tr>\n",
              "      <th>6044</th>\n",
              "      <td>596450666</td>\n",
              "      <td>0</td>\n",
              "      <td>58.0</td>\n",
              "      <td>0</td>\n",
              "      <td>NaN</td>\n",
              "      <td>$73,463</td>\n",
              "      <td>No</td>\n",
              "      <td>$229,325</td>\n",
              "      <td>Yes</td>\n",
              "      <td>M</td>\n",
              "      <td>Masters</td>\n",
              "      <td>Lawyer</td>\n",
              "      <td>34</td>\n",
              "      <td>Private</td>\n",
              "      <td>$20,710</td>\n",
              "      <td>6</td>\n",
              "      <td>Van</td>\n",
              "      <td>yes</td>\n",
              "      <td>$11,061</td>\n",
              "      <td>2</td>\n",
              "      <td>No</td>\n",
              "      <td>2</td>\n",
              "      <td>$3,872</td>\n",
              "      <td>18.0</td>\n",
              "      <td>1</td>\n",
              "    </tr>\n",
              "    <tr>\n",
              "      <th>7800</th>\n",
              "      <td>933334494</td>\n",
              "      <td>0</td>\n",
              "      <td>44.0</td>\n",
              "      <td>0</td>\n",
              "      <td>12.0</td>\n",
              "      <td>$31,526</td>\n",
              "      <td>No</td>\n",
              "      <td>$139,414</td>\n",
              "      <td>Yes</td>\n",
              "      <td>z_F</td>\n",
              "      <td>z_High School</td>\n",
              "      <td>Clerical</td>\n",
              "      <td>27</td>\n",
              "      <td>Private</td>\n",
              "      <td>$10,960</td>\n",
              "      <td>6</td>\n",
              "      <td>Sports Car</td>\n",
              "      <td>no</td>\n",
              "      <td>$0</td>\n",
              "      <td>0</td>\n",
              "      <td>No</td>\n",
              "      <td>0</td>\n",
              "      <td>$0</td>\n",
              "      <td>1.0</td>\n",
              "      <td>0</td>\n",
              "    </tr>\n",
              "  </tbody>\n",
              "</table>\n",
              "</div>"
            ],
            "text/plain": [
              "             ID  KIDSDRIV   AGE  HOMEKIDS  ...  MVR_PTS CLM_AMT CAR_AGE CLAIM_FLAG\n",
              "4950  336019495         0  52.0         0  ...        1      $0    13.0          0\n",
              "2496  193388454         0  28.0         3  ...        2      $0     NaN          0\n",
              "5048  698634293         1  44.0         3  ...        0      $0     1.0          0\n",
              "6044  596450666         0  58.0         0  ...        2  $3,872    18.0          1\n",
              "7800  933334494         0  44.0         0  ...        0      $0     1.0          0\n",
              "\n",
              "[5 rows x 25 columns]"
            ]
          },
          "metadata": {
            "tags": []
          },
          "execution_count": 2
        }
      ]
    },
    {
      "cell_type": "code",
      "metadata": {
        "colab": {
          "base_uri": "https://localhost:8080/",
          "height": 297
        },
        "id": "9IS2ccxXTfoE",
        "outputId": "880d8092-db3f-430e-8c93-72cc1d9656d3"
      },
      "source": [
        "data.describe()"
      ],
      "execution_count": null,
      "outputs": [
        {
          "output_type": "execute_result",
          "data": {
            "text/html": [
              "<div>\n",
              "<style scoped>\n",
              "    .dataframe tbody tr th:only-of-type {\n",
              "        vertical-align: middle;\n",
              "    }\n",
              "\n",
              "    .dataframe tbody tr th {\n",
              "        vertical-align: top;\n",
              "    }\n",
              "\n",
              "    .dataframe thead th {\n",
              "        text-align: right;\n",
              "    }\n",
              "</style>\n",
              "<table border=\"1\" class=\"dataframe\">\n",
              "  <thead>\n",
              "    <tr style=\"text-align: right;\">\n",
              "      <th></th>\n",
              "      <th>ID</th>\n",
              "      <th>KIDSDRIV</th>\n",
              "      <th>AGE</th>\n",
              "      <th>HOMEKIDS</th>\n",
              "      <th>YOJ</th>\n",
              "      <th>TRAVTIME</th>\n",
              "      <th>TIF</th>\n",
              "      <th>CLM_FREQ</th>\n",
              "      <th>MVR_PTS</th>\n",
              "      <th>CAR_AGE</th>\n",
              "      <th>CLAIM_FLAG</th>\n",
              "    </tr>\n",
              "  </thead>\n",
              "  <tbody>\n",
              "    <tr>\n",
              "      <th>count</th>\n",
              "      <td>1.030200e+04</td>\n",
              "      <td>10302.000000</td>\n",
              "      <td>10295.000000</td>\n",
              "      <td>10302.000000</td>\n",
              "      <td>9754.000000</td>\n",
              "      <td>10302.000000</td>\n",
              "      <td>10302.000000</td>\n",
              "      <td>10302.000000</td>\n",
              "      <td>10302.000000</td>\n",
              "      <td>9663.000000</td>\n",
              "      <td>10302.000000</td>\n",
              "    </tr>\n",
              "    <tr>\n",
              "      <th>mean</th>\n",
              "      <td>4.956631e+08</td>\n",
              "      <td>0.169288</td>\n",
              "      <td>44.837397</td>\n",
              "      <td>0.720443</td>\n",
              "      <td>10.474062</td>\n",
              "      <td>33.416424</td>\n",
              "      <td>5.329159</td>\n",
              "      <td>0.800718</td>\n",
              "      <td>1.710153</td>\n",
              "      <td>8.298148</td>\n",
              "      <td>0.266550</td>\n",
              "    </tr>\n",
              "    <tr>\n",
              "      <th>std</th>\n",
              "      <td>2.864675e+08</td>\n",
              "      <td>0.506512</td>\n",
              "      <td>8.606445</td>\n",
              "      <td>1.116323</td>\n",
              "      <td>4.108943</td>\n",
              "      <td>15.869687</td>\n",
              "      <td>4.110795</td>\n",
              "      <td>1.154079</td>\n",
              "      <td>2.159015</td>\n",
              "      <td>5.714450</td>\n",
              "      <td>0.442177</td>\n",
              "    </tr>\n",
              "    <tr>\n",
              "      <th>min</th>\n",
              "      <td>6.317500e+04</td>\n",
              "      <td>0.000000</td>\n",
              "      <td>16.000000</td>\n",
              "      <td>0.000000</td>\n",
              "      <td>0.000000</td>\n",
              "      <td>5.000000</td>\n",
              "      <td>1.000000</td>\n",
              "      <td>0.000000</td>\n",
              "      <td>0.000000</td>\n",
              "      <td>-3.000000</td>\n",
              "      <td>0.000000</td>\n",
              "    </tr>\n",
              "    <tr>\n",
              "      <th>25%</th>\n",
              "      <td>2.442869e+08</td>\n",
              "      <td>0.000000</td>\n",
              "      <td>39.000000</td>\n",
              "      <td>0.000000</td>\n",
              "      <td>9.000000</td>\n",
              "      <td>22.000000</td>\n",
              "      <td>1.000000</td>\n",
              "      <td>0.000000</td>\n",
              "      <td>0.000000</td>\n",
              "      <td>1.000000</td>\n",
              "      <td>0.000000</td>\n",
              "    </tr>\n",
              "    <tr>\n",
              "      <th>50%</th>\n",
              "      <td>4.970043e+08</td>\n",
              "      <td>0.000000</td>\n",
              "      <td>45.000000</td>\n",
              "      <td>0.000000</td>\n",
              "      <td>11.000000</td>\n",
              "      <td>33.000000</td>\n",
              "      <td>4.000000</td>\n",
              "      <td>0.000000</td>\n",
              "      <td>1.000000</td>\n",
              "      <td>8.000000</td>\n",
              "      <td>0.000000</td>\n",
              "    </tr>\n",
              "    <tr>\n",
              "      <th>75%</th>\n",
              "      <td>7.394551e+08</td>\n",
              "      <td>0.000000</td>\n",
              "      <td>51.000000</td>\n",
              "      <td>1.000000</td>\n",
              "      <td>13.000000</td>\n",
              "      <td>44.000000</td>\n",
              "      <td>7.000000</td>\n",
              "      <td>2.000000</td>\n",
              "      <td>3.000000</td>\n",
              "      <td>12.000000</td>\n",
              "      <td>1.000000</td>\n",
              "    </tr>\n",
              "    <tr>\n",
              "      <th>max</th>\n",
              "      <td>9.999264e+08</td>\n",
              "      <td>4.000000</td>\n",
              "      <td>81.000000</td>\n",
              "      <td>5.000000</td>\n",
              "      <td>23.000000</td>\n",
              "      <td>142.000000</td>\n",
              "      <td>25.000000</td>\n",
              "      <td>5.000000</td>\n",
              "      <td>13.000000</td>\n",
              "      <td>28.000000</td>\n",
              "      <td>1.000000</td>\n",
              "    </tr>\n",
              "  </tbody>\n",
              "</table>\n",
              "</div>"
            ],
            "text/plain": [
              "                 ID      KIDSDRIV  ...      CAR_AGE    CLAIM_FLAG\n",
              "count  1.030200e+04  10302.000000  ...  9663.000000  10302.000000\n",
              "mean   4.956631e+08      0.169288  ...     8.298148      0.266550\n",
              "std    2.864675e+08      0.506512  ...     5.714450      0.442177\n",
              "min    6.317500e+04      0.000000  ...    -3.000000      0.000000\n",
              "25%    2.442869e+08      0.000000  ...     1.000000      0.000000\n",
              "50%    4.970043e+08      0.000000  ...     8.000000      0.000000\n",
              "75%    7.394551e+08      0.000000  ...    12.000000      1.000000\n",
              "max    9.999264e+08      4.000000  ...    28.000000      1.000000\n",
              "\n",
              "[8 rows x 11 columns]"
            ]
          },
          "metadata": {
            "tags": []
          },
          "execution_count": 3
        }
      ]
    },
    {
      "cell_type": "code",
      "metadata": {
        "colab": {
          "base_uri": "https://localhost:8080/"
        },
        "id": "sMPdyeKvTkBr",
        "outputId": "9006ddf8-dce5-43ad-defc-f6e2eea2a8c7"
      },
      "source": [
        "data.info()"
      ],
      "execution_count": null,
      "outputs": [
        {
          "output_type": "stream",
          "text": [
            "<class 'pandas.core.frame.DataFrame'>\n",
            "RangeIndex: 10302 entries, 0 to 10301\n",
            "Data columns (total 25 columns):\n",
            " #   Column      Non-Null Count  Dtype  \n",
            "---  ------      --------------  -----  \n",
            " 0   ID          10302 non-null  int64  \n",
            " 1   KIDSDRIV    10302 non-null  int64  \n",
            " 2   AGE         10295 non-null  float64\n",
            " 3   HOMEKIDS    10302 non-null  int64  \n",
            " 4   YOJ         9754 non-null   float64\n",
            " 5   INCOME      9732 non-null   object \n",
            " 6   PARENT1     10302 non-null  object \n",
            " 7   HOME_VAL    9727 non-null   object \n",
            " 8   MSTATUS     10302 non-null  object \n",
            " 9   GENDER      10302 non-null  object \n",
            " 10  EDUCATION   10302 non-null  object \n",
            " 11  OCCUPATION  9637 non-null   object \n",
            " 12  TRAVTIME    10302 non-null  int64  \n",
            " 13  CAR_USE     10302 non-null  object \n",
            " 14  BLUEBOOK    10302 non-null  object \n",
            " 15  TIF         10302 non-null  int64  \n",
            " 16  CAR_TYPE    10302 non-null  object \n",
            " 17  RED_CAR     10302 non-null  object \n",
            " 18  OLDCLAIM    10302 non-null  object \n",
            " 19  CLM_FREQ    10302 non-null  int64  \n",
            " 20  REVOKED     10302 non-null  object \n",
            " 21  MVR_PTS     10302 non-null  int64  \n",
            " 22  CLM_AMT     10302 non-null  object \n",
            " 23  CAR_AGE     9663 non-null   float64\n",
            " 24  CLAIM_FLAG  10302 non-null  int64  \n",
            "dtypes: float64(3), int64(8), object(14)\n",
            "memory usage: 2.0+ MB\n"
          ],
          "name": "stdout"
        }
      ]
    },
    {
      "cell_type": "markdown",
      "metadata": {
        "id": "sXcxeO4AUoCs"
      },
      "source": [
        "### **Pre-Cleansing**"
      ]
    },
    {
      "cell_type": "markdown",
      "metadata": {
        "id": "55jGqLaUUzQh"
      },
      "source": [
        "### Re-Format Value (Cleansing)"
      ]
    },
    {
      "cell_type": "code",
      "metadata": {
        "id": "-l6MHSWPU8_p"
      },
      "source": [
        "data['INCOME'] = data['INCOME'].str.replace('$' , '')\n",
        "data['INCOME'] = data['INCOME'].str.replace(',' , '')\n",
        "data['BLUEBOOK'] = data['BLUEBOOK'].str.replace('$' , '')\n",
        "data['BLUEBOOK'] = data['BLUEBOOK'].str.replace(',' , '')\n",
        "data['OLDCLAIM'] = data['OLDCLAIM'].str.replace('$' , '')\n",
        "data['OLDCLAIM'] = data['OLDCLAIM'].str.replace(',' , '')\n",
        "data['CLM_AMT'] = data['CLM_AMT'].str.replace('$' , '')\n",
        "data['CLM_AMT'] = data['CLM_AMT'].str.replace(',' , '')\n",
        "data['HOME_VAL'] = data['HOME_VAL'].str.replace('$' , '')\n",
        "data['HOME_VAL'] = data['HOME_VAL'].str.replace(',' , '')\n",
        "data['MSTATUS'] = data['MSTATUS'].str.replace('z_' , '')\n",
        "data['GENDER'] = data['GENDER'].str.replace('z_' , '')\n",
        "data['CAR_TYPE'] = data['CAR_TYPE'].str.replace('z_' , '')\n",
        "data['EDUCATION'] = data['EDUCATION'].str.replace('z_' , '')\n",
        "data['EDUCATION'] = data['EDUCATION'].str.replace('<' , '')\n",
        "data['OCCUPATION'] = data['OCCUPATION'].str.replace('z_' , '')"
      ],
      "execution_count": null,
      "outputs": []
    },
    {
      "cell_type": "code",
      "metadata": {
        "colab": {
          "base_uri": "https://localhost:8080/",
          "height": 196
        },
        "id": "xlZrDwKgVI43",
        "outputId": "b12ddb7e-8816-481e-926e-2ed83e03dc3b"
      },
      "source": [
        "data.sample(3)"
      ],
      "execution_count": null,
      "outputs": [
        {
          "output_type": "execute_result",
          "data": {
            "text/html": [
              "<div>\n",
              "<style scoped>\n",
              "    .dataframe tbody tr th:only-of-type {\n",
              "        vertical-align: middle;\n",
              "    }\n",
              "\n",
              "    .dataframe tbody tr th {\n",
              "        vertical-align: top;\n",
              "    }\n",
              "\n",
              "    .dataframe thead th {\n",
              "        text-align: right;\n",
              "    }\n",
              "</style>\n",
              "<table border=\"1\" class=\"dataframe\">\n",
              "  <thead>\n",
              "    <tr style=\"text-align: right;\">\n",
              "      <th></th>\n",
              "      <th>ID</th>\n",
              "      <th>KIDSDRIV</th>\n",
              "      <th>AGE</th>\n",
              "      <th>HOMEKIDS</th>\n",
              "      <th>YOJ</th>\n",
              "      <th>INCOME</th>\n",
              "      <th>PARENT1</th>\n",
              "      <th>HOME_VAL</th>\n",
              "      <th>MSTATUS</th>\n",
              "      <th>GENDER</th>\n",
              "      <th>EDUCATION</th>\n",
              "      <th>OCCUPATION</th>\n",
              "      <th>TRAVTIME</th>\n",
              "      <th>CAR_USE</th>\n",
              "      <th>BLUEBOOK</th>\n",
              "      <th>TIF</th>\n",
              "      <th>CAR_TYPE</th>\n",
              "      <th>RED_CAR</th>\n",
              "      <th>OLDCLAIM</th>\n",
              "      <th>CLM_FREQ</th>\n",
              "      <th>REVOKED</th>\n",
              "      <th>MVR_PTS</th>\n",
              "      <th>CLM_AMT</th>\n",
              "      <th>CAR_AGE</th>\n",
              "      <th>CLAIM_FLAG</th>\n",
              "    </tr>\n",
              "  </thead>\n",
              "  <tbody>\n",
              "    <tr>\n",
              "      <th>9237</th>\n",
              "      <td>185797662</td>\n",
              "      <td>0</td>\n",
              "      <td>42.0</td>\n",
              "      <td>0</td>\n",
              "      <td>NaN</td>\n",
              "      <td>107562</td>\n",
              "      <td>No</td>\n",
              "      <td>281386</td>\n",
              "      <td>Yes</td>\n",
              "      <td>F</td>\n",
              "      <td>Bachelors</td>\n",
              "      <td>Manager</td>\n",
              "      <td>36</td>\n",
              "      <td>Private</td>\n",
              "      <td>5700</td>\n",
              "      <td>7</td>\n",
              "      <td>SUV</td>\n",
              "      <td>no</td>\n",
              "      <td>971</td>\n",
              "      <td>2</td>\n",
              "      <td>No</td>\n",
              "      <td>4</td>\n",
              "      <td>0</td>\n",
              "      <td>15.0</td>\n",
              "      <td>0</td>\n",
              "    </tr>\n",
              "    <tr>\n",
              "      <th>8426</th>\n",
              "      <td>398404901</td>\n",
              "      <td>0</td>\n",
              "      <td>29.0</td>\n",
              "      <td>3</td>\n",
              "      <td>NaN</td>\n",
              "      <td>15958</td>\n",
              "      <td>Yes</td>\n",
              "      <td>111962</td>\n",
              "      <td>No</td>\n",
              "      <td>M</td>\n",
              "      <td>High School</td>\n",
              "      <td>Clerical</td>\n",
              "      <td>30</td>\n",
              "      <td>Private</td>\n",
              "      <td>6000</td>\n",
              "      <td>3</td>\n",
              "      <td>Pickup</td>\n",
              "      <td>yes</td>\n",
              "      <td>0</td>\n",
              "      <td>0</td>\n",
              "      <td>No</td>\n",
              "      <td>4</td>\n",
              "      <td>1541</td>\n",
              "      <td>1.0</td>\n",
              "      <td>1</td>\n",
              "    </tr>\n",
              "    <tr>\n",
              "      <th>9369</th>\n",
              "      <td>996157117</td>\n",
              "      <td>0</td>\n",
              "      <td>41.0</td>\n",
              "      <td>0</td>\n",
              "      <td>13.0</td>\n",
              "      <td>72146</td>\n",
              "      <td>No</td>\n",
              "      <td>NaN</td>\n",
              "      <td>Yes</td>\n",
              "      <td>F</td>\n",
              "      <td>High School</td>\n",
              "      <td>Blue Collar</td>\n",
              "      <td>38</td>\n",
              "      <td>Commercial</td>\n",
              "      <td>17900</td>\n",
              "      <td>6</td>\n",
              "      <td>Pickup</td>\n",
              "      <td>no</td>\n",
              "      <td>3736</td>\n",
              "      <td>2</td>\n",
              "      <td>No</td>\n",
              "      <td>0</td>\n",
              "      <td>0</td>\n",
              "      <td>6.0</td>\n",
              "      <td>0</td>\n",
              "    </tr>\n",
              "  </tbody>\n",
              "</table>\n",
              "</div>"
            ],
            "text/plain": [
              "             ID  KIDSDRIV   AGE  HOMEKIDS  ...  MVR_PTS CLM_AMT CAR_AGE CLAIM_FLAG\n",
              "9237  185797662         0  42.0         0  ...        4       0    15.0          0\n",
              "8426  398404901         0  29.0         3  ...        4    1541     1.0          1\n",
              "9369  996157117         0  41.0         0  ...        0       0     6.0          0\n",
              "\n",
              "[3 rows x 25 columns]"
            ]
          },
          "metadata": {
            "tags": []
          },
          "execution_count": 6
        }
      ]
    },
    {
      "cell_type": "code",
      "metadata": {
        "colab": {
          "base_uri": "https://localhost:8080/"
        },
        "id": "NTRgOLe4VWAC",
        "outputId": "5ef52fe2-6505-48ca-9bf1-0110ae6ecb35"
      },
      "source": [
        "data.info()"
      ],
      "execution_count": null,
      "outputs": [
        {
          "output_type": "stream",
          "text": [
            "<class 'pandas.core.frame.DataFrame'>\n",
            "RangeIndex: 10302 entries, 0 to 10301\n",
            "Data columns (total 25 columns):\n",
            " #   Column      Non-Null Count  Dtype  \n",
            "---  ------      --------------  -----  \n",
            " 0   ID          10302 non-null  int64  \n",
            " 1   KIDSDRIV    10302 non-null  int64  \n",
            " 2   AGE         10295 non-null  float64\n",
            " 3   HOMEKIDS    10302 non-null  int64  \n",
            " 4   YOJ         9754 non-null   float64\n",
            " 5   INCOME      9732 non-null   object \n",
            " 6   PARENT1     10302 non-null  object \n",
            " 7   HOME_VAL    9727 non-null   object \n",
            " 8   MSTATUS     10302 non-null  object \n",
            " 9   GENDER      10302 non-null  object \n",
            " 10  EDUCATION   10302 non-null  object \n",
            " 11  OCCUPATION  9637 non-null   object \n",
            " 12  TRAVTIME    10302 non-null  int64  \n",
            " 13  CAR_USE     10302 non-null  object \n",
            " 14  BLUEBOOK    10302 non-null  object \n",
            " 15  TIF         10302 non-null  int64  \n",
            " 16  CAR_TYPE    10302 non-null  object \n",
            " 17  RED_CAR     10302 non-null  object \n",
            " 18  OLDCLAIM    10302 non-null  object \n",
            " 19  CLM_FREQ    10302 non-null  int64  \n",
            " 20  REVOKED     10302 non-null  object \n",
            " 21  MVR_PTS     10302 non-null  int64  \n",
            " 22  CLM_AMT     10302 non-null  object \n",
            " 23  CAR_AGE     9663 non-null   float64\n",
            " 24  CLAIM_FLAG  10302 non-null  int64  \n",
            "dtypes: float64(3), int64(8), object(14)\n",
            "memory usage: 2.0+ MB\n"
          ],
          "name": "stdout"
        }
      ]
    },
    {
      "cell_type": "code",
      "metadata": {
        "colab": {
          "base_uri": "https://localhost:8080/"
        },
        "id": "FPKQk1zPVYor",
        "outputId": "4a2dbd7e-763f-441a-a688-50819a264fb8"
      },
      "source": [
        "data[['INCOME', 'HOME_VAL', 'CLM_AMT','BLUEBOOK', 'OLDCLAIM']] = data[['INCOME', 'HOME_VAL', 'CLM_AMT','BLUEBOOK', 'OLDCLAIM']].apply(pd.to_numeric)\n",
        "data.info()"
      ],
      "execution_count": null,
      "outputs": [
        {
          "output_type": "stream",
          "text": [
            "<class 'pandas.core.frame.DataFrame'>\n",
            "RangeIndex: 10302 entries, 0 to 10301\n",
            "Data columns (total 25 columns):\n",
            " #   Column      Non-Null Count  Dtype  \n",
            "---  ------      --------------  -----  \n",
            " 0   ID          10302 non-null  int64  \n",
            " 1   KIDSDRIV    10302 non-null  int64  \n",
            " 2   AGE         10295 non-null  float64\n",
            " 3   HOMEKIDS    10302 non-null  int64  \n",
            " 4   YOJ         9754 non-null   float64\n",
            " 5   INCOME      9732 non-null   float64\n",
            " 6   PARENT1     10302 non-null  object \n",
            " 7   HOME_VAL    9727 non-null   float64\n",
            " 8   MSTATUS     10302 non-null  object \n",
            " 9   GENDER      10302 non-null  object \n",
            " 10  EDUCATION   10302 non-null  object \n",
            " 11  OCCUPATION  9637 non-null   object \n",
            " 12  TRAVTIME    10302 non-null  int64  \n",
            " 13  CAR_USE     10302 non-null  object \n",
            " 14  BLUEBOOK    10302 non-null  int64  \n",
            " 15  TIF         10302 non-null  int64  \n",
            " 16  CAR_TYPE    10302 non-null  object \n",
            " 17  RED_CAR     10302 non-null  object \n",
            " 18  OLDCLAIM    10302 non-null  int64  \n",
            " 19  CLM_FREQ    10302 non-null  int64  \n",
            " 20  REVOKED     10302 non-null  object \n",
            " 21  MVR_PTS     10302 non-null  int64  \n",
            " 22  CLM_AMT     10302 non-null  int64  \n",
            " 23  CAR_AGE     9663 non-null   float64\n",
            " 24  CLAIM_FLAG  10302 non-null  int64  \n",
            "dtypes: float64(5), int64(11), object(9)\n",
            "memory usage: 2.0+ MB\n"
          ],
          "name": "stdout"
        }
      ]
    },
    {
      "cell_type": "markdown",
      "metadata": {
        "id": "v0mTLTOsViLi"
      },
      "source": [
        "#### Cleansing Preparation"
      ]
    },
    {
      "cell_type": "code",
      "metadata": {
        "colab": {
          "base_uri": "https://localhost:8080/"
        },
        "id": "mgbg4bzXVns6",
        "outputId": "b608c9fa-e1db-4df8-849c-12f44f987068"
      },
      "source": [
        "data.isna().sum()"
      ],
      "execution_count": null,
      "outputs": [
        {
          "output_type": "execute_result",
          "data": {
            "text/plain": [
              "ID              0\n",
              "KIDSDRIV        0\n",
              "AGE             7\n",
              "HOMEKIDS        0\n",
              "YOJ           548\n",
              "INCOME        570\n",
              "PARENT1         0\n",
              "HOME_VAL      575\n",
              "MSTATUS         0\n",
              "GENDER          0\n",
              "EDUCATION       0\n",
              "OCCUPATION    665\n",
              "TRAVTIME        0\n",
              "CAR_USE         0\n",
              "BLUEBOOK        0\n",
              "TIF             0\n",
              "CAR_TYPE        0\n",
              "RED_CAR         0\n",
              "OLDCLAIM        0\n",
              "CLM_FREQ        0\n",
              "REVOKED         0\n",
              "MVR_PTS         0\n",
              "CLM_AMT         0\n",
              "CAR_AGE       639\n",
              "CLAIM_FLAG      0\n",
              "dtype: int64"
            ]
          },
          "metadata": {
            "tags": []
          },
          "execution_count": 9
        }
      ]
    },
    {
      "cell_type": "code",
      "metadata": {
        "colab": {
          "base_uri": "https://localhost:8080/"
        },
        "id": "Iw_lpO_FVxTJ",
        "outputId": "2d4d34d3-e76c-4c79-be43-0a85d67d255d"
      },
      "source": [
        "data.duplicated().sum()"
      ],
      "execution_count": null,
      "outputs": [
        {
          "output_type": "execute_result",
          "data": {
            "text/plain": [
              "1"
            ]
          },
          "metadata": {
            "tags": []
          },
          "execution_count": 10
        }
      ]
    },
    {
      "cell_type": "markdown",
      "metadata": {
        "id": "mi0fN4bFV1JD"
      },
      "source": [
        "Ditemukan 1 row duplikat pada dataset."
      ]
    },
    {
      "cell_type": "code",
      "metadata": {
        "colab": {
          "base_uri": "https://localhost:8080/"
        },
        "id": "dyaRUNRPVxzF",
        "outputId": "2ee8b7a7-879b-46d8-a828-83018b134af7"
      },
      "source": [
        "data.duplicated(subset='ID').sum()"
      ],
      "execution_count": null,
      "outputs": [
        {
          "output_type": "execute_result",
          "data": {
            "text/plain": [
              "1549"
            ]
          },
          "metadata": {
            "tags": []
          },
          "execution_count": 11
        }
      ]
    },
    {
      "cell_type": "markdown",
      "metadata": {
        "id": "TReNoHcVWZW9"
      },
      "source": [
        "Ditemukan 1549 value duplikat pada feature `ID`."
      ]
    },
    {
      "cell_type": "markdown",
      "metadata": {
        "id": "DwuavvffbTkY"
      },
      "source": [
        "### **Feature Category & Numeric**"
      ]
    },
    {
      "cell_type": "code",
      "metadata": {
        "id": "c5IEK-5ubV11"
      },
      "source": [
        "nums = ['KIDSDRIV','AGE','HOMEKIDS','YOJ','INCOME','HOME_VAL','TRAVTIME','BLUEBOOK','TIF','OLDCLAIM','CLM_FREQ','MVR_PTS','CLM_AMT','CAR_AGE','CLAIM_FLAG']\n",
        "cats = ['PARENT1','MSTATUS','GENDER','EDUCATION','OCCUPATION','CAR_USE','CAR_TYPE','RED_CAR','REVOKED']"
      ],
      "execution_count": null,
      "outputs": []
    },
    {
      "cell_type": "code",
      "metadata": {
        "colab": {
          "base_uri": "https://localhost:8080/",
          "height": 317
        },
        "id": "hQiPvvc_bjXQ",
        "outputId": "7e0132ee-f781-4cd0-beab-488ffd2159cb"
      },
      "source": [
        "data[nums].describe()"
      ],
      "execution_count": null,
      "outputs": [
        {
          "output_type": "execute_result",
          "data": {
            "text/html": [
              "<div>\n",
              "<style scoped>\n",
              "    .dataframe tbody tr th:only-of-type {\n",
              "        vertical-align: middle;\n",
              "    }\n",
              "\n",
              "    .dataframe tbody tr th {\n",
              "        vertical-align: top;\n",
              "    }\n",
              "\n",
              "    .dataframe thead th {\n",
              "        text-align: right;\n",
              "    }\n",
              "</style>\n",
              "<table border=\"1\" class=\"dataframe\">\n",
              "  <thead>\n",
              "    <tr style=\"text-align: right;\">\n",
              "      <th></th>\n",
              "      <th>KIDSDRIV</th>\n",
              "      <th>AGE</th>\n",
              "      <th>HOMEKIDS</th>\n",
              "      <th>YOJ</th>\n",
              "      <th>INCOME</th>\n",
              "      <th>HOME_VAL</th>\n",
              "      <th>TRAVTIME</th>\n",
              "      <th>BLUEBOOK</th>\n",
              "      <th>TIF</th>\n",
              "      <th>OLDCLAIM</th>\n",
              "      <th>CLM_FREQ</th>\n",
              "      <th>MVR_PTS</th>\n",
              "      <th>CLM_AMT</th>\n",
              "      <th>CAR_AGE</th>\n",
              "      <th>CLAIM_FLAG</th>\n",
              "    </tr>\n",
              "  </thead>\n",
              "  <tbody>\n",
              "    <tr>\n",
              "      <th>count</th>\n",
              "      <td>10302.000000</td>\n",
              "      <td>10295.000000</td>\n",
              "      <td>10302.000000</td>\n",
              "      <td>9754.000000</td>\n",
              "      <td>9732.000000</td>\n",
              "      <td>9727.000000</td>\n",
              "      <td>10302.000000</td>\n",
              "      <td>10302.000000</td>\n",
              "      <td>10302.000000</td>\n",
              "      <td>10302.000000</td>\n",
              "      <td>10302.000000</td>\n",
              "      <td>10302.000000</td>\n",
              "      <td>10302.000000</td>\n",
              "      <td>9663.000000</td>\n",
              "      <td>10302.000000</td>\n",
              "    </tr>\n",
              "    <tr>\n",
              "      <th>mean</th>\n",
              "      <td>0.169288</td>\n",
              "      <td>44.837397</td>\n",
              "      <td>0.720443</td>\n",
              "      <td>10.474062</td>\n",
              "      <td>61572.073263</td>\n",
              "      <td>154523.018608</td>\n",
              "      <td>33.416424</td>\n",
              "      <td>15659.923316</td>\n",
              "      <td>5.329159</td>\n",
              "      <td>4033.977868</td>\n",
              "      <td>0.800718</td>\n",
              "      <td>1.710153</td>\n",
              "      <td>1511.266453</td>\n",
              "      <td>8.298148</td>\n",
              "      <td>0.266550</td>\n",
              "    </tr>\n",
              "    <tr>\n",
              "      <th>std</th>\n",
              "      <td>0.506512</td>\n",
              "      <td>8.606445</td>\n",
              "      <td>1.116323</td>\n",
              "      <td>4.108943</td>\n",
              "      <td>47457.202749</td>\n",
              "      <td>129188.439405</td>\n",
              "      <td>15.869687</td>\n",
              "      <td>8428.765264</td>\n",
              "      <td>4.110795</td>\n",
              "      <td>8733.143119</td>\n",
              "      <td>1.154079</td>\n",
              "      <td>2.159015</td>\n",
              "      <td>4725.249896</td>\n",
              "      <td>5.714450</td>\n",
              "      <td>0.442177</td>\n",
              "    </tr>\n",
              "    <tr>\n",
              "      <th>min</th>\n",
              "      <td>0.000000</td>\n",
              "      <td>16.000000</td>\n",
              "      <td>0.000000</td>\n",
              "      <td>0.000000</td>\n",
              "      <td>0.000000</td>\n",
              "      <td>0.000000</td>\n",
              "      <td>5.000000</td>\n",
              "      <td>1500.000000</td>\n",
              "      <td>1.000000</td>\n",
              "      <td>0.000000</td>\n",
              "      <td>0.000000</td>\n",
              "      <td>0.000000</td>\n",
              "      <td>0.000000</td>\n",
              "      <td>-3.000000</td>\n",
              "      <td>0.000000</td>\n",
              "    </tr>\n",
              "    <tr>\n",
              "      <th>25%</th>\n",
              "      <td>0.000000</td>\n",
              "      <td>39.000000</td>\n",
              "      <td>0.000000</td>\n",
              "      <td>9.000000</td>\n",
              "      <td>27584.000000</td>\n",
              "      <td>0.000000</td>\n",
              "      <td>22.000000</td>\n",
              "      <td>9200.000000</td>\n",
              "      <td>1.000000</td>\n",
              "      <td>0.000000</td>\n",
              "      <td>0.000000</td>\n",
              "      <td>0.000000</td>\n",
              "      <td>0.000000</td>\n",
              "      <td>1.000000</td>\n",
              "      <td>0.000000</td>\n",
              "    </tr>\n",
              "    <tr>\n",
              "      <th>50%</th>\n",
              "      <td>0.000000</td>\n",
              "      <td>45.000000</td>\n",
              "      <td>0.000000</td>\n",
              "      <td>11.000000</td>\n",
              "      <td>53529.000000</td>\n",
              "      <td>160661.000000</td>\n",
              "      <td>33.000000</td>\n",
              "      <td>14400.000000</td>\n",
              "      <td>4.000000</td>\n",
              "      <td>0.000000</td>\n",
              "      <td>0.000000</td>\n",
              "      <td>1.000000</td>\n",
              "      <td>0.000000</td>\n",
              "      <td>8.000000</td>\n",
              "      <td>0.000000</td>\n",
              "    </tr>\n",
              "    <tr>\n",
              "      <th>75%</th>\n",
              "      <td>0.000000</td>\n",
              "      <td>51.000000</td>\n",
              "      <td>1.000000</td>\n",
              "      <td>13.000000</td>\n",
              "      <td>86166.000000</td>\n",
              "      <td>238256.000000</td>\n",
              "      <td>44.000000</td>\n",
              "      <td>20890.000000</td>\n",
              "      <td>7.000000</td>\n",
              "      <td>4647.500000</td>\n",
              "      <td>2.000000</td>\n",
              "      <td>3.000000</td>\n",
              "      <td>1144.750000</td>\n",
              "      <td>12.000000</td>\n",
              "      <td>1.000000</td>\n",
              "    </tr>\n",
              "    <tr>\n",
              "      <th>max</th>\n",
              "      <td>4.000000</td>\n",
              "      <td>81.000000</td>\n",
              "      <td>5.000000</td>\n",
              "      <td>23.000000</td>\n",
              "      <td>367030.000000</td>\n",
              "      <td>885282.000000</td>\n",
              "      <td>142.000000</td>\n",
              "      <td>69740.000000</td>\n",
              "      <td>25.000000</td>\n",
              "      <td>57037.000000</td>\n",
              "      <td>5.000000</td>\n",
              "      <td>13.000000</td>\n",
              "      <td>123247.000000</td>\n",
              "      <td>28.000000</td>\n",
              "      <td>1.000000</td>\n",
              "    </tr>\n",
              "  </tbody>\n",
              "</table>\n",
              "</div>"
            ],
            "text/plain": [
              "           KIDSDRIV           AGE  ...      CAR_AGE    CLAIM_FLAG\n",
              "count  10302.000000  10295.000000  ...  9663.000000  10302.000000\n",
              "mean       0.169288     44.837397  ...     8.298148      0.266550\n",
              "std        0.506512      8.606445  ...     5.714450      0.442177\n",
              "min        0.000000     16.000000  ...    -3.000000      0.000000\n",
              "25%        0.000000     39.000000  ...     1.000000      0.000000\n",
              "50%        0.000000     45.000000  ...     8.000000      0.000000\n",
              "75%        0.000000     51.000000  ...    12.000000      1.000000\n",
              "max        4.000000     81.000000  ...    28.000000      1.000000\n",
              "\n",
              "[8 rows x 15 columns]"
            ]
          },
          "metadata": {
            "tags": []
          },
          "execution_count": 13
        }
      ]
    },
    {
      "cell_type": "code",
      "metadata": {
        "colab": {
          "base_uri": "https://localhost:8080/",
          "height": 173
        },
        "id": "BkYQ6AyzbgyO",
        "outputId": "c02276e3-a1da-4200-b281-3ee70611bd89"
      },
      "source": [
        "data[cats].describe()"
      ],
      "execution_count": null,
      "outputs": [
        {
          "output_type": "execute_result",
          "data": {
            "text/html": [
              "<div>\n",
              "<style scoped>\n",
              "    .dataframe tbody tr th:only-of-type {\n",
              "        vertical-align: middle;\n",
              "    }\n",
              "\n",
              "    .dataframe tbody tr th {\n",
              "        vertical-align: top;\n",
              "    }\n",
              "\n",
              "    .dataframe thead th {\n",
              "        text-align: right;\n",
              "    }\n",
              "</style>\n",
              "<table border=\"1\" class=\"dataframe\">\n",
              "  <thead>\n",
              "    <tr style=\"text-align: right;\">\n",
              "      <th></th>\n",
              "      <th>PARENT1</th>\n",
              "      <th>MSTATUS</th>\n",
              "      <th>GENDER</th>\n",
              "      <th>EDUCATION</th>\n",
              "      <th>OCCUPATION</th>\n",
              "      <th>CAR_USE</th>\n",
              "      <th>CAR_TYPE</th>\n",
              "      <th>RED_CAR</th>\n",
              "      <th>REVOKED</th>\n",
              "    </tr>\n",
              "  </thead>\n",
              "  <tbody>\n",
              "    <tr>\n",
              "      <th>count</th>\n",
              "      <td>10302</td>\n",
              "      <td>10302</td>\n",
              "      <td>10302</td>\n",
              "      <td>10302</td>\n",
              "      <td>9637</td>\n",
              "      <td>10302</td>\n",
              "      <td>10302</td>\n",
              "      <td>10302</td>\n",
              "      <td>10302</td>\n",
              "    </tr>\n",
              "    <tr>\n",
              "      <th>unique</th>\n",
              "      <td>2</td>\n",
              "      <td>2</td>\n",
              "      <td>2</td>\n",
              "      <td>4</td>\n",
              "      <td>8</td>\n",
              "      <td>2</td>\n",
              "      <td>6</td>\n",
              "      <td>2</td>\n",
              "      <td>2</td>\n",
              "    </tr>\n",
              "    <tr>\n",
              "      <th>top</th>\n",
              "      <td>No</td>\n",
              "      <td>Yes</td>\n",
              "      <td>F</td>\n",
              "      <td>High School</td>\n",
              "      <td>Blue Collar</td>\n",
              "      <td>Private</td>\n",
              "      <td>SUV</td>\n",
              "      <td>no</td>\n",
              "      <td>No</td>\n",
              "    </tr>\n",
              "    <tr>\n",
              "      <th>freq</th>\n",
              "      <td>8959</td>\n",
              "      <td>6188</td>\n",
              "      <td>5545</td>\n",
              "      <td>4467</td>\n",
              "      <td>2288</td>\n",
              "      <td>6513</td>\n",
              "      <td>2883</td>\n",
              "      <td>7326</td>\n",
              "      <td>9041</td>\n",
              "    </tr>\n",
              "  </tbody>\n",
              "</table>\n",
              "</div>"
            ],
            "text/plain": [
              "       PARENT1 MSTATUS GENDER    EDUCATION  ...  CAR_USE CAR_TYPE RED_CAR REVOKED\n",
              "count    10302   10302  10302        10302  ...    10302    10302   10302   10302\n",
              "unique       2       2      2            4  ...        2        6       2       2\n",
              "top         No     Yes      F  High School  ...  Private      SUV      no      No\n",
              "freq      8959    6188   5545         4467  ...     6513     2883    7326    9041\n",
              "\n",
              "[4 rows x 9 columns]"
            ]
          },
          "metadata": {
            "tags": []
          },
          "execution_count": 14
        }
      ]
    },
    {
      "cell_type": "markdown",
      "metadata": {
        "id": "mASLkXxSqt01"
      },
      "source": [
        "## **Data Pre-Processing**"
      ]
    },
    {
      "cell_type": "markdown",
      "metadata": {
        "id": "Fnd6g5Jre7Cs"
      },
      "source": [
        "- Duplicate Data\n",
        "- Normalization / Standardization\n",
        "- Feature Encoding\n",
        "- Missing Data\n",
        "- Outliers\n",
        "- Class Imbalance"
      ]
    },
    {
      "cell_type": "markdown",
      "metadata": {
        "id": "-bRJb00oq-I1"
      },
      "source": [
        "### Duplicate Data"
      ]
    },
    {
      "cell_type": "code",
      "metadata": {
        "colab": {
          "base_uri": "https://localhost:8080/"
        },
        "id": "4Kt0wUh8rE3t",
        "outputId": "a6f25207-c3e9-491e-f063-ce206f8acc5f"
      },
      "source": [
        "print(data.duplicated().sum())\n",
        "print(data.duplicated(subset='ID').sum())"
      ],
      "execution_count": null,
      "outputs": [
        {
          "output_type": "stream",
          "text": [
            "1\n",
            "1549\n"
          ],
          "name": "stdout"
        }
      ]
    },
    {
      "cell_type": "code",
      "metadata": {
        "colab": {
          "base_uri": "https://localhost:8080/"
        },
        "id": "DNvACtfOujAI",
        "outputId": "ba43759a-34fb-4c41-a4fa-e28e76236e40"
      },
      "source": [
        "print(data.duplicated().sum())\n",
        "data_ad = data.drop_duplicates()\n",
        "print(data_ad.duplicated().sum())"
      ],
      "execution_count": null,
      "outputs": [
        {
          "output_type": "stream",
          "text": [
            "1\n",
            "0\n"
          ],
          "name": "stdout"
        }
      ]
    },
    {
      "cell_type": "markdown",
      "metadata": {
        "id": "TQshh0WVuu85"
      },
      "source": [
        "###Normalization / Standardization"
      ]
    },
    {
      "cell_type": "markdown",
      "metadata": {
        "id": "AW_OmH2Tu8VP"
      },
      "source": [
        "menggunakan standarisasi, ( NB: abaikan perubahan nama kolom)"
      ]
    },
    {
      "cell_type": "code",
      "metadata": {
        "id": "jPPTSFXmrK9q"
      },
      "source": [
        "import warnings\n",
        "warnings.filterwarnings('ignore')\n",
        "from sklearn.preprocessing import MinMaxScaler, StandardScaler\n",
        "data_ad['KIDSDRIV'] = StandardScaler().fit_transform(data_ad['KIDSDRIV'].values.reshape(len(data_ad), 1))\n",
        "data_ad['AGE_std'] = StandardScaler().fit_transform(data_ad['AGE'].values.reshape(len(data_ad), 1))\n",
        "data_ad['HOMEKIDS_norm'] = StandardScaler().fit_transform(data_ad['HOMEKIDS'].values.reshape(len(data_ad), 1))\n",
        "data_ad['YOJ_std'] = StandardScaler().fit_transform(data_ad['YOJ'].values.reshape(len(data_ad), 1))\n",
        "data_ad['INCOME_std'] = StandardScaler().fit_transform(data_ad['INCOME'].values.reshape(len(data_ad), 1))\n",
        "data_ad['HOME_VAL_norm'] = StandardScaler().fit_transform(data_ad['HOME_VAL'].values.reshape(len(data_ad), 1))\n",
        "data_ad['TRAVTIME_std'] = StandardScaler().fit_transform(data_ad['TRAVTIME'].values.reshape(len(data_ad), 1))\n",
        "data_ad['BLUEBOOK_std'] = StandardScaler().fit_transform(data_ad['BLUEBOOK'].values.reshape(len(data_ad), 1))\n",
        "data_ad['TIF_norm'] = StandardScaler().fit_transform(data_ad['TIF'].values.reshape(len(data_ad), 1))\n",
        "data_ad['OLDCLAIM_norm'] = StandardScaler().fit_transform(data_ad['OLDCLAIM'].values.reshape(len(data_ad), 1))\n",
        "data_ad['CLM_FREQ_norm'] = StandardScaler().fit_transform(data_ad['CLM_FREQ'].values.reshape(len(data_ad), 1))\n",
        "data_ad['MVR_PTS_norm'] = StandardScaler().fit_transform(data_ad['MVR_PTS'].values.reshape(len(data_ad), 1))\n",
        "data_ad['CLM_AMT_norm'] = StandardScaler().fit_transform(data_ad['CLM_AMT'].values.reshape(len(data_ad), 1))\n",
        "data_ad['CAR_AGE_std'] = StandardScaler().fit_transform(data_ad['CAR_AGE'].values.reshape(len(data_ad), 1))\n",
        "\n",
        "\n",
        "\n",
        "norm = ['AGE','YOJ','INCOME','HOME_VAL','TRAVTIME','BLUEBOOK','TIF','OLDCLAIM','CAR_AGE']\n",
        "data_ans = data_ad.drop(columns=norm)"
      ],
      "execution_count": null,
      "outputs": []
    },
    {
      "cell_type": "code",
      "metadata": {
        "id": "giXfQpGCvEnC"
      },
      "source": [
        "norm = ['AGE','HOMEKIDS', 'YOJ','INCOME','HOME_VAL','TRAVTIME','BLUEBOOK','TIF','OLDCLAIM','CLM_FREQ', 'MVR_PTS', 'CLM_AMT','CAR_AGE']\n",
        "data_ans = data_ad.drop(columns=norm)"
      ],
      "execution_count": null,
      "outputs": []
    },
    {
      "cell_type": "code",
      "metadata": {
        "colab": {
          "base_uri": "https://localhost:8080/",
          "height": 402
        },
        "id": "ay-19FD_vWWS",
        "outputId": "93406f38-a5a3-4952-d64c-a23332650f57"
      },
      "source": [
        "data_ans.describe()"
      ],
      "execution_count": null,
      "outputs": [
        {
          "output_type": "execute_result",
          "data": {
            "text/html": [
              "<div>\n",
              "<style scoped>\n",
              "    .dataframe tbody tr th:only-of-type {\n",
              "        vertical-align: middle;\n",
              "    }\n",
              "\n",
              "    .dataframe tbody tr th {\n",
              "        vertical-align: top;\n",
              "    }\n",
              "\n",
              "    .dataframe thead th {\n",
              "        text-align: right;\n",
              "    }\n",
              "</style>\n",
              "<table border=\"1\" class=\"dataframe\">\n",
              "  <thead>\n",
              "    <tr style=\"text-align: right;\">\n",
              "      <th></th>\n",
              "      <th>ID</th>\n",
              "      <th>KIDSDRIV</th>\n",
              "      <th>CLAIM_FLAG</th>\n",
              "      <th>AGE_std</th>\n",
              "      <th>HOMEKIDS_norm</th>\n",
              "      <th>YOJ_std</th>\n",
              "      <th>INCOME_std</th>\n",
              "      <th>HOME_VAL_norm</th>\n",
              "      <th>TRAVTIME_std</th>\n",
              "      <th>BLUEBOOK_std</th>\n",
              "      <th>TIF_norm</th>\n",
              "      <th>OLDCLAIM_norm</th>\n",
              "      <th>CLM_FREQ_norm</th>\n",
              "      <th>MVR_PTS_norm</th>\n",
              "      <th>CLM_AMT_norm</th>\n",
              "      <th>CAR_AGE_std</th>\n",
              "    </tr>\n",
              "  </thead>\n",
              "  <tbody>\n",
              "    <tr>\n",
              "      <th>count</th>\n",
              "      <td>1.030100e+04</td>\n",
              "      <td>1.030100e+04</td>\n",
              "      <td>10301.000000</td>\n",
              "      <td>1.029400e+04</td>\n",
              "      <td>1.030100e+04</td>\n",
              "      <td>9.753000e+03</td>\n",
              "      <td>9.731000e+03</td>\n",
              "      <td>9.726000e+03</td>\n",
              "      <td>1.030100e+04</td>\n",
              "      <td>1.030100e+04</td>\n",
              "      <td>1.030100e+04</td>\n",
              "      <td>1.030100e+04</td>\n",
              "      <td>1.030100e+04</td>\n",
              "      <td>1.030100e+04</td>\n",
              "      <td>1.030100e+04</td>\n",
              "      <td>9.662000e+03</td>\n",
              "    </tr>\n",
              "    <tr>\n",
              "      <th>mean</th>\n",
              "      <td>4.956841e+08</td>\n",
              "      <td>-4.333437e-16</td>\n",
              "      <td>0.266576</td>\n",
              "      <td>2.766390e-16</td>\n",
              "      <td>-4.131569e-16</td>\n",
              "      <td>-2.507934e-16</td>\n",
              "      <td>-2.618397e-18</td>\n",
              "      <td>3.682822e-16</td>\n",
              "      <td>-1.363610e-16</td>\n",
              "      <td>6.676858e-17</td>\n",
              "      <td>-3.030884e-16</td>\n",
              "      <td>4.071536e-16</td>\n",
              "      <td>-3.112418e-16</td>\n",
              "      <td>6.188623e-17</td>\n",
              "      <td>2.786066e-17</td>\n",
              "      <td>-1.950374e-16</td>\n",
              "    </tr>\n",
              "    <tr>\n",
              "      <th>std</th>\n",
              "      <td>2.864735e+08</td>\n",
              "      <td>1.000049e+00</td>\n",
              "      <td>0.442190</td>\n",
              "      <td>1.000049e+00</td>\n",
              "      <td>1.000049e+00</td>\n",
              "      <td>1.000051e+00</td>\n",
              "      <td>1.000051e+00</td>\n",
              "      <td>1.000051e+00</td>\n",
              "      <td>1.000049e+00</td>\n",
              "      <td>1.000049e+00</td>\n",
              "      <td>1.000049e+00</td>\n",
              "      <td>1.000049e+00</td>\n",
              "      <td>1.000049e+00</td>\n",
              "      <td>1.000049e+00</td>\n",
              "      <td>1.000049e+00</td>\n",
              "      <td>1.000052e+00</td>\n",
              "    </tr>\n",
              "    <tr>\n",
              "      <th>min</th>\n",
              "      <td>6.317500e+04</td>\n",
              "      <td>-3.342567e-01</td>\n",
              "      <td>0.000000</td>\n",
              "      <td>-3.350815e+00</td>\n",
              "      <td>-6.454467e-01</td>\n",
              "      <td>-2.549097e+00</td>\n",
              "      <td>-1.297384e+00</td>\n",
              "      <td>-1.196064e+00</td>\n",
              "      <td>-1.790644e+00</td>\n",
              "      <td>-1.679964e+00</td>\n",
              "      <td>-1.053279e+00</td>\n",
              "      <td>-4.619656e-01</td>\n",
              "      <td>-6.938997e-01</td>\n",
              "      <td>-7.921999e-01</td>\n",
              "      <td>-3.198605e-01</td>\n",
              "      <td>-1.977418e+00</td>\n",
              "    </tr>\n",
              "    <tr>\n",
              "      <th>25%</th>\n",
              "      <td>2.442710e+08</td>\n",
              "      <td>-3.342567e-01</td>\n",
              "      <td>0.000000</td>\n",
              "      <td>-6.783398e-01</td>\n",
              "      <td>-6.454467e-01</td>\n",
              "      <td>-3.586703e-01</td>\n",
              "      <td>-7.161527e-01</td>\n",
              "      <td>-1.196064e+00</td>\n",
              "      <td>-7.194153e-01</td>\n",
              "      <td>-7.664254e-01</td>\n",
              "      <td>-1.053279e+00</td>\n",
              "      <td>-4.619656e-01</td>\n",
              "      <td>-6.938997e-01</td>\n",
              "      <td>-7.921999e-01</td>\n",
              "      <td>-3.198605e-01</td>\n",
              "      <td>-1.277379e+00</td>\n",
              "    </tr>\n",
              "    <tr>\n",
              "      <th>50%</th>\n",
              "      <td>4.970541e+08</td>\n",
              "      <td>-3.342567e-01</td>\n",
              "      <td>0.000000</td>\n",
              "      <td>1.882772e-02</td>\n",
              "      <td>-6.454467e-01</td>\n",
              "      <td>1.280912e-01</td>\n",
              "      <td>-1.694794e-01</td>\n",
              "      <td>4.733715e-02</td>\n",
              "      <td>-2.626733e-02</td>\n",
              "      <td>-1.494900e-01</td>\n",
              "      <td>-3.234536e-01</td>\n",
              "      <td>-4.619656e-01</td>\n",
              "      <td>-6.938997e-01</td>\n",
              "      <td>-3.290116e-01</td>\n",
              "      <td>-3.198605e-01</td>\n",
              "      <td>-5.231092e-02</td>\n",
              "    </tr>\n",
              "    <tr>\n",
              "      <th>75%</th>\n",
              "      <td>7.395301e+08</td>\n",
              "      <td>-3.342567e-01</td>\n",
              "      <td>1.000000</td>\n",
              "      <td>7.159953e-01</td>\n",
              "      <td>2.503693e-01</td>\n",
              "      <td>6.148527e-01</td>\n",
              "      <td>5.177554e-01</td>\n",
              "      <td>6.481974e-01</td>\n",
              "      <td>6.668806e-01</td>\n",
              "      <td>6.204927e-01</td>\n",
              "      <td>4.063716e-01</td>\n",
              "      <td>7.026529e-02</td>\n",
              "      <td>1.039125e+00</td>\n",
              "      <td>5.973650e-01</td>\n",
              "      <td>-7.754404e-02</td>\n",
              "      <td>6.477280e-01</td>\n",
              "    </tr>\n",
              "    <tr>\n",
              "      <th>max</th>\n",
              "      <td>9.999264e+08</td>\n",
              "      <td>7.562940e+00</td>\n",
              "      <td>1.000000</td>\n",
              "      <td>4.201833e+00</td>\n",
              "      <td>3.833633e+00</td>\n",
              "      <td>3.048660e+00</td>\n",
              "      <td>6.436706e+00</td>\n",
              "      <td>5.656749e+00</td>\n",
              "      <td>6.842199e+00</td>\n",
              "      <td>6.416126e+00</td>\n",
              "      <td>4.785323e+00</td>\n",
              "      <td>6.069199e+00</td>\n",
              "      <td>3.638662e+00</td>\n",
              "      <td>5.229248e+00</td>\n",
              "      <td>2.576291e+01</td>\n",
              "      <td>3.447884e+00</td>\n",
              "    </tr>\n",
              "  </tbody>\n",
              "</table>\n",
              "</div>"
            ],
            "text/plain": [
              "                 ID      KIDSDRIV  ...  CLM_AMT_norm   CAR_AGE_std\n",
              "count  1.030100e+04  1.030100e+04  ...  1.030100e+04  9.662000e+03\n",
              "mean   4.956841e+08 -4.333437e-16  ...  2.786066e-17 -1.950374e-16\n",
              "std    2.864735e+08  1.000049e+00  ...  1.000049e+00  1.000052e+00\n",
              "min    6.317500e+04 -3.342567e-01  ... -3.198605e-01 -1.977418e+00\n",
              "25%    2.442710e+08 -3.342567e-01  ... -3.198605e-01 -1.277379e+00\n",
              "50%    4.970541e+08 -3.342567e-01  ... -3.198605e-01 -5.231092e-02\n",
              "75%    7.395301e+08 -3.342567e-01  ... -7.754404e-02  6.477280e-01\n",
              "max    9.999264e+08  7.562940e+00  ...  2.576291e+01  3.447884e+00\n",
              "\n",
              "[8 rows x 16 columns]"
            ]
          },
          "metadata": {
            "tags": []
          },
          "execution_count": 19
        }
      ]
    },
    {
      "cell_type": "markdown",
      "metadata": {
        "id": "zeJUjqj7viuQ"
      },
      "source": [
        "### Feature Encoding"
      ]
    },
    {
      "cell_type": "code",
      "metadata": {
        "id": "nHlEnapgvbTj"
      },
      "source": [
        "data_ans['OCCUPATION'] = data_ans['OCCUPATION'].fillna('Blue Collar')"
      ],
      "execution_count": null,
      "outputs": []
    },
    {
      "cell_type": "code",
      "metadata": {
        "id": "L_KJfxtqvwvB"
      },
      "source": [
        "for catt in cats:\n",
        "    onehots = pd.get_dummies(data_ans[catt], prefix=catt)\n",
        "    data_ans = data_ans.join(onehots)"
      ],
      "execution_count": null,
      "outputs": []
    },
    {
      "cell_type": "code",
      "metadata": {
        "id": "GKGb9RnOwFjL"
      },
      "source": [
        "data_afe = data_ans.copy()"
      ],
      "execution_count": null,
      "outputs": []
    },
    {
      "cell_type": "code",
      "metadata": {
        "colab": {
          "base_uri": "https://localhost:8080/",
          "height": 179
        },
        "id": "i3EPWF6QnmyL",
        "outputId": "f597b42d-822b-4b05-a41b-342e88dcff6a"
      },
      "source": [
        "data_afe = data_afe.drop(['PARENT1', 'PARENT1_No','MSTATUS','MSTATUS_No','GENDER',\n",
        "                  'GENDER_F','RED_CAR','RED_CAR_no','REVOKED','REVOKED_No',\n",
        "                  'CAR_TYPE', 'CAR_USE_Commercial','CAR_USE','EDUCATION',\n",
        "                  'OCCUPATION'], axis=1)\n",
        "data_afe.sample(3)"
      ],
      "execution_count": null,
      "outputs": [
        {
          "output_type": "execute_result",
          "data": {
            "text/html": [
              "<div>\n",
              "<style scoped>\n",
              "    .dataframe tbody tr th:only-of-type {\n",
              "        vertical-align: middle;\n",
              "    }\n",
              "\n",
              "    .dataframe tbody tr th {\n",
              "        vertical-align: top;\n",
              "    }\n",
              "\n",
              "    .dataframe thead th {\n",
              "        text-align: right;\n",
              "    }\n",
              "</style>\n",
              "<table border=\"1\" class=\"dataframe\">\n",
              "  <thead>\n",
              "    <tr style=\"text-align: right;\">\n",
              "      <th></th>\n",
              "      <th>ID</th>\n",
              "      <th>KIDSDRIV</th>\n",
              "      <th>CLAIM_FLAG</th>\n",
              "      <th>AGE_std</th>\n",
              "      <th>HOMEKIDS_norm</th>\n",
              "      <th>YOJ_std</th>\n",
              "      <th>INCOME_std</th>\n",
              "      <th>HOME_VAL_norm</th>\n",
              "      <th>TRAVTIME_std</th>\n",
              "      <th>BLUEBOOK_std</th>\n",
              "      <th>TIF_norm</th>\n",
              "      <th>OLDCLAIM_norm</th>\n",
              "      <th>CLM_FREQ_norm</th>\n",
              "      <th>MVR_PTS_norm</th>\n",
              "      <th>CLM_AMT_norm</th>\n",
              "      <th>CAR_AGE_std</th>\n",
              "      <th>PARENT1_Yes</th>\n",
              "      <th>MSTATUS_Yes</th>\n",
              "      <th>GENDER_M</th>\n",
              "      <th>EDUCATION_Bachelors</th>\n",
              "      <th>EDUCATION_High School</th>\n",
              "      <th>EDUCATION_Masters</th>\n",
              "      <th>EDUCATION_PhD</th>\n",
              "      <th>OCCUPATION_Blue Collar</th>\n",
              "      <th>OCCUPATION_Clerical</th>\n",
              "      <th>OCCUPATION_Doctor</th>\n",
              "      <th>OCCUPATION_Home Maker</th>\n",
              "      <th>OCCUPATION_Lawyer</th>\n",
              "      <th>OCCUPATION_Manager</th>\n",
              "      <th>OCCUPATION_Professional</th>\n",
              "      <th>OCCUPATION_Student</th>\n",
              "      <th>CAR_USE_Private</th>\n",
              "      <th>CAR_TYPE_Minivan</th>\n",
              "      <th>CAR_TYPE_Panel Truck</th>\n",
              "      <th>CAR_TYPE_Pickup</th>\n",
              "      <th>CAR_TYPE_SUV</th>\n",
              "      <th>CAR_TYPE_Sports Car</th>\n",
              "      <th>CAR_TYPE_Van</th>\n",
              "      <th>RED_CAR_yes</th>\n",
              "      <th>REVOKED_Yes</th>\n",
              "    </tr>\n",
              "  </thead>\n",
              "  <tbody>\n",
              "    <tr>\n",
              "      <th>10261</th>\n",
              "      <td>775571725</td>\n",
              "      <td>-0.334257</td>\n",
              "      <td>0</td>\n",
              "      <td>1.296968</td>\n",
              "      <td>1.146185</td>\n",
              "      <td>1.831757</td>\n",
              "      <td>1.071541</td>\n",
              "      <td>1.241383</td>\n",
              "      <td>0.099760</td>\n",
              "      <td>3.530767</td>\n",
              "      <td>0.163097</td>\n",
              "      <td>-0.461966</td>\n",
              "      <td>-0.6939</td>\n",
              "      <td>-0.792200</td>\n",
              "      <td>-0.31986</td>\n",
              "      <td>-0.227321</td>\n",
              "      <td>0</td>\n",
              "      <td>1</td>\n",
              "      <td>0</td>\n",
              "      <td>1</td>\n",
              "      <td>0</td>\n",
              "      <td>0</td>\n",
              "      <td>0</td>\n",
              "      <td>0</td>\n",
              "      <td>0</td>\n",
              "      <td>0</td>\n",
              "      <td>0</td>\n",
              "      <td>0</td>\n",
              "      <td>0</td>\n",
              "      <td>1</td>\n",
              "      <td>0</td>\n",
              "      <td>1</td>\n",
              "      <td>0</td>\n",
              "      <td>0</td>\n",
              "      <td>0</td>\n",
              "      <td>0</td>\n",
              "      <td>0</td>\n",
              "      <td>1</td>\n",
              "      <td>0</td>\n",
              "      <td>0</td>\n",
              "    </tr>\n",
              "    <tr>\n",
              "      <th>3858</th>\n",
              "      <td>14251930</td>\n",
              "      <td>1.640043</td>\n",
              "      <td>0</td>\n",
              "      <td>-0.678340</td>\n",
              "      <td>1.146185</td>\n",
              "      <td>0.858234</td>\n",
              "      <td>-0.527579</td>\n",
              "      <td>-0.137885</td>\n",
              "      <td>-0.089281</td>\n",
              "      <td>-1.246923</td>\n",
              "      <td>-1.053279</td>\n",
              "      <td>-0.461966</td>\n",
              "      <td>-0.6939</td>\n",
              "      <td>1.060553</td>\n",
              "      <td>-0.31986</td>\n",
              "      <td>NaN</td>\n",
              "      <td>0</td>\n",
              "      <td>1</td>\n",
              "      <td>1</td>\n",
              "      <td>0</td>\n",
              "      <td>1</td>\n",
              "      <td>0</td>\n",
              "      <td>0</td>\n",
              "      <td>0</td>\n",
              "      <td>1</td>\n",
              "      <td>0</td>\n",
              "      <td>0</td>\n",
              "      <td>0</td>\n",
              "      <td>0</td>\n",
              "      <td>0</td>\n",
              "      <td>0</td>\n",
              "      <td>1</td>\n",
              "      <td>0</td>\n",
              "      <td>0</td>\n",
              "      <td>1</td>\n",
              "      <td>0</td>\n",
              "      <td>0</td>\n",
              "      <td>0</td>\n",
              "      <td>0</td>\n",
              "      <td>0</td>\n",
              "    </tr>\n",
              "    <tr>\n",
              "      <th>7027</th>\n",
              "      <td>93202709</td>\n",
              "      <td>-0.334257</td>\n",
              "      <td>0</td>\n",
              "      <td>-1.259313</td>\n",
              "      <td>1.146185</td>\n",
              "      <td>-0.602051</td>\n",
              "      <td>NaN</td>\n",
              "      <td>-0.310335</td>\n",
              "      <td>-1.097496</td>\n",
              "      <td>-0.907609</td>\n",
              "      <td>-1.053279</td>\n",
              "      <td>-0.461966</td>\n",
              "      <td>-0.6939</td>\n",
              "      <td>-0.792200</td>\n",
              "      <td>-0.31986</td>\n",
              "      <td>-1.277379</td>\n",
              "      <td>1</td>\n",
              "      <td>0</td>\n",
              "      <td>1</td>\n",
              "      <td>0</td>\n",
              "      <td>1</td>\n",
              "      <td>0</td>\n",
              "      <td>0</td>\n",
              "      <td>1</td>\n",
              "      <td>0</td>\n",
              "      <td>0</td>\n",
              "      <td>0</td>\n",
              "      <td>0</td>\n",
              "      <td>0</td>\n",
              "      <td>0</td>\n",
              "      <td>0</td>\n",
              "      <td>0</td>\n",
              "      <td>0</td>\n",
              "      <td>0</td>\n",
              "      <td>1</td>\n",
              "      <td>0</td>\n",
              "      <td>0</td>\n",
              "      <td>0</td>\n",
              "      <td>0</td>\n",
              "      <td>0</td>\n",
              "    </tr>\n",
              "  </tbody>\n",
              "</table>\n",
              "</div>"
            ],
            "text/plain": [
              "              ID  KIDSDRIV  CLAIM_FLAG  ...  CAR_TYPE_Van  RED_CAR_yes  REVOKED_Yes\n",
              "10261  775571725 -0.334257           0  ...             1            0            0\n",
              "3858    14251930  1.640043           0  ...             0            0            0\n",
              "7027    93202709 -0.334257           0  ...             0            0            0\n",
              "\n",
              "[3 rows x 40 columns]"
            ]
          },
          "metadata": {
            "tags": []
          },
          "execution_count": 23
        }
      ]
    },
    {
      "cell_type": "markdown",
      "metadata": {
        "id": "ZyLAXOaowRM6"
      },
      "source": [
        "### Missing Data"
      ]
    },
    {
      "cell_type": "code",
      "metadata": {
        "colab": {
          "base_uri": "https://localhost:8080/"
        },
        "id": "nhmAGUPywGPz",
        "outputId": "5a12b096-a34d-48c0-8257-b7e62ca7c701"
      },
      "source": [
        "data_afe.columns[data_afe.isna().any()]"
      ],
      "execution_count": null,
      "outputs": [
        {
          "output_type": "execute_result",
          "data": {
            "text/plain": [
              "Index(['AGE_std', 'YOJ_std', 'INCOME_std', 'HOME_VAL_norm', 'CAR_AGE_std'], dtype='object')"
            ]
          },
          "metadata": {
            "tags": []
          },
          "execution_count": 24
        }
      ]
    },
    {
      "cell_type": "code",
      "metadata": {
        "id": "Aoj5kV4mw8oA"
      },
      "source": [
        "from sklearn.impute import KNNImputer\n",
        "imputer = KNNImputer(n_neighbors=5)\n",
        "data_afe = pd.DataFrame(imputer.fit_transform(data_afe),columns = data_afe.columns)"
      ],
      "execution_count": null,
      "outputs": []
    },
    {
      "cell_type": "code",
      "metadata": {
        "colab": {
          "base_uri": "https://localhost:8080/"
        },
        "id": "c2qs-eDJwWWa",
        "outputId": "950231ac-92d3-4371-93ea-38ae713341e5"
      },
      "source": [
        "data_afe.isna().any()"
      ],
      "execution_count": null,
      "outputs": [
        {
          "output_type": "execute_result",
          "data": {
            "text/plain": [
              "ID                         False\n",
              "KIDSDRIV                   False\n",
              "CLAIM_FLAG                 False\n",
              "AGE_std                    False\n",
              "HOMEKIDS_norm              False\n",
              "YOJ_std                    False\n",
              "INCOME_std                 False\n",
              "HOME_VAL_norm              False\n",
              "TRAVTIME_std               False\n",
              "BLUEBOOK_std               False\n",
              "TIF_norm                   False\n",
              "OLDCLAIM_norm              False\n",
              "CLM_FREQ_norm              False\n",
              "MVR_PTS_norm               False\n",
              "CLM_AMT_norm               False\n",
              "CAR_AGE_std                False\n",
              "PARENT1_Yes                False\n",
              "MSTATUS_Yes                False\n",
              "GENDER_M                   False\n",
              "EDUCATION_Bachelors        False\n",
              "EDUCATION_High School      False\n",
              "EDUCATION_Masters          False\n",
              "EDUCATION_PhD              False\n",
              "OCCUPATION_Blue Collar     False\n",
              "OCCUPATION_Clerical        False\n",
              "OCCUPATION_Doctor          False\n",
              "OCCUPATION_Home Maker      False\n",
              "OCCUPATION_Lawyer          False\n",
              "OCCUPATION_Manager         False\n",
              "OCCUPATION_Professional    False\n",
              "OCCUPATION_Student         False\n",
              "CAR_USE_Private            False\n",
              "CAR_TYPE_Minivan           False\n",
              "CAR_TYPE_Panel Truck       False\n",
              "CAR_TYPE_Pickup            False\n",
              "CAR_TYPE_SUV               False\n",
              "CAR_TYPE_Sports Car        False\n",
              "CAR_TYPE_Van               False\n",
              "RED_CAR_yes                False\n",
              "REVOKED_Yes                False\n",
              "dtype: bool"
            ]
          },
          "metadata": {
            "tags": []
          },
          "execution_count": 26
        }
      ]
    },
    {
      "cell_type": "code",
      "metadata": {
        "id": "9lBGC98qqmy0"
      },
      "source": [
        "data_amd = data_afe.copy()"
      ],
      "execution_count": null,
      "outputs": []
    },
    {
      "cell_type": "markdown",
      "metadata": {
        "id": "N7FUXnZA2Iae"
      },
      "source": [
        "### Outlier"
      ]
    },
    {
      "cell_type": "code",
      "metadata": {
        "id": "tV71SePO9bKp"
      },
      "source": [
        "out =['KIDSDRIV','HOMEKIDS_norm', 'CLM_FREQ_norm', 'MVR_PTS_norm', 'AGE_std' , 'YOJ_std','INCOME_std', 'HOME_VAL_norm','TRAVTIME_std','BLUEBOOK_std','TIF_norm','TIF_norm', 'OLDCLAIM_norm', 'CLM_AMT_norm','CAR_AGE_std']"
      ],
      "execution_count": null,
      "outputs": []
    },
    {
      "cell_type": "code",
      "metadata": {
        "id": "JO3e5bzW8ja8"
      },
      "source": [
        "def replace_outlier(val, low_limit, high_limit):\n",
        "  if val <= low_limit:\n",
        "    return low_limit\n",
        "  elif val >= high_limit:\n",
        "    return high_limit\n",
        "  return val"
      ],
      "execution_count": null,
      "outputs": []
    },
    {
      "cell_type": "code",
      "metadata": {
        "id": "F_xIHUBe27Ff"
      },
      "source": [
        "for col in out:\n",
        "  Q1 = data_amd[col].quantile(0.25)\n",
        "  Q3 = data_amd[col].quantile(0.75)\n",
        "  IQR = Q3 - Q1\n",
        "  low_limit = Q1 - (IQR * 1.5)\n",
        "  high_limit = Q3 + (IQR * 1.5)\n",
        "  data_amd[col] = data_amd[col].map(lambda x: replace_outlier(x, low_limit, high_limit))"
      ],
      "execution_count": null,
      "outputs": []
    },
    {
      "cell_type": "code",
      "metadata": {
        "colab": {
          "base_uri": "https://localhost:8080/"
        },
        "id": "8GdSBJXx2-zI",
        "outputId": "d45288eb-9ae5-44d6-ea3a-d2589fa726f9"
      },
      "source": [
        "data_aout = data_amd.copy()\n",
        "len(data_aout)"
      ],
      "execution_count": null,
      "outputs": [
        {
          "output_type": "execute_result",
          "data": {
            "text/plain": [
              "10301"
            ]
          },
          "metadata": {
            "tags": []
          },
          "execution_count": 31
        }
      ]
    },
    {
      "cell_type": "code",
      "metadata": {
        "colab": {
          "base_uri": "https://localhost:8080/",
          "height": 436
        },
        "id": "9vun5gNHG4ln",
        "outputId": "e100cc10-75b7-4a04-895c-75cfc67272a5"
      },
      "source": [
        "data_aout.describe()"
      ],
      "execution_count": null,
      "outputs": [
        {
          "output_type": "execute_result",
          "data": {
            "text/html": [
              "<div>\n",
              "<style scoped>\n",
              "    .dataframe tbody tr th:only-of-type {\n",
              "        vertical-align: middle;\n",
              "    }\n",
              "\n",
              "    .dataframe tbody tr th {\n",
              "        vertical-align: top;\n",
              "    }\n",
              "\n",
              "    .dataframe thead th {\n",
              "        text-align: right;\n",
              "    }\n",
              "</style>\n",
              "<table border=\"1\" class=\"dataframe\">\n",
              "  <thead>\n",
              "    <tr style=\"text-align: right;\">\n",
              "      <th></th>\n",
              "      <th>ID</th>\n",
              "      <th>KIDSDRIV</th>\n",
              "      <th>CLAIM_FLAG</th>\n",
              "      <th>AGE_std</th>\n",
              "      <th>HOMEKIDS_norm</th>\n",
              "      <th>YOJ_std</th>\n",
              "      <th>INCOME_std</th>\n",
              "      <th>HOME_VAL_norm</th>\n",
              "      <th>TRAVTIME_std</th>\n",
              "      <th>BLUEBOOK_std</th>\n",
              "      <th>TIF_norm</th>\n",
              "      <th>OLDCLAIM_norm</th>\n",
              "      <th>CLM_FREQ_norm</th>\n",
              "      <th>MVR_PTS_norm</th>\n",
              "      <th>CLM_AMT_norm</th>\n",
              "      <th>CAR_AGE_std</th>\n",
              "      <th>PARENT1_Yes</th>\n",
              "      <th>MSTATUS_Yes</th>\n",
              "      <th>GENDER_M</th>\n",
              "      <th>EDUCATION_Bachelors</th>\n",
              "      <th>EDUCATION_High School</th>\n",
              "      <th>EDUCATION_Masters</th>\n",
              "      <th>EDUCATION_PhD</th>\n",
              "      <th>OCCUPATION_Blue Collar</th>\n",
              "      <th>OCCUPATION_Clerical</th>\n",
              "      <th>OCCUPATION_Doctor</th>\n",
              "      <th>OCCUPATION_Home Maker</th>\n",
              "      <th>OCCUPATION_Lawyer</th>\n",
              "      <th>OCCUPATION_Manager</th>\n",
              "      <th>OCCUPATION_Professional</th>\n",
              "      <th>OCCUPATION_Student</th>\n",
              "      <th>CAR_USE_Private</th>\n",
              "      <th>CAR_TYPE_Minivan</th>\n",
              "      <th>CAR_TYPE_Panel Truck</th>\n",
              "      <th>CAR_TYPE_Pickup</th>\n",
              "      <th>CAR_TYPE_SUV</th>\n",
              "      <th>CAR_TYPE_Sports Car</th>\n",
              "      <th>CAR_TYPE_Van</th>\n",
              "      <th>RED_CAR_yes</th>\n",
              "      <th>REVOKED_Yes</th>\n",
              "    </tr>\n",
              "  </thead>\n",
              "  <tbody>\n",
              "    <tr>\n",
              "      <th>count</th>\n",
              "      <td>1.030100e+04</td>\n",
              "      <td>1.030100e+04</td>\n",
              "      <td>10301.000000</td>\n",
              "      <td>10301.000000</td>\n",
              "      <td>10301.000000</td>\n",
              "      <td>10301.000000</td>\n",
              "      <td>10301.000000</td>\n",
              "      <td>10301.000000</td>\n",
              "      <td>10301.000000</td>\n",
              "      <td>10301.000000</td>\n",
              "      <td>10301.000000</td>\n",
              "      <td>10301.000000</td>\n",
              "      <td>1.030100e+04</td>\n",
              "      <td>10301.000000</td>\n",
              "      <td>10301.000000</td>\n",
              "      <td>10301.000000</td>\n",
              "      <td>10301.000000</td>\n",
              "      <td>10301.000000</td>\n",
              "      <td>10301.000000</td>\n",
              "      <td>10301.000000</td>\n",
              "      <td>10301.000000</td>\n",
              "      <td>10301.000000</td>\n",
              "      <td>10301.000000</td>\n",
              "      <td>10301.000000</td>\n",
              "      <td>10301.000000</td>\n",
              "      <td>10301.000000</td>\n",
              "      <td>10301.000000</td>\n",
              "      <td>10301.000000</td>\n",
              "      <td>10301.000000</td>\n",
              "      <td>10301.000000</td>\n",
              "      <td>10301.000000</td>\n",
              "      <td>10301.000000</td>\n",
              "      <td>10301.000000</td>\n",
              "      <td>10301.000000</td>\n",
              "      <td>10301.000000</td>\n",
              "      <td>10301.000000</td>\n",
              "      <td>10301.000000</td>\n",
              "      <td>10301.000000</td>\n",
              "      <td>10301.000000</td>\n",
              "      <td>10301.000000</td>\n",
              "    </tr>\n",
              "    <tr>\n",
              "      <th>mean</th>\n",
              "      <td>4.956841e+08</td>\n",
              "      <td>-3.342567e-01</td>\n",
              "      <td>0.266576</td>\n",
              "      <td>-0.000123</td>\n",
              "      <td>-0.067354</td>\n",
              "      <td>0.056379</td>\n",
              "      <td>-0.023166</td>\n",
              "      <td>-0.000535</td>\n",
              "      <td>-0.005028</td>\n",
              "      <td>-0.006173</td>\n",
              "      <td>-0.008715</td>\n",
              "      <td>-0.172772</td>\n",
              "      <td>-3.112418e-16</td>\n",
              "      <td>-0.011129</td>\n",
              "      <td>-0.175607</td>\n",
              "      <td>0.000124</td>\n",
              "      <td>0.130376</td>\n",
              "      <td>0.600621</td>\n",
              "      <td>0.461703</td>\n",
              "      <td>0.273954</td>\n",
              "      <td>0.433647</td>\n",
              "      <td>0.201728</td>\n",
              "      <td>0.090671</td>\n",
              "      <td>0.286671</td>\n",
              "      <td>0.154354</td>\n",
              "      <td>0.031162</td>\n",
              "      <td>0.081837</td>\n",
              "      <td>0.100087</td>\n",
              "      <td>0.122027</td>\n",
              "      <td>0.136589</td>\n",
              "      <td>0.087273</td>\n",
              "      <td>0.632172</td>\n",
              "      <td>0.261431</td>\n",
              "      <td>0.082807</td>\n",
              "      <td>0.172022</td>\n",
              "      <td>0.279876</td>\n",
              "      <td>0.114455</td>\n",
              "      <td>0.089409</td>\n",
              "      <td>0.288807</td>\n",
              "      <td>0.122415</td>\n",
              "    </tr>\n",
              "    <tr>\n",
              "      <th>std</th>\n",
              "      <td>2.864735e+08</td>\n",
              "      <td>3.897072e-14</td>\n",
              "      <td>0.442190</td>\n",
              "      <td>0.995296</td>\n",
              "      <td>0.848605</td>\n",
              "      <td>0.838558</td>\n",
              "      <td>0.906028</td>\n",
              "      <td>0.974999</td>\n",
              "      <td>0.982384</td>\n",
              "      <td>0.979270</td>\n",
              "      <td>0.973599</td>\n",
              "      <td>0.441542</td>\n",
              "      <td>1.000049e+00</td>\n",
              "      <td>0.964157</td>\n",
              "      <td>0.248499</td>\n",
              "      <td>0.975948</td>\n",
              "      <td>0.336733</td>\n",
              "      <td>0.489794</td>\n",
              "      <td>0.498555</td>\n",
              "      <td>0.446007</td>\n",
              "      <td>0.495602</td>\n",
              "      <td>0.401310</td>\n",
              "      <td>0.287154</td>\n",
              "      <td>0.452229</td>\n",
              "      <td>0.361305</td>\n",
              "      <td>0.173764</td>\n",
              "      <td>0.274129</td>\n",
              "      <td>0.300131</td>\n",
              "      <td>0.327333</td>\n",
              "      <td>0.343429</td>\n",
              "      <td>0.282249</td>\n",
              "      <td>0.482238</td>\n",
              "      <td>0.439435</td>\n",
              "      <td>0.275604</td>\n",
              "      <td>0.377418</td>\n",
              "      <td>0.448960</td>\n",
              "      <td>0.318378</td>\n",
              "      <td>0.285347</td>\n",
              "      <td>0.453230</td>\n",
              "      <td>0.327781</td>\n",
              "    </tr>\n",
              "    <tr>\n",
              "      <th>min</th>\n",
              "      <td>6.317500e+04</td>\n",
              "      <td>-3.342567e-01</td>\n",
              "      <td>0.000000</td>\n",
              "      <td>-2.769842</td>\n",
              "      <td>-0.645447</td>\n",
              "      <td>-1.818955</td>\n",
              "      <td>-1.297384</td>\n",
              "      <td>-1.196064</td>\n",
              "      <td>-1.790644</td>\n",
              "      <td>-1.679964</td>\n",
              "      <td>-1.053279</td>\n",
              "      <td>-0.461966</td>\n",
              "      <td>-6.938997e-01</td>\n",
              "      <td>-0.792200</td>\n",
              "      <td>-0.319860</td>\n",
              "      <td>-1.977418</td>\n",
              "      <td>0.000000</td>\n",
              "      <td>0.000000</td>\n",
              "      <td>0.000000</td>\n",
              "      <td>0.000000</td>\n",
              "      <td>0.000000</td>\n",
              "      <td>0.000000</td>\n",
              "      <td>0.000000</td>\n",
              "      <td>0.000000</td>\n",
              "      <td>0.000000</td>\n",
              "      <td>0.000000</td>\n",
              "      <td>0.000000</td>\n",
              "      <td>0.000000</td>\n",
              "      <td>0.000000</td>\n",
              "      <td>0.000000</td>\n",
              "      <td>0.000000</td>\n",
              "      <td>0.000000</td>\n",
              "      <td>0.000000</td>\n",
              "      <td>0.000000</td>\n",
              "      <td>0.000000</td>\n",
              "      <td>0.000000</td>\n",
              "      <td>0.000000</td>\n",
              "      <td>0.000000</td>\n",
              "      <td>0.000000</td>\n",
              "      <td>0.000000</td>\n",
              "    </tr>\n",
              "    <tr>\n",
              "      <th>25%</th>\n",
              "      <td>2.442710e+08</td>\n",
              "      <td>-3.342567e-01</td>\n",
              "      <td>0.000000</td>\n",
              "      <td>-0.678340</td>\n",
              "      <td>-0.645447</td>\n",
              "      <td>-0.358670</td>\n",
              "      <td>-0.690993</td>\n",
              "      <td>-1.196064</td>\n",
              "      <td>-0.719415</td>\n",
              "      <td>-0.766425</td>\n",
              "      <td>-1.053279</td>\n",
              "      <td>-0.461966</td>\n",
              "      <td>-6.938997e-01</td>\n",
              "      <td>-0.792200</td>\n",
              "      <td>-0.319860</td>\n",
              "      <td>-0.927360</td>\n",
              "      <td>0.000000</td>\n",
              "      <td>0.000000</td>\n",
              "      <td>0.000000</td>\n",
              "      <td>0.000000</td>\n",
              "      <td>0.000000</td>\n",
              "      <td>0.000000</td>\n",
              "      <td>0.000000</td>\n",
              "      <td>0.000000</td>\n",
              "      <td>0.000000</td>\n",
              "      <td>0.000000</td>\n",
              "      <td>0.000000</td>\n",
              "      <td>0.000000</td>\n",
              "      <td>0.000000</td>\n",
              "      <td>0.000000</td>\n",
              "      <td>0.000000</td>\n",
              "      <td>0.000000</td>\n",
              "      <td>0.000000</td>\n",
              "      <td>0.000000</td>\n",
              "      <td>0.000000</td>\n",
              "      <td>0.000000</td>\n",
              "      <td>0.000000</td>\n",
              "      <td>0.000000</td>\n",
              "      <td>0.000000</td>\n",
              "      <td>0.000000</td>\n",
              "    </tr>\n",
              "    <tr>\n",
              "      <th>50%</th>\n",
              "      <td>4.970541e+08</td>\n",
              "      <td>-3.342567e-01</td>\n",
              "      <td>0.000000</td>\n",
              "      <td>0.018828</td>\n",
              "      <td>-0.645447</td>\n",
              "      <td>0.128091</td>\n",
              "      <td>-0.155340</td>\n",
              "      <td>0.041431</td>\n",
              "      <td>-0.026267</td>\n",
              "      <td>-0.149490</td>\n",
              "      <td>-0.323454</td>\n",
              "      <td>-0.461966</td>\n",
              "      <td>-6.938997e-01</td>\n",
              "      <td>-0.329012</td>\n",
              "      <td>-0.319860</td>\n",
              "      <td>-0.052311</td>\n",
              "      <td>0.000000</td>\n",
              "      <td>1.000000</td>\n",
              "      <td>0.000000</td>\n",
              "      <td>0.000000</td>\n",
              "      <td>0.000000</td>\n",
              "      <td>0.000000</td>\n",
              "      <td>0.000000</td>\n",
              "      <td>0.000000</td>\n",
              "      <td>0.000000</td>\n",
              "      <td>0.000000</td>\n",
              "      <td>0.000000</td>\n",
              "      <td>0.000000</td>\n",
              "      <td>0.000000</td>\n",
              "      <td>0.000000</td>\n",
              "      <td>0.000000</td>\n",
              "      <td>1.000000</td>\n",
              "      <td>0.000000</td>\n",
              "      <td>0.000000</td>\n",
              "      <td>0.000000</td>\n",
              "      <td>0.000000</td>\n",
              "      <td>0.000000</td>\n",
              "      <td>0.000000</td>\n",
              "      <td>0.000000</td>\n",
              "      <td>0.000000</td>\n",
              "    </tr>\n",
              "    <tr>\n",
              "      <th>75%</th>\n",
              "      <td>7.395301e+08</td>\n",
              "      <td>-3.342567e-01</td>\n",
              "      <td>1.000000</td>\n",
              "      <td>0.715995</td>\n",
              "      <td>0.250369</td>\n",
              "      <td>0.614853</td>\n",
              "      <td>0.496420</td>\n",
              "      <td>0.626428</td>\n",
              "      <td>0.666881</td>\n",
              "      <td>0.620493</td>\n",
              "      <td>0.406372</td>\n",
              "      <td>0.070265</td>\n",
              "      <td>1.039125e+00</td>\n",
              "      <td>0.597365</td>\n",
              "      <td>-0.077544</td>\n",
              "      <td>0.647728</td>\n",
              "      <td>0.000000</td>\n",
              "      <td>1.000000</td>\n",
              "      <td>1.000000</td>\n",
              "      <td>1.000000</td>\n",
              "      <td>1.000000</td>\n",
              "      <td>0.000000</td>\n",
              "      <td>0.000000</td>\n",
              "      <td>1.000000</td>\n",
              "      <td>0.000000</td>\n",
              "      <td>0.000000</td>\n",
              "      <td>0.000000</td>\n",
              "      <td>0.000000</td>\n",
              "      <td>0.000000</td>\n",
              "      <td>0.000000</td>\n",
              "      <td>0.000000</td>\n",
              "      <td>1.000000</td>\n",
              "      <td>1.000000</td>\n",
              "      <td>0.000000</td>\n",
              "      <td>0.000000</td>\n",
              "      <td>1.000000</td>\n",
              "      <td>0.000000</td>\n",
              "      <td>0.000000</td>\n",
              "      <td>1.000000</td>\n",
              "      <td>0.000000</td>\n",
              "    </tr>\n",
              "    <tr>\n",
              "      <th>max</th>\n",
              "      <td>9.999264e+08</td>\n",
              "      <td>-3.342567e-01</td>\n",
              "      <td>1.000000</td>\n",
              "      <td>2.807498</td>\n",
              "      <td>1.594093</td>\n",
              "      <td>2.075137</td>\n",
              "      <td>2.277539</td>\n",
              "      <td>3.360166</td>\n",
              "      <td>2.746325</td>\n",
              "      <td>2.700870</td>\n",
              "      <td>2.595847</td>\n",
              "      <td>0.868612</td>\n",
              "      <td>3.638662e+00</td>\n",
              "      <td>2.681712</td>\n",
              "      <td>0.285931</td>\n",
              "      <td>3.010359</td>\n",
              "      <td>1.000000</td>\n",
              "      <td>1.000000</td>\n",
              "      <td>1.000000</td>\n",
              "      <td>1.000000</td>\n",
              "      <td>1.000000</td>\n",
              "      <td>1.000000</td>\n",
              "      <td>1.000000</td>\n",
              "      <td>1.000000</td>\n",
              "      <td>1.000000</td>\n",
              "      <td>1.000000</td>\n",
              "      <td>1.000000</td>\n",
              "      <td>1.000000</td>\n",
              "      <td>1.000000</td>\n",
              "      <td>1.000000</td>\n",
              "      <td>1.000000</td>\n",
              "      <td>1.000000</td>\n",
              "      <td>1.000000</td>\n",
              "      <td>1.000000</td>\n",
              "      <td>1.000000</td>\n",
              "      <td>1.000000</td>\n",
              "      <td>1.000000</td>\n",
              "      <td>1.000000</td>\n",
              "      <td>1.000000</td>\n",
              "      <td>1.000000</td>\n",
              "    </tr>\n",
              "  </tbody>\n",
              "</table>\n",
              "</div>"
            ],
            "text/plain": [
              "                 ID      KIDSDRIV  ...   RED_CAR_yes   REVOKED_Yes\n",
              "count  1.030100e+04  1.030100e+04  ...  10301.000000  10301.000000\n",
              "mean   4.956841e+08 -3.342567e-01  ...      0.288807      0.122415\n",
              "std    2.864735e+08  3.897072e-14  ...      0.453230      0.327781\n",
              "min    6.317500e+04 -3.342567e-01  ...      0.000000      0.000000\n",
              "25%    2.442710e+08 -3.342567e-01  ...      0.000000      0.000000\n",
              "50%    4.970541e+08 -3.342567e-01  ...      0.000000      0.000000\n",
              "75%    7.395301e+08 -3.342567e-01  ...      1.000000      0.000000\n",
              "max    9.999264e+08 -3.342567e-01  ...      1.000000      1.000000\n",
              "\n",
              "[8 rows x 40 columns]"
            ]
          },
          "metadata": {
            "tags": []
          },
          "execution_count": 32
        }
      ]
    },
    {
      "cell_type": "markdown",
      "metadata": {
        "id": "J_cTr4AIz_a6"
      },
      "source": [
        "### Split Train Test Data"
      ]
    },
    {
      "cell_type": "code",
      "metadata": {
        "id": "NUZILgrmCfBu"
      },
      "source": [
        "X1 = data_aout.drop(columns=['ID', 'CLM_AMT_norm', 'CLAIM_FLAG', 'KIDSDRIV'])\n",
        "y1 = data_aout['CLAIM_FLAG']\n",
        "\n",
        "from sklearn.model_selection import train_test_split \n",
        "X1_train, X1_test, y1_train, y1_test = train_test_split(X1, y1, test_size = 0.3, random_state = 42)"
      ],
      "execution_count": null,
      "outputs": []
    },
    {
      "cell_type": "code",
      "metadata": {
        "colab": {
          "base_uri": "https://localhost:8080/"
        },
        "id": "zKp-CrNVDR0-",
        "outputId": "3cf4a50a-b13f-4f94-9628-5ef7517843db"
      },
      "source": [
        "print(X1_train.shape,X1_test.shape,y1_train.shape,y1_test.shape)"
      ],
      "execution_count": null,
      "outputs": [
        {
          "output_type": "stream",
          "text": [
            "(7210, 36) (3091, 36) (7210,) (3091,)\n"
          ],
          "name": "stdout"
        }
      ]
    },
    {
      "cell_type": "code",
      "metadata": {
        "id": "_S3gtTF0jxbM"
      },
      "source": [
        "from imblearn import under_sampling, over_sampling\n",
        "X1_under, y1_under = under_sampling.RandomUnderSampler().fit_resample(X1_train, y1_train)\n",
        "X1_over, y1_over = over_sampling.RandomOverSampler(0.5).fit_resample(X1_train, y1_train)\n",
        "X1_over_SMOTE, y1_over_SMOTE = over_sampling.SMOTE().fit_resample(X1_train, y1_train)"
      ],
      "execution_count": null,
      "outputs": []
    },
    {
      "cell_type": "code",
      "metadata": {
        "colab": {
          "base_uri": "https://localhost:8080/"
        },
        "id": "ANfn3fnbjyS5",
        "outputId": "1a67bc33-6c7e-40b1-c610-675dd8dbba17"
      },
      "source": [
        "print(pd.Series(y1_train).value_counts())\n",
        "print(pd.Series(y1_under).value_counts())\n",
        "print(pd.Series(y1_over).value_counts())\n",
        "print(pd.Series(y1_over_SMOTE).value_counts())"
      ],
      "execution_count": null,
      "outputs": [
        {
          "output_type": "stream",
          "text": [
            "0.0    5264\n",
            "1.0    1946\n",
            "Name: CLAIM_FLAG, dtype: int64\n",
            "1.0    1946\n",
            "0.0    1946\n",
            "dtype: int64\n",
            "0.0    5264\n",
            "1.0    2632\n",
            "dtype: int64\n",
            "1.0    5264\n",
            "0.0    5264\n",
            "dtype: int64\n"
          ],
          "name": "stdout"
        }
      ]
    },
    {
      "cell_type": "code",
      "metadata": {
        "id": "NTI7bh8VZLUM"
      },
      "source": [
        "array_X1_train =  X1_train.values\n",
        "array_X1_test = X1_test.values\n",
        "array_y1_train = y1_train.values\n",
        "array_y1_test = y1_test.values"
      ],
      "execution_count": null,
      "outputs": []
    },
    {
      "cell_type": "markdown",
      "metadata": {
        "id": "bFJnsXRVz5Zq"
      },
      "source": [
        "## **Clasification Modeling and Evaluation**"
      ]
    },
    {
      "cell_type": "code",
      "metadata": {
        "id": "gRyaERmbnDmu"
      },
      "source": [
        "from sklearn.metrics import accuracy_score, precision_score, recall_score, f1_score\n",
        "from sklearn.metrics import roc_curve, auc\n",
        "\n",
        "def eval_classification(model, pred, xtrain, ytrain, xtest, ytest):\n",
        "    print(\"Accuracy (Test Set): %.2f\" % accuracy_score(ytest, pred))\n",
        "    print(\"Precision (Test Set): %.2f\" % precision_score(ytest, pred))\n",
        "    print(\"Recall (Test Set): %.2f\" % recall_score(ytest, pred))\n",
        "    print(\"F1-Score (Test Set): %.2f\" % f1_score(ytest, pred))\n",
        "    \n",
        "    fpr, tpr, thresholds = roc_curve(ytest, pred, pos_label=1) # pos_label: label yang kita anggap positive\n",
        "    print(\"AUC: %.2f\" % auc(fpr, tpr))\n",
        "\n",
        "def show_feature_importance(model):\n",
        "    feat_importances = pd.Series(model.feature_importances_, index=X1.columns)\n",
        "    ax = feat_importances.nlargest(25).plot(kind='barh', figsize=(10, 8))\n",
        "    ax.invert_yaxis()\n",
        "\n",
        "    plt.xlabel('score')\n",
        "    plt.ylabel('feature')\n",
        "    plt.title('feature importance score')\n",
        "\n",
        "def show_best_hyperparameter(model, hyperparameters):\n",
        "    for key, value in hyperparameters.items() :\n",
        "        print('Best '+key+':', model.get_params()[key])"
      ],
      "execution_count": null,
      "outputs": []
    },
    {
      "cell_type": "markdown",
      "metadata": {
        "id": "A2Uf9_bBiULR"
      },
      "source": [
        "### **1.  K-Nearest Neighbor**"
      ]
    },
    {
      "cell_type": "code",
      "metadata": {
        "colab": {
          "base_uri": "https://localhost:8080/"
        },
        "id": "e_1ItFyzQ9Yh",
        "outputId": "23aa61b4-c06a-468a-a785-4fd0ac021561"
      },
      "source": [
        "# Menentukan nilai K\n",
        "n = 3788\n",
        "k = (n**0.5)\n",
        "print(k)"
      ],
      "execution_count": null,
      "outputs": [
        {
          "output_type": "stream",
          "text": [
            "61.54673021371647\n"
          ],
          "name": "stdout"
        }
      ]
    },
    {
      "cell_type": "markdown",
      "metadata": {
        "id": "um-aTvnLCOQj"
      },
      "source": [
        "#### **Menggunakan data awal**"
      ]
    },
    {
      "cell_type": "markdown",
      "metadata": {
        "id": "BgWUMzznWVlw"
      },
      "source": [
        "#####TRAIN"
      ]
    },
    {
      "cell_type": "code",
      "metadata": {
        "colab": {
          "base_uri": "https://localhost:8080/"
        },
        "id": "c542TPhACOQp",
        "outputId": "4d9d4fa2-6c95-4ba8-ea97-a95ffee4de28"
      },
      "source": [
        "from sklearn.neighbors import KNeighborsClassifier# import knn dari sklearn\n",
        "knn = KNeighborsClassifier(n_neighbors=61) # inisiasi object dengan nama knn\n",
        "knn.fit(X1_train, y1_train)"
      ],
      "execution_count": null,
      "outputs": [
        {
          "output_type": "execute_result",
          "data": {
            "text/plain": [
              "KNeighborsClassifier(algorithm='auto', leaf_size=30, metric='minkowski',\n",
              "                     metric_params=None, n_jobs=None, n_neighbors=61, p=2,\n",
              "                     weights='uniform')"
            ]
          },
          "metadata": {
            "tags": []
          },
          "execution_count": 40
        }
      ]
    },
    {
      "cell_type": "markdown",
      "metadata": {
        "id": "DxFkRCD6COQt"
      },
      "source": [
        "######**Prediction Result (in data test)**"
      ]
    },
    {
      "cell_type": "code",
      "metadata": {
        "colab": {
          "base_uri": "https://localhost:8080/"
        },
        "id": "VdOXRwhTCOQu",
        "outputId": "4485f888-20f9-42e0-d5ee-0cf788bdd738"
      },
      "source": [
        "y1_pred = knn.predict(X1_test)\n",
        "y1_pred"
      ],
      "execution_count": null,
      "outputs": [
        {
          "output_type": "execute_result",
          "data": {
            "text/plain": [
              "array([0., 0., 0., ..., 0., 0., 0.])"
            ]
          },
          "metadata": {
            "tags": []
          },
          "execution_count": 41
        }
      ]
    },
    {
      "cell_type": "code",
      "metadata": {
        "colab": {
          "base_uri": "https://localhost:8080/"
        },
        "id": "luAmbW51COQw",
        "outputId": "72e45651-474b-427f-cce1-f5ea57b380e0"
      },
      "source": [
        "print(pd.Series(y1_pred).value_counts())"
      ],
      "execution_count": null,
      "outputs": [
        {
          "output_type": "stream",
          "text": [
            "0.0    2939\n",
            "1.0     152\n",
            "dtype: int64\n"
          ],
          "name": "stdout"
        }
      ]
    },
    {
      "cell_type": "markdown",
      "metadata": {
        "id": "o0F2C83-COQx"
      },
      "source": [
        "######**Evaluation**"
      ]
    },
    {
      "cell_type": "code",
      "metadata": {
        "colab": {
          "base_uri": "https://localhost:8080/"
        },
        "id": "sdPvFVVTCOQy",
        "outputId": "10a38436-c89c-438d-8f9a-1354f1e89ac0"
      },
      "source": [
        "eval_classification(knn, y1_pred, X1_train, X1_test, y1_train, y1_test)"
      ],
      "execution_count": null,
      "outputs": [
        {
          "output_type": "stream",
          "text": [
            "Accuracy (Test Set): 0.76\n",
            "Precision (Test Set): 0.70\n",
            "Recall (Test Set): 0.13\n",
            "F1-Score (Test Set): 0.22\n",
            "AUC: 0.56\n"
          ],
          "name": "stdout"
        }
      ]
    },
    {
      "cell_type": "code",
      "metadata": {
        "colab": {
          "base_uri": "https://localhost:8080/"
        },
        "id": "SUwSWYM8COQz",
        "outputId": "a57307b2-e513-47c0-e888-573c23c4f6d8"
      },
      "source": [
        "print('Train score: ' + str(knn.score(X1_train, y1_train))) #accuracy\n",
        "print('Test score:' + str(knn.score(X1_test, y1_test))) #accuracy"
      ],
      "execution_count": null,
      "outputs": [
        {
          "output_type": "stream",
          "text": [
            "Train score: 0.7547850208044383\n",
            "Test score:0.7605952766095115\n"
          ],
          "name": "stdout"
        }
      ]
    },
    {
      "cell_type": "markdown",
      "metadata": {
        "id": "6F-Nq45UCOQ0"
      },
      "source": [
        "MODERATE"
      ]
    },
    {
      "cell_type": "markdown",
      "metadata": {
        "id": "eWxaT1YrCOQ1"
      },
      "source": [
        "######**Hyperparameter Tuning**"
      ]
    },
    {
      "cell_type": "code",
      "metadata": {
        "colab": {
          "base_uri": "https://localhost:8080/"
        },
        "id": "Zc7QSoObCOQ2",
        "outputId": "72a46e67-6166-4442-93b1-825402eb98a1"
      },
      "source": [
        "from sklearn.model_selection import RandomizedSearchCV, GridSearchCV\n",
        "from scipy.stats import uniform\n",
        "\n",
        "# List of hyperparameter\n",
        "n_neighbors = list(range(1,90))\n",
        "p=[1,2,3]\n",
        "\n",
        "algorithm = ['auto', 'ball_tree', 'kd_tree', 'brute']\n",
        "weights = ['uniform','distance']\n",
        "hyperparameters = dict(n_neighbors=n_neighbors, p=p, algorithm=algorithm, weights=weights)\n",
        "\n",
        "# Init model\n",
        "knn = KNeighborsClassifier()\n",
        "modelknn = RandomizedSearchCV(knn, hyperparameters, cv=5, random_state=42, scoring='f1')\n",
        "\n",
        "# Fit Model & Evaluasi\n",
        "modelknn.fit(X1_train, y1_train)\n",
        "y1_pred = modelknn.predict(X1_test)\n",
        "eval_classification(modelknn, y1_pred, X1_train, X1_test, y1_train, y1_test)"
      ],
      "execution_count": null,
      "outputs": [
        {
          "output_type": "stream",
          "text": [
            "Accuracy (Test Set): 0.75\n",
            "Precision (Test Set): 0.52\n",
            "Recall (Test Set): 0.27\n",
            "F1-Score (Test Set): 0.36\n",
            "AUC: 0.59\n"
          ],
          "name": "stdout"
        }
      ]
    },
    {
      "cell_type": "code",
      "metadata": {
        "colab": {
          "base_uri": "https://localhost:8080/"
        },
        "id": "6LCMx66VCOQ3",
        "outputId": "0937fe75-409c-45c9-968a-47b3753282ff"
      },
      "source": [
        "print('Best n_neighbors:', modelknn.best_estimator_.get_params()['n_neighbors'])\n",
        "print('Best p:', modelknn.best_estimator_.get_params()['p'])\n",
        "print('Best algorithm:', modelknn.best_estimator_.get_params()['algorithm'])"
      ],
      "execution_count": null,
      "outputs": [
        {
          "output_type": "stream",
          "text": [
            "Best n_neighbors: 5\n",
            "Best p: 2\n",
            "Best algorithm: kd_tree\n"
          ],
          "name": "stdout"
        }
      ]
    },
    {
      "cell_type": "code",
      "metadata": {
        "colab": {
          "base_uri": "https://localhost:8080/"
        },
        "id": "6GeQe7yhCOQ4",
        "outputId": "4f2295ae-0439-4163-a16a-26d9fb6d99ab"
      },
      "source": [
        "print('Train score: ' + str(modelknn.score(X1_train, y1_train))) #accuracy\n",
        "print('Test score:' + str(modelknn.score(X1_test, y1_test))) #accuracy"
      ],
      "execution_count": null,
      "outputs": [
        {
          "output_type": "stream",
          "text": [
            "Train score: 1.0\n",
            "Test score:0.35526315789473684\n"
          ],
          "name": "stdout"
        }
      ]
    },
    {
      "cell_type": "markdown",
      "metadata": {
        "id": "Cu3DN1NkCOQ5"
      },
      "source": [
        "Underfiting!"
      ]
    },
    {
      "cell_type": "markdown",
      "metadata": {
        "id": "gr7N2gvrjeyS"
      },
      "source": [
        "#####SMOTE"
      ]
    },
    {
      "cell_type": "code",
      "metadata": {
        "colab": {
          "base_uri": "https://localhost:8080/"
        },
        "id": "VHK07Fu0jeyp",
        "outputId": "2cfe3c94-c743-4843-aa8e-8e5b7aa7dc18"
      },
      "source": [
        "from sklearn.neighbors import KNeighborsClassifier# import knn dari sklearn\n",
        "knn = KNeighborsClassifier(n_neighbors=61) # inisiasi object dengan nama knn\n",
        "knn.fit(X1_over_SMOTE, y1_over_SMOTE)"
      ],
      "execution_count": null,
      "outputs": [
        {
          "output_type": "execute_result",
          "data": {
            "text/plain": [
              "KNeighborsClassifier(algorithm='auto', leaf_size=30, metric='minkowski',\n",
              "                     metric_params=None, n_jobs=None, n_neighbors=61, p=2,\n",
              "                     weights='uniform')"
            ]
          },
          "metadata": {
            "tags": []
          },
          "execution_count": 48
        }
      ]
    },
    {
      "cell_type": "markdown",
      "metadata": {
        "id": "XFGi35WKjeys"
      },
      "source": [
        "######**Prediction Result (in data test)**"
      ]
    },
    {
      "cell_type": "code",
      "metadata": {
        "colab": {
          "base_uri": "https://localhost:8080/"
        },
        "id": "hKMRwV3bjeys",
        "outputId": "e5d5f052-d5a6-4f99-a049-a962d3ac2d21"
      },
      "source": [
        "y1_pred = knn.predict(X1_test)\n",
        "y1_pred"
      ],
      "execution_count": null,
      "outputs": [
        {
          "output_type": "execute_result",
          "data": {
            "text/plain": [
              "array([1., 1., 0., ..., 1., 1., 1.])"
            ]
          },
          "metadata": {
            "tags": []
          },
          "execution_count": 49
        }
      ]
    },
    {
      "cell_type": "code",
      "metadata": {
        "colab": {
          "base_uri": "https://localhost:8080/"
        },
        "id": "teokxEPsjeyt",
        "outputId": "5f5d7f3b-c135-46bc-d987-d59c096aeb75"
      },
      "source": [
        "print(pd.Series(y1_pred).value_counts())"
      ],
      "execution_count": null,
      "outputs": [
        {
          "output_type": "stream",
          "text": [
            "0.0    1572\n",
            "1.0    1519\n",
            "dtype: int64\n"
          ],
          "name": "stdout"
        }
      ]
    },
    {
      "cell_type": "markdown",
      "metadata": {
        "id": "jFGzK2LQjeyu"
      },
      "source": [
        "######**Evaluation**"
      ]
    },
    {
      "cell_type": "code",
      "metadata": {
        "colab": {
          "base_uri": "https://localhost:8080/"
        },
        "id": "-zXpNZgzjeyv",
        "outputId": "64e9a1a1-7d63-4d5a-84b8-060ccd2651d1"
      },
      "source": [
        "eval_classification(knn, y1_pred, X1_over_SMOTE, X1_test, y1_over_SMOTE, y1_test)"
      ],
      "execution_count": null,
      "outputs": [
        {
          "output_type": "stream",
          "text": [
            "Accuracy (Test Set): 0.64\n",
            "Precision (Test Set): 0.40\n",
            "Recall (Test Set): 0.76\n",
            "F1-Score (Test Set): 0.52\n",
            "AUC: 0.68\n"
          ],
          "name": "stdout"
        }
      ]
    },
    {
      "cell_type": "code",
      "metadata": {
        "colab": {
          "base_uri": "https://localhost:8080/"
        },
        "id": "Bujsvm83jeyv",
        "outputId": "cc89f2b9-5211-4e5b-d4f3-ce4111ddb029"
      },
      "source": [
        "print('Train score: ' + str(knn.score(X1_over_SMOTE, y1_over_SMOTE))) #accuracy\n",
        "print('Test score:' + str(knn.score(X1_test, y1_test))) #accuracy"
      ],
      "execution_count": null,
      "outputs": [
        {
          "output_type": "stream",
          "text": [
            "Train score: 0.713620820668693\n",
            "Test score:0.6418634746036881\n"
          ],
          "name": "stdout"
        }
      ]
    },
    {
      "cell_type": "markdown",
      "metadata": {
        "id": "C9s_j-Fdjeyw"
      },
      "source": [
        "UNDERFITING!"
      ]
    },
    {
      "cell_type": "markdown",
      "metadata": {
        "id": "wE_qYMq1jeyx"
      },
      "source": [
        "######**Hyperparameter Tuning**"
      ]
    },
    {
      "cell_type": "code",
      "metadata": {
        "colab": {
          "base_uri": "https://localhost:8080/"
        },
        "id": "859swlE-jeyx",
        "outputId": "025da9e8-ef50-4a09-c71c-a74795658751"
      },
      "source": [
        "from sklearn.model_selection import RandomizedSearchCV, GridSearchCV\n",
        "from scipy.stats import uniform\n",
        "\n",
        "# List of hyperparameter\n",
        "n_neighbors = list(range(1,90))\n",
        "p=[1,2,3]\n",
        "\n",
        "algorithm = ['auto', 'ball_tree', 'kd_tree', 'brute']\n",
        "weights = ['uniform','distance']\n",
        "hyperparameters = dict(n_neighbors=n_neighbors, p=p, algorithm=algorithm, weights=weights)\n",
        "\n",
        "# Init model\n",
        "knn = KNeighborsClassifier()\n",
        "modelknn = RandomizedSearchCV(knn, hyperparameters, cv=5, random_state=42, scoring='f1')\n",
        "\n",
        "# Fit Model & Evaluasi\n",
        "modelknn.fit(X1_over_SMOTE, y1_over_SMOTE)\n",
        "y1_pred = modelknn.predict(X1_test)\n",
        "eval_classification(modelknn, y1_pred, X1_over_SMOTE, X1_test, y1_over_SMOTE, y1_test)"
      ],
      "execution_count": null,
      "outputs": [
        {
          "output_type": "stream",
          "text": [
            "Accuracy (Test Set): 0.63\n",
            "Precision (Test Set): 0.37\n",
            "Recall (Test Set): 0.61\n",
            "F1-Score (Test Set): 0.46\n",
            "AUC: 0.62\n"
          ],
          "name": "stdout"
        }
      ]
    },
    {
      "cell_type": "code",
      "metadata": {
        "colab": {
          "base_uri": "https://localhost:8080/"
        },
        "id": "D3dQ27WEjeyy",
        "outputId": "4f51f40b-64cb-462a-f07f-9689f009e22a"
      },
      "source": [
        "print('Best n_neighbors:', modelknn.best_estimator_.get_params()['n_neighbors'])\n",
        "print('Best p:', modelknn.best_estimator_.get_params()['p'])\n",
        "print('Best algorithm:', modelknn.best_estimator_.get_params()['algorithm'])"
      ],
      "execution_count": null,
      "outputs": [
        {
          "output_type": "stream",
          "text": [
            "Best n_neighbors: 5\n",
            "Best p: 2\n",
            "Best algorithm: kd_tree\n"
          ],
          "name": "stdout"
        }
      ]
    },
    {
      "cell_type": "code",
      "metadata": {
        "colab": {
          "base_uri": "https://localhost:8080/"
        },
        "id": "dYi0njVhjeyz",
        "outputId": "d9103c0d-cf45-4974-cfa1-4bfee912ce4d"
      },
      "source": [
        "print('Train score: ' + str(modelknn.score(X1_over_SMOTE, y1_over_SMOTE))) #accuracy\n",
        "print('Test score:' + str(modelknn.score(X1_test, y1_test))) #accuracy"
      ],
      "execution_count": null,
      "outputs": [
        {
          "output_type": "stream",
          "text": [
            "Train score: 1.0\n",
            "Test score:0.4601603017444601\n"
          ],
          "name": "stdout"
        }
      ]
    },
    {
      "cell_type": "markdown",
      "metadata": {
        "id": "PmsB926Ljeyz"
      },
      "source": [
        "UNDERFITING!"
      ]
    },
    {
      "cell_type": "markdown",
      "metadata": {
        "id": "LRN7rLTL9tnU"
      },
      "source": [
        "#####UNDER"
      ]
    },
    {
      "cell_type": "code",
      "metadata": {
        "colab": {
          "base_uri": "https://localhost:8080/"
        },
        "id": "nuCzmrnx9tnX",
        "outputId": "f835d292-4e42-4037-d845-7dae01d7f428"
      },
      "source": [
        "from sklearn.neighbors import KNeighborsClassifier# import knn dari sklearn\n",
        "knn = KNeighborsClassifier(n_neighbors=61) # inisiasi object dengan nama knn\n",
        "knn.fit(X1_under, y1_under)"
      ],
      "execution_count": null,
      "outputs": [
        {
          "output_type": "execute_result",
          "data": {
            "text/plain": [
              "KNeighborsClassifier(algorithm='auto', leaf_size=30, metric='minkowski',\n",
              "                     metric_params=None, n_jobs=None, n_neighbors=61, p=2,\n",
              "                     weights='uniform')"
            ]
          },
          "metadata": {
            "tags": []
          },
          "execution_count": 56
        }
      ]
    },
    {
      "cell_type": "markdown",
      "metadata": {
        "id": "quXVRhtF9tna"
      },
      "source": [
        "######**Prediction Result (in data test)**"
      ]
    },
    {
      "cell_type": "code",
      "metadata": {
        "colab": {
          "base_uri": "https://localhost:8080/"
        },
        "id": "JtfDkxTj9tnb",
        "outputId": "ed04fefd-fde4-4a86-abbd-1e182332518f"
      },
      "source": [
        "y1_pred = knn.predict(X1_test)\n",
        "y1_pred"
      ],
      "execution_count": null,
      "outputs": [
        {
          "output_type": "execute_result",
          "data": {
            "text/plain": [
              "array([1., 1., 1., ..., 0., 1., 1.])"
            ]
          },
          "metadata": {
            "tags": []
          },
          "execution_count": 57
        }
      ]
    },
    {
      "cell_type": "code",
      "metadata": {
        "colab": {
          "base_uri": "https://localhost:8080/"
        },
        "id": "50S4a0u29tne",
        "outputId": "06d42b9b-b65d-468b-e2fb-46bab8fad207"
      },
      "source": [
        "print(pd.Series(y1_pred).value_counts())"
      ],
      "execution_count": null,
      "outputs": [
        {
          "output_type": "stream",
          "text": [
            "0.0    2057\n",
            "1.0    1034\n",
            "dtype: int64\n"
          ],
          "name": "stdout"
        }
      ]
    },
    {
      "cell_type": "markdown",
      "metadata": {
        "id": "QDfC1p9R9tnf"
      },
      "source": [
        "######**Evaluation**"
      ]
    },
    {
      "cell_type": "code",
      "metadata": {
        "colab": {
          "base_uri": "https://localhost:8080/"
        },
        "id": "Yx5GJmrT9tnf",
        "outputId": "096fea6a-37ef-48a3-fe8a-b4ab4e93a583"
      },
      "source": [
        "eval_classification(knn, y1_pred, X1_under, X1_test, y1_under, y1_test)"
      ],
      "execution_count": null,
      "outputs": [
        {
          "output_type": "stream",
          "text": [
            "Accuracy (Test Set): 0.73\n",
            "Precision (Test Set): 0.48\n",
            "Recall (Test Set): 0.62\n",
            "F1-Score (Test Set): 0.54\n",
            "AUC: 0.69\n"
          ],
          "name": "stdout"
        }
      ]
    },
    {
      "cell_type": "code",
      "metadata": {
        "colab": {
          "base_uri": "https://localhost:8080/"
        },
        "id": "Y3Z11FVq9tng",
        "outputId": "b3a0e1e7-013e-4da6-eebf-a7cc40581aa7"
      },
      "source": [
        "print('Train score: ' + str(knn.score(X1_under, y1_under))) #accuracy\n",
        "print('Test score:' + str(knn.score(X1_test, y1_test))) #accuracy"
      ],
      "execution_count": null,
      "outputs": [
        {
          "output_type": "stream",
          "text": [
            "Train score: 0.6798561151079137\n",
            "Test score:0.7256551277903591\n"
          ],
          "name": "stdout"
        }
      ]
    },
    {
      "cell_type": "markdown",
      "metadata": {
        "id": "PPQu6Myb9tnh"
      },
      "source": [
        "OVERFITING!"
      ]
    },
    {
      "cell_type": "markdown",
      "metadata": {
        "id": "YZuuP5Fn9tnh"
      },
      "source": [
        "######**Hyperparameter Tuning**"
      ]
    },
    {
      "cell_type": "code",
      "metadata": {
        "colab": {
          "base_uri": "https://localhost:8080/"
        },
        "id": "SnGQeNbT9tni",
        "outputId": "ac0f81cf-cf6e-459f-b1f5-a169ad34d5f1"
      },
      "source": [
        "from sklearn.model_selection import RandomizedSearchCV, GridSearchCV\n",
        "from scipy.stats import uniform\n",
        "\n",
        "# List of hyperparameter\n",
        "n_neighbors = list(range(1,90))\n",
        "p=[1,2,3]\n",
        "\n",
        "algorithm = ['auto', 'ball_tree', 'kd_tree', 'brute']\n",
        "weights = ['uniform','distance']\n",
        "hyperparameters = dict(n_neighbors=n_neighbors, p=p, algorithm=algorithm, weights=weights)\n",
        "\n",
        "# Init model\n",
        "knn = KNeighborsClassifier()\n",
        "modelknn = RandomizedSearchCV(knn, hyperparameters, cv=5, random_state=42, scoring='f1')\n",
        "\n",
        "# Fit Model & Evaluasi\n",
        "modelknn.fit(X1_under, y1_under)\n",
        "y1_pred = modelknn.predict(X1_test)\n",
        "eval_classification(modelknn, y1_pred, X1_under, X1_test, y1_under, y1_test)"
      ],
      "execution_count": null,
      "outputs": [
        {
          "output_type": "stream",
          "text": [
            "Accuracy (Test Set): 0.72\n",
            "Precision (Test Set): 0.47\n",
            "Recall (Test Set): 0.62\n",
            "F1-Score (Test Set): 0.53\n",
            "AUC: 0.69\n"
          ],
          "name": "stdout"
        }
      ]
    },
    {
      "cell_type": "code",
      "metadata": {
        "colab": {
          "base_uri": "https://localhost:8080/"
        },
        "id": "48iJAOG69tnj",
        "outputId": "37eb0760-da64-4a05-b8ec-28902e506a09"
      },
      "source": [
        "print('Best n_neighbors:', modelknn.best_estimator_.get_params()['n_neighbors'])\n",
        "print('Best p:', modelknn.best_estimator_.get_params()['p'])\n",
        "print('Best algorithm:', modelknn.best_estimator_.get_params()['algorithm'])"
      ],
      "execution_count": null,
      "outputs": [
        {
          "output_type": "stream",
          "text": [
            "Best n_neighbors: 29\n",
            "Best p: 2\n",
            "Best algorithm: kd_tree\n"
          ],
          "name": "stdout"
        }
      ]
    },
    {
      "cell_type": "code",
      "metadata": {
        "colab": {
          "base_uri": "https://localhost:8080/"
        },
        "id": "4p2J7XU19tnj",
        "outputId": "ac6ae658-fffa-4a53-cc83-2ab654f41ddd"
      },
      "source": [
        "print('Train score: ' + str(modelknn.score(X1_under, y1_under))) #accuracy\n",
        "print('Test score:' + str(modelknn.score(X1_test, y1_test))) #accuracy"
      ],
      "execution_count": null,
      "outputs": [
        {
          "output_type": "stream",
          "text": [
            "Train score: 0.6783657800932272\n",
            "Test score:0.5333333333333333\n"
          ],
          "name": "stdout"
        }
      ]
    },
    {
      "cell_type": "markdown",
      "metadata": {
        "id": "wefB9vVb9tnk"
      },
      "source": [
        "UNDERFITING!"
      ]
    },
    {
      "cell_type": "markdown",
      "metadata": {
        "id": "1gzcdCxQ_RyY"
      },
      "source": [
        "#####OVER"
      ]
    },
    {
      "cell_type": "code",
      "metadata": {
        "colab": {
          "base_uri": "https://localhost:8080/"
        },
        "id": "F0vXwhIu_Ryg",
        "outputId": "921251c4-344f-48d5-ee63-949884153e04"
      },
      "source": [
        "from sklearn.neighbors import KNeighborsClassifier# import knn dari sklearn\n",
        "knn = KNeighborsClassifier(n_neighbors=61) # inisiasi object dengan nama knn\n",
        "knn.fit(X1_over, y1_over)"
      ],
      "execution_count": null,
      "outputs": [
        {
          "output_type": "execute_result",
          "data": {
            "text/plain": [
              "KNeighborsClassifier(algorithm='auto', leaf_size=30, metric='minkowski',\n",
              "                     metric_params=None, n_jobs=None, n_neighbors=61, p=2,\n",
              "                     weights='uniform')"
            ]
          },
          "metadata": {
            "tags": []
          },
          "execution_count": 64
        }
      ]
    },
    {
      "cell_type": "markdown",
      "metadata": {
        "id": "isEcdn-q_Ryk"
      },
      "source": [
        "######**Prediction Result (in data test)**"
      ]
    },
    {
      "cell_type": "code",
      "metadata": {
        "colab": {
          "base_uri": "https://localhost:8080/"
        },
        "id": "-xPeiX8E_Ryl",
        "outputId": "6daff12b-53be-4af1-fe43-5939cb02e091"
      },
      "source": [
        "y1_pred = knn.predict(X1_test)\n",
        "y1_pred"
      ],
      "execution_count": null,
      "outputs": [
        {
          "output_type": "execute_result",
          "data": {
            "text/plain": [
              "array([0., 0., 0., ..., 0., 0., 0.])"
            ]
          },
          "metadata": {
            "tags": []
          },
          "execution_count": 65
        }
      ]
    },
    {
      "cell_type": "code",
      "metadata": {
        "colab": {
          "base_uri": "https://localhost:8080/"
        },
        "id": "LI3w0yYc_Rym",
        "outputId": "a7f6fdf6-9dad-46d7-9376-f16c6eeefd59"
      },
      "source": [
        "print(pd.Series(y1_pred).value_counts())"
      ],
      "execution_count": null,
      "outputs": [
        {
          "output_type": "stream",
          "text": [
            "0.0    2750\n",
            "1.0     341\n",
            "dtype: int64\n"
          ],
          "name": "stdout"
        }
      ]
    },
    {
      "cell_type": "markdown",
      "metadata": {
        "id": "4g7IvY1J_Ryn"
      },
      "source": [
        "######**Evaluation**"
      ]
    },
    {
      "cell_type": "code",
      "metadata": {
        "colab": {
          "base_uri": "https://localhost:8080/"
        },
        "id": "_jHTaD1W_Ryo",
        "outputId": "9be0f015-d201-4df0-b5b6-d3a754b36945"
      },
      "source": [
        "eval_classification(knn, y1_pred, X1_over, X1_test, y1_over, y1_test)"
      ],
      "execution_count": null,
      "outputs": [
        {
          "output_type": "stream",
          "text": [
            "Accuracy (Test Set): 0.77\n",
            "Precision (Test Set): 0.62\n",
            "Recall (Test Set): 0.27\n",
            "F1-Score (Test Set): 0.37\n",
            "AUC: 0.60\n"
          ],
          "name": "stdout"
        }
      ]
    },
    {
      "cell_type": "code",
      "metadata": {
        "colab": {
          "base_uri": "https://localhost:8080/"
        },
        "id": "hKrxjmaH_Ryp",
        "outputId": "4f9dd3b1-6538-4ac0-f649-d2907b7bf40d"
      },
      "source": [
        "print('Train score: ' + str(knn.score(X1_over, y1_over))) #accuracy\n",
        "print('Test score:' + str(knn.score(X1_test, y1_test))) #accuracy"
      ],
      "execution_count": null,
      "outputs": [
        {
          "output_type": "stream",
          "text": [
            "Train score: 0.7299898682877406\n",
            "Test score:0.7680362342284051\n"
          ],
          "name": "stdout"
        }
      ]
    },
    {
      "cell_type": "markdown",
      "metadata": {
        "id": "IUCl0htB_Ryq"
      },
      "source": [
        "UNDERFITING!"
      ]
    },
    {
      "cell_type": "markdown",
      "metadata": {
        "id": "itxkLukM_Ryr"
      },
      "source": [
        "######**Hyperparameter Tuning**"
      ]
    },
    {
      "cell_type": "code",
      "metadata": {
        "colab": {
          "base_uri": "https://localhost:8080/"
        },
        "id": "ZNPfHvQh_Rys",
        "outputId": "f1c17b82-bf2b-4e43-f847-d0519c36d26f"
      },
      "source": [
        "from sklearn.model_selection import RandomizedSearchCV, GridSearchCV\n",
        "from scipy.stats import uniform\n",
        "\n",
        "# List of hyperparameter\n",
        "n_neighbors = list(range(1,90))\n",
        "p=[1,2,3]\n",
        "\n",
        "algorithm = ['auto', 'ball_tree', 'kd_tree', 'brute']\n",
        "weights = ['uniform','distance']\n",
        "hyperparameters = dict(n_neighbors=n_neighbors, p=p, algorithm=algorithm, weights=weights)\n",
        "\n",
        "# Init model\n",
        "knn = KNeighborsClassifier()\n",
        "modelknn = RandomizedSearchCV(knn, hyperparameters, cv=5, random_state=42, scoring='f1')\n",
        "\n",
        "# Fit Model & Evaluasi\n",
        "modelknn.fit(X1_over, y1_over)\n",
        "y1_pred = modelknn.predict(X1_test)\n",
        "eval_classification(modelknn, y1_pred, X1_over, X1_test, y1_over, y1_test)"
      ],
      "execution_count": null,
      "outputs": [
        {
          "output_type": "stream",
          "text": [
            "Accuracy (Test Set): 0.76\n",
            "Precision (Test Set): 0.61\n",
            "Recall (Test Set): 0.24\n",
            "F1-Score (Test Set): 0.34\n",
            "AUC: 0.59\n"
          ],
          "name": "stdout"
        }
      ]
    },
    {
      "cell_type": "code",
      "metadata": {
        "colab": {
          "base_uri": "https://localhost:8080/"
        },
        "id": "9ugCMrKl_Ryt",
        "outputId": "69f79175-e0cc-411c-c32e-df948fb9523b"
      },
      "source": [
        "print('Best n_neighbors:', modelknn.best_estimator_.get_params()['n_neighbors'])\n",
        "print('Best p:', modelknn.best_estimator_.get_params()['p'])\n",
        "print('Best algorithm:', modelknn.best_estimator_.get_params()['algorithm'])"
      ],
      "execution_count": null,
      "outputs": [
        {
          "output_type": "stream",
          "text": [
            "Best n_neighbors: 89\n",
            "Best p: 3\n",
            "Best algorithm: brute\n"
          ],
          "name": "stdout"
        }
      ]
    },
    {
      "cell_type": "code",
      "metadata": {
        "id": "ZtkU32Wu_Ryu",
        "colab": {
          "base_uri": "https://localhost:8080/"
        },
        "outputId": "981fc3db-d72a-4070-d899-bd68044c40da"
      },
      "source": [
        "print('Train score: ' + str(modelknn.score(X1_over, y1_over))) #accuracy\n",
        "print('Test score:' + str(modelknn.score(X1_test, y1_test))) #accuracy"
      ],
      "execution_count": null,
      "outputs": [
        {
          "output_type": "stream",
          "text": [
            "Train score: 1.0\n",
            "Test score:0.34408602150537637\n"
          ],
          "name": "stdout"
        }
      ]
    },
    {
      "cell_type": "markdown",
      "metadata": {
        "id": "1uBELpm8_Ryv"
      },
      "source": [
        "UNDERFITING!"
      ]
    },
    {
      "cell_type": "markdown",
      "metadata": {
        "id": "4l3LmWest099"
      },
      "source": [
        "### **2. Logistic Regression**\n",
        "\n",
        "\n"
      ]
    },
    {
      "cell_type": "markdown",
      "metadata": {
        "id": "D5UWcVn5BW5X"
      },
      "source": [
        "####**DATA AWAL**"
      ]
    },
    {
      "cell_type": "markdown",
      "metadata": {
        "id": "lMn7YgLIBajn"
      },
      "source": [
        "#####TRAIN"
      ]
    },
    {
      "cell_type": "markdown",
      "metadata": {
        "id": "z3mYfcnwBnw_"
      },
      "source": [
        "######Model"
      ]
    },
    {
      "cell_type": "code",
      "metadata": {
        "id": "lUzYAgf0BnxB",
        "colab": {
          "base_uri": "https://localhost:8080/"
        },
        "outputId": "4716c929-8fb9-46d3-e3f4-32a1f40f3d2f"
      },
      "source": [
        "from sklearn.linear_model import LogisticRegression\n",
        "model = LogisticRegression(random_state=42)\n",
        "model.fit(X1_train, y1_train)"
      ],
      "execution_count": null,
      "outputs": [
        {
          "output_type": "execute_result",
          "data": {
            "text/plain": [
              "LogisticRegression(C=1.0, class_weight=None, dual=False, fit_intercept=True,\n",
              "                   intercept_scaling=1, l1_ratio=None, max_iter=100,\n",
              "                   multi_class='auto', n_jobs=None, penalty='l2',\n",
              "                   random_state=42, solver='lbfgs', tol=0.0001, verbose=0,\n",
              "                   warm_start=False)"
            ]
          },
          "metadata": {
            "tags": []
          },
          "execution_count": 72
        }
      ]
    },
    {
      "cell_type": "code",
      "metadata": {
        "id": "drVKk225Bnxf",
        "colab": {
          "base_uri": "https://localhost:8080/"
        },
        "outputId": "78eb6c84-bf4f-40a1-d75f-44aa710af046"
      },
      "source": [
        "y1_pred = model.predict(X1_test)\n",
        "pd.Series(y1_pred).value_counts()\n",
        "#Ypred aneh...kenapa prediksi nya mayoritas 1?"
      ],
      "execution_count": null,
      "outputs": [
        {
          "output_type": "execute_result",
          "data": {
            "text/plain": [
              "0.0    2728\n",
              "1.0     363\n",
              "dtype: int64"
            ]
          },
          "metadata": {
            "tags": []
          },
          "execution_count": 73
        }
      ]
    },
    {
      "cell_type": "code",
      "metadata": {
        "id": "Q9PyTMa-Bnxg",
        "colab": {
          "base_uri": "https://localhost:8080/"
        },
        "outputId": "cffa9b3a-ba43-450c-9868-1a4f2a3910ba"
      },
      "source": [
        "eval_classification(model, y1_pred, X1_train, y1_train, X1_test, y1_test)"
      ],
      "execution_count": null,
      "outputs": [
        {
          "output_type": "stream",
          "text": [
            "Accuracy (Test Set): 0.77\n",
            "Precision (Test Set): 0.62\n",
            "Recall (Test Set): 0.28\n",
            "F1-Score (Test Set): 0.39\n",
            "AUC: 0.61\n"
          ],
          "name": "stdout"
        }
      ]
    },
    {
      "cell_type": "code",
      "metadata": {
        "id": "aR2z7RR-Bnxg",
        "colab": {
          "base_uri": "https://localhost:8080/"
        },
        "outputId": "dfa17ab5-944d-4acf-cda2-9ef570a7c5ad"
      },
      "source": [
        "print('data train : ', model.score(X1_train,y1_train))\n",
        "print('data test : ', model.score(X1_test,y1_test))"
      ],
      "execution_count": null,
      "outputs": [
        {
          "output_type": "stream",
          "text": [
            "data train :  0.7650485436893204\n",
            "data test :  0.7699773536072468\n"
          ],
          "name": "stdout"
        }
      ]
    },
    {
      "cell_type": "markdown",
      "metadata": {
        "id": "7AE6m21xBnxh"
      },
      "source": [
        "######Hypertuning Parameter"
      ]
    },
    {
      "cell_type": "code",
      "metadata": {
        "id": "Sxq5Y_wFBnxh",
        "colab": {
          "base_uri": "https://localhost:8080/"
        },
        "outputId": "7c9e2f93-0b31-431d-e475-3c36f484345f"
      },
      "source": [
        "from sklearn.model_selection import RandomizedSearchCV, GridSearchCV\n",
        "#List Hyperparameter\n",
        "penalty = ['l1', 'l2', 'elasticnet']\n",
        "C = [0.0001,0.001, 0.002]\n",
        "hyperparameter = dict(penalty=penalty, C=C)\n",
        "\n",
        "#init. model\n",
        "logistic = LogisticRegression(random_state=42)\n",
        "modellog = RandomizedSearchCV(logistic, hyperparameter, cv=5, scoring='f1')\n",
        "\n",
        "#Fitting model\n",
        "modellog.fit(X1_train, y1_train)\n",
        "y_pred = modellog.predict(X1_test)\n",
        "eval_classification(modellog, y1_pred, X1_train, y1_train, X1_test, y1_test)"
      ],
      "execution_count": null,
      "outputs": [
        {
          "output_type": "stream",
          "text": [
            "Accuracy (Test Set): 0.77\n",
            "Precision (Test Set): 0.62\n",
            "Recall (Test Set): 0.28\n",
            "F1-Score (Test Set): 0.39\n",
            "AUC: 0.61\n"
          ],
          "name": "stdout"
        }
      ]
    },
    {
      "cell_type": "code",
      "metadata": {
        "id": "dbrxOnyCBnxi",
        "colab": {
          "base_uri": "https://localhost:8080/"
        },
        "outputId": "57fe08ee-2cfa-4869-af34-35b8a5cecda6"
      },
      "source": [
        "print('data train : ', model.score(X1_train,y1_train))\n",
        "print('data test : ', model.score(X1_test,y1_test))"
      ],
      "execution_count": null,
      "outputs": [
        {
          "output_type": "stream",
          "text": [
            "data train :  0.7650485436893204\n",
            "data test :  0.7699773536072468\n"
          ],
          "name": "stdout"
        }
      ]
    },
    {
      "cell_type": "markdown",
      "metadata": {
        "id": "pJcxo-vZDxbT"
      },
      "source": [
        "#####UNDER"
      ]
    },
    {
      "cell_type": "markdown",
      "metadata": {
        "id": "4ikYLrCxDxbc"
      },
      "source": [
        "######Model"
      ]
    },
    {
      "cell_type": "code",
      "metadata": {
        "id": "BC1PvvcKDxbd",
        "colab": {
          "base_uri": "https://localhost:8080/"
        },
        "outputId": "1ea6904b-9f97-4dfc-8625-7d6681a30e3e"
      },
      "source": [
        "from sklearn.linear_model import LogisticRegression\n",
        "model = LogisticRegression(random_state=42)\n",
        "model.fit(X1_under, y1_under)"
      ],
      "execution_count": null,
      "outputs": [
        {
          "output_type": "execute_result",
          "data": {
            "text/plain": [
              "LogisticRegression(C=1.0, class_weight=None, dual=False, fit_intercept=True,\n",
              "                   intercept_scaling=1, l1_ratio=None, max_iter=100,\n",
              "                   multi_class='auto', n_jobs=None, penalty='l2',\n",
              "                   random_state=42, solver='lbfgs', tol=0.0001, verbose=0,\n",
              "                   warm_start=False)"
            ]
          },
          "metadata": {
            "tags": []
          },
          "execution_count": 78
        }
      ]
    },
    {
      "cell_type": "code",
      "metadata": {
        "id": "OdGadF5FDxbf",
        "colab": {
          "base_uri": "https://localhost:8080/"
        },
        "outputId": "a5440fb2-dc2e-48be-ddde-dbdfcd4e8cfb"
      },
      "source": [
        "y1_pred = model.predict(X1_test)\n",
        "pd.Series(y1_pred).value_counts()\n",
        "#Ypred aneh...kenapa prediksi nya mayoritas 1?"
      ],
      "execution_count": null,
      "outputs": [
        {
          "output_type": "execute_result",
          "data": {
            "text/plain": [
              "0.0    1858\n",
              "1.0    1233\n",
              "dtype: int64"
            ]
          },
          "metadata": {
            "tags": []
          },
          "execution_count": 79
        }
      ]
    },
    {
      "cell_type": "code",
      "metadata": {
        "id": "8ztGCfDZDxbg",
        "colab": {
          "base_uri": "https://localhost:8080/"
        },
        "outputId": "f71cf835-5ec3-43ed-de51-3be74382177e"
      },
      "source": [
        "eval_classification(model, y1_pred, X1_under, y1_under, X1_test, y1_test)"
      ],
      "execution_count": null,
      "outputs": [
        {
          "output_type": "stream",
          "text": [
            "Accuracy (Test Set): 0.70\n",
            "Precision (Test Set): 0.45\n",
            "Recall (Test Set): 0.69\n",
            "F1-Score (Test Set): 0.54\n",
            "AUC: 0.70\n"
          ],
          "name": "stdout"
        }
      ]
    },
    {
      "cell_type": "code",
      "metadata": {
        "id": "57JKdp6IDxbk",
        "colab": {
          "base_uri": "https://localhost:8080/"
        },
        "outputId": "982b402c-66bb-4784-fca3-0488b66fbf24"
      },
      "source": [
        "print('data train : ', model.score(X1_under, y1_under))\n",
        "print('data test : ', model.score(X1_test,y1_test))"
      ],
      "execution_count": null,
      "outputs": [
        {
          "output_type": "stream",
          "text": [
            "data train :  0.6875642343268242\n",
            "data test :  0.6994500161759948\n"
          ],
          "name": "stdout"
        }
      ]
    },
    {
      "cell_type": "markdown",
      "metadata": {
        "id": "1MIWOsdUDxbm"
      },
      "source": [
        "######Hypertuning Parameter"
      ]
    },
    {
      "cell_type": "code",
      "metadata": {
        "id": "L1aSra-0Dxbn",
        "colab": {
          "base_uri": "https://localhost:8080/"
        },
        "outputId": "5c740484-5f42-4fc9-ef1d-06254c357d21"
      },
      "source": [
        "from sklearn.model_selection import RandomizedSearchCV, GridSearchCV\n",
        "#List Hyperparameter\n",
        "penalty = ['l1', 'l2', 'elasticnet']\n",
        "C = [0.0001,0.001, 0.002]\n",
        "hyperparameter = dict(penalty=penalty, C=C)\n",
        "\n",
        "#init. model\n",
        "logistic = LogisticRegression(random_state=42)\n",
        "modellog = RandomizedSearchCV(logistic, hyperparameter, cv=5, scoring='f1')\n",
        "\n",
        "#Fitting model\n",
        "modellog.fit(X1_under, y1_under)\n",
        "y_pred = modellog.predict(X1_test)\n",
        "eval_classification(modellog, y1_pred, X1_under, y1_under, X1_test, y1_test)"
      ],
      "execution_count": null,
      "outputs": [
        {
          "output_type": "stream",
          "text": [
            "Accuracy (Test Set): 0.70\n",
            "Precision (Test Set): 0.45\n",
            "Recall (Test Set): 0.69\n",
            "F1-Score (Test Set): 0.54\n",
            "AUC: 0.70\n"
          ],
          "name": "stdout"
        }
      ]
    },
    {
      "cell_type": "code",
      "metadata": {
        "id": "Zj4NF_EFDxbo",
        "colab": {
          "base_uri": "https://localhost:8080/"
        },
        "outputId": "31eddd5e-fec7-4bc1-d14f-18a925238581"
      },
      "source": [
        "print('data train : ', model.score(X1_under, y1_under))\n",
        "print('data test : ', model.score(X1_test,y1_test))"
      ],
      "execution_count": null,
      "outputs": [
        {
          "output_type": "stream",
          "text": [
            "data train :  0.6875642343268242\n",
            "data test :  0.6994500161759948\n"
          ],
          "name": "stdout"
        }
      ]
    },
    {
      "cell_type": "markdown",
      "metadata": {
        "id": "BFfgZ_KTEUeG"
      },
      "source": [
        "#####OVER"
      ]
    },
    {
      "cell_type": "markdown",
      "metadata": {
        "id": "KGyErfuoEUek"
      },
      "source": [
        "######Model"
      ]
    },
    {
      "cell_type": "code",
      "metadata": {
        "id": "ZN4-Kas2EUel",
        "colab": {
          "base_uri": "https://localhost:8080/"
        },
        "outputId": "3a2c964c-d18b-48ca-b413-9e9ec5ff3c24"
      },
      "source": [
        "from sklearn.linear_model import LogisticRegression\n",
        "model = LogisticRegression(random_state=42)\n",
        "model.fit(X1_over, y1_over)"
      ],
      "execution_count": null,
      "outputs": [
        {
          "output_type": "execute_result",
          "data": {
            "text/plain": [
              "LogisticRegression(C=1.0, class_weight=None, dual=False, fit_intercept=True,\n",
              "                   intercept_scaling=1, l1_ratio=None, max_iter=100,\n",
              "                   multi_class='auto', n_jobs=None, penalty='l2',\n",
              "                   random_state=42, solver='lbfgs', tol=0.0001, verbose=0,\n",
              "                   warm_start=False)"
            ]
          },
          "metadata": {
            "tags": []
          },
          "execution_count": 84
        }
      ]
    },
    {
      "cell_type": "code",
      "metadata": {
        "id": "h5wvbyTxEUem",
        "colab": {
          "base_uri": "https://localhost:8080/"
        },
        "outputId": "09063482-af2e-48c6-86d7-ff098f2af6a8"
      },
      "source": [
        "y1_pred = model.predict(X1_test)\n",
        "pd.Series(y1_pred).value_counts()\n",
        "#Ypred aneh...kenapa prediksi nya mayoritas 1?"
      ],
      "execution_count": null,
      "outputs": [
        {
          "output_type": "execute_result",
          "data": {
            "text/plain": [
              "0.0    2517\n",
              "1.0     574\n",
              "dtype: int64"
            ]
          },
          "metadata": {
            "tags": []
          },
          "execution_count": 85
        }
      ]
    },
    {
      "cell_type": "code",
      "metadata": {
        "id": "59Cpv9HFEUen",
        "colab": {
          "base_uri": "https://localhost:8080/"
        },
        "outputId": "29852dc0-597b-4973-b237-f4f6c82de20a"
      },
      "source": [
        "eval_classification(model, y1_pred, X1_over, y1_over, X1_test, y1_test)"
      ],
      "execution_count": null,
      "outputs": [
        {
          "output_type": "stream",
          "text": [
            "Accuracy (Test Set): 0.77\n",
            "Precision (Test Set): 0.57\n",
            "Recall (Test Set): 0.41\n",
            "F1-Score (Test Set): 0.48\n",
            "AUC: 0.65\n"
          ],
          "name": "stdout"
        }
      ]
    },
    {
      "cell_type": "code",
      "metadata": {
        "id": "UDIxggr1EUen",
        "colab": {
          "base_uri": "https://localhost:8080/"
        },
        "outputId": "2cfbc34c-4d3c-4709-b0a0-39aea20afbcc"
      },
      "source": [
        "print('data train : ', model.score(X1_over, y1_over))\n",
        "print('data test : ', model.score(X1_test,y1_test))"
      ],
      "execution_count": null,
      "outputs": [
        {
          "output_type": "stream",
          "text": [
            "data train :  0.7348024316109423\n",
            "data test :  0.7683597541248787\n"
          ],
          "name": "stdout"
        }
      ]
    },
    {
      "cell_type": "markdown",
      "metadata": {
        "id": "RxtjJuKuEUeo"
      },
      "source": [
        "######Hypertuning Parameter"
      ]
    },
    {
      "cell_type": "code",
      "metadata": {
        "id": "iFMsoTuiEUeo",
        "colab": {
          "base_uri": "https://localhost:8080/"
        },
        "outputId": "ff4a3e99-1017-46c7-8358-4121e3ac99f9"
      },
      "source": [
        "from sklearn.model_selection import RandomizedSearchCV, GridSearchCV\n",
        "#List Hyperparameter\n",
        "penalty = ['l1', 'l2', 'elasticnet']\n",
        "C = [0.0001,0.001, 0.002]\n",
        "hyperparameter = dict(penalty=penalty, C=C)\n",
        "\n",
        "#init. model\n",
        "logistic = LogisticRegression(random_state=42)\n",
        "modellog = RandomizedSearchCV(logistic, hyperparameter, cv=5, scoring='f1')\n",
        "\n",
        "#Fitting model\n",
        "modellog.fit(X1_over, y1_over)\n",
        "y_pred = modellog.predict(X1_test)\n",
        "eval_classification(modellog, y1_pred, X1_over, y1_over, X1_test, y1_test)"
      ],
      "execution_count": null,
      "outputs": [
        {
          "output_type": "stream",
          "text": [
            "Accuracy (Test Set): 0.77\n",
            "Precision (Test Set): 0.57\n",
            "Recall (Test Set): 0.41\n",
            "F1-Score (Test Set): 0.48\n",
            "AUC: 0.65\n"
          ],
          "name": "stdout"
        }
      ]
    },
    {
      "cell_type": "code",
      "metadata": {
        "id": "PRNvVh4pEUeo",
        "colab": {
          "base_uri": "https://localhost:8080/"
        },
        "outputId": "7cb49811-1762-44b0-f926-de646d82c3e2"
      },
      "source": [
        "print('data train : ', model.score(X1_over, y1_over))\n",
        "print('data test : ', model.score(X1_test,y1_test))"
      ],
      "execution_count": null,
      "outputs": [
        {
          "output_type": "stream",
          "text": [
            "data train :  0.7348024316109423\n",
            "data test :  0.7683597541248787\n"
          ],
          "name": "stdout"
        }
      ]
    },
    {
      "cell_type": "markdown",
      "metadata": {
        "id": "B4LGYdqEEZ4R"
      },
      "source": [
        "#####SMOTE"
      ]
    },
    {
      "cell_type": "markdown",
      "metadata": {
        "id": "S6sMR7JlEZ4S"
      },
      "source": [
        "######Model"
      ]
    },
    {
      "cell_type": "code",
      "metadata": {
        "id": "smzaMzApEZ4U",
        "colab": {
          "base_uri": "https://localhost:8080/"
        },
        "outputId": "486954a2-5570-4410-a2e2-bc21d7bd09f4"
      },
      "source": [
        "from sklearn.linear_model import LogisticRegression\n",
        "model = LogisticRegression(random_state=42)\n",
        "model.fit(X1_over_SMOTE, y1_over_SMOTE)"
      ],
      "execution_count": null,
      "outputs": [
        {
          "output_type": "execute_result",
          "data": {
            "text/plain": [
              "LogisticRegression(C=1.0, class_weight=None, dual=False, fit_intercept=True,\n",
              "                   intercept_scaling=1, l1_ratio=None, max_iter=100,\n",
              "                   multi_class='auto', n_jobs=None, penalty='l2',\n",
              "                   random_state=42, solver='lbfgs', tol=0.0001, verbose=0,\n",
              "                   warm_start=False)"
            ]
          },
          "metadata": {
            "tags": []
          },
          "execution_count": 90
        }
      ]
    },
    {
      "cell_type": "code",
      "metadata": {
        "id": "BhmAfv6kEZ4V",
        "colab": {
          "base_uri": "https://localhost:8080/"
        },
        "outputId": "47f15ce0-809b-45d8-ebed-acf589cd8373"
      },
      "source": [
        "y1_pred = model.predict(X1_test)\n",
        "pd.Series(y1_pred).value_counts()\n",
        "#Ypred aneh...kenapa prediksi nya mayoritas 1?"
      ],
      "execution_count": null,
      "outputs": [
        {
          "output_type": "execute_result",
          "data": {
            "text/plain": [
              "0.0    1825\n",
              "1.0    1266\n",
              "dtype: int64"
            ]
          },
          "metadata": {
            "tags": []
          },
          "execution_count": 91
        }
      ]
    },
    {
      "cell_type": "code",
      "metadata": {
        "id": "Zf1njp7TEZ4W",
        "colab": {
          "base_uri": "https://localhost:8080/"
        },
        "outputId": "1401778f-68f3-4918-cec6-e7c9a6af27d2"
      },
      "source": [
        "eval_classification(model, y1_pred, X1_over_SMOTE, y1_over_SMOTE, X1_test, y1_test)"
      ],
      "execution_count": null,
      "outputs": [
        {
          "output_type": "stream",
          "text": [
            "Accuracy (Test Set): 0.70\n",
            "Precision (Test Set): 0.45\n",
            "Recall (Test Set): 0.71\n",
            "F1-Score (Test Set): 0.55\n",
            "AUC: 0.70\n"
          ],
          "name": "stdout"
        }
      ]
    },
    {
      "cell_type": "code",
      "metadata": {
        "id": "IQO4YOY8EZ4X",
        "colab": {
          "base_uri": "https://localhost:8080/"
        },
        "outputId": "1b13fc4f-767f-48ae-9094-f22fd1b6dfe8"
      },
      "source": [
        "print('data train : ', model.score(X1_over_SMOTE, y1_over_SMOTE))\n",
        "print('data test : ', model.score(X1_test,y1_test))"
      ],
      "execution_count": null,
      "outputs": [
        {
          "output_type": "stream",
          "text": [
            "data train :  0.6910144376899696\n",
            "data test :  0.6991264962795212\n"
          ],
          "name": "stdout"
        }
      ]
    },
    {
      "cell_type": "markdown",
      "metadata": {
        "id": "Tz5Zjv0XEZ4Y"
      },
      "source": [
        "######Hypertuning Parameter"
      ]
    },
    {
      "cell_type": "code",
      "metadata": {
        "id": "RF3NXmFpEZ4Y",
        "colab": {
          "base_uri": "https://localhost:8080/"
        },
        "outputId": "e0b1e9b4-e868-422c-dfe1-e4a655489d8d"
      },
      "source": [
        "from sklearn.model_selection import RandomizedSearchCV, GridSearchCV\n",
        "#List Hyperparameter\n",
        "penalty = ['l1', 'l2', 'elasticnet']\n",
        "C = [0.0001,0.001, 0.002]\n",
        "hyperparameter = dict(penalty=penalty, C=C)\n",
        "\n",
        "#init. model\n",
        "logistic = LogisticRegression(random_state=42)\n",
        "modellog = RandomizedSearchCV(logistic, hyperparameter, cv=5, scoring='f1')\n",
        "\n",
        "#Fitting model\n",
        "modellog.fit(X1_over_SMOTE, y1_over_SMOTE)\n",
        "y_pred = modellog.predict(X1_test)\n",
        "eval_classification(modellog, y1_pred, X1_over_SMOTE, y1_over_SMOTE, X1_test, y1_test)"
      ],
      "execution_count": null,
      "outputs": [
        {
          "output_type": "stream",
          "text": [
            "Accuracy (Test Set): 0.70\n",
            "Precision (Test Set): 0.45\n",
            "Recall (Test Set): 0.71\n",
            "F1-Score (Test Set): 0.55\n",
            "AUC: 0.70\n"
          ],
          "name": "stdout"
        }
      ]
    },
    {
      "cell_type": "code",
      "metadata": {
        "id": "hmjrMrMBEZ4Z",
        "colab": {
          "base_uri": "https://localhost:8080/"
        },
        "outputId": "6dabe7e2-e477-4b57-a6e7-e3b41ca086fd"
      },
      "source": [
        "print('data train : ', model.score(X1_over_SMOTE, y1_over_SMOTE))\n",
        "print('data test : ', model.score(X1_test,y1_test))"
      ],
      "execution_count": null,
      "outputs": [
        {
          "output_type": "stream",
          "text": [
            "data train :  0.6910144376899696\n",
            "data test :  0.6991264962795212\n"
          ],
          "name": "stdout"
        }
      ]
    },
    {
      "cell_type": "markdown",
      "metadata": {
        "id": "8Vk7EtBkcGVe"
      },
      "source": [
        "### **3. Decision Tree**"
      ]
    },
    {
      "cell_type": "code",
      "metadata": {
        "id": "JyQH8zJYc_0H"
      },
      "source": [
        "from sklearn.tree import DecisionTreeClassifier"
      ],
      "execution_count": null,
      "outputs": []
    },
    {
      "cell_type": "markdown",
      "metadata": {
        "id": "yf7yrZyDFkoC"
      },
      "source": [
        "####**DATA AWAL**"
      ]
    },
    {
      "cell_type": "markdown",
      "metadata": {
        "id": "XT2cDsVIIffN"
      },
      "source": [
        "#####TRAIN"
      ]
    },
    {
      "cell_type": "code",
      "metadata": {
        "id": "R3qybX-tIff3",
        "colab": {
          "base_uri": "https://localhost:8080/"
        },
        "outputId": "28ddb5f5-3331-43c3-d721-74f8e2d0ca0a"
      },
      "source": [
        "dt = DecisionTreeClassifier(random_state=42)\n",
        "dt.fit(X1_train,y1_train)"
      ],
      "execution_count": null,
      "outputs": [
        {
          "output_type": "execute_result",
          "data": {
            "text/plain": [
              "DecisionTreeClassifier(ccp_alpha=0.0, class_weight=None, criterion='gini',\n",
              "                       max_depth=None, max_features=None, max_leaf_nodes=None,\n",
              "                       min_impurity_decrease=0.0, min_impurity_split=None,\n",
              "                       min_samples_leaf=1, min_samples_split=2,\n",
              "                       min_weight_fraction_leaf=0.0, presort='deprecated',\n",
              "                       random_state=42, splitter='best')"
            ]
          },
          "metadata": {
            "tags": []
          },
          "execution_count": 97
        }
      ]
    },
    {
      "cell_type": "code",
      "metadata": {
        "id": "Kc6KhrHJIff4",
        "colab": {
          "base_uri": "https://localhost:8080/"
        },
        "outputId": "6e6725b9-cc65-4726-910e-b7911b336808"
      },
      "source": [
        "y1_pred = dt.predict(X1_test)\n",
        "eval_classification(dt, y1_pred, X1_train, y1_train, X1_test, y1_test)"
      ],
      "execution_count": null,
      "outputs": [
        {
          "output_type": "stream",
          "text": [
            "Accuracy (Test Set): 0.67\n",
            "Precision (Test Set): 0.38\n",
            "Recall (Test Set): 0.41\n",
            "F1-Score (Test Set): 0.39\n",
            "AUC: 0.59\n"
          ],
          "name": "stdout"
        }
      ]
    },
    {
      "cell_type": "code",
      "metadata": {
        "id": "R7didWjbIff5",
        "colab": {
          "base_uri": "https://localhost:8080/"
        },
        "outputId": "c4c64b78-b9c7-4726-bf3b-676127f2b3cb"
      },
      "source": [
        "print('Train score: ' + str(dt.score(X1_train, y1_train))) #accuracy\n",
        "print('Test score:' + str(dt.score(X1_test, y1_test))) #accuracy"
      ],
      "execution_count": null,
      "outputs": [
        {
          "output_type": "stream",
          "text": [
            "Train score: 1.0\n",
            "Test score:0.6732449045616306\n"
          ],
          "name": "stdout"
        }
      ]
    },
    {
      "cell_type": "markdown",
      "metadata": {
        "id": "4xMNSoafIff5"
      },
      "source": [
        "######Hypertuning"
      ]
    },
    {
      "cell_type": "code",
      "metadata": {
        "id": "IYVwohhrIff6",
        "colab": {
          "base_uri": "https://localhost:8080/"
        },
        "outputId": "786f9250-7da7-43b4-eb78-4c1e394c1634"
      },
      "source": [
        "from sklearn.model_selection import RandomizedSearchCV\n",
        "from scipy.stats import uniform\n",
        "import numpy as np\n",
        "\n",
        "# List of hyperparameter\n",
        "max_depth = [int(x) for x in np.linspace(1, 110, num = 30)] # Maximum number of levels in tree\n",
        "min_samples_split = [2, 5, 10, 100] # Minimum number of samples required to split a node\n",
        "min_samples_leaf = [1, 2, 4, 10, 20, 50] # Minimum number of samples required at each leaf node\n",
        "max_features = ['auto', 'sqrt'] # Number of features to consider at every split\n",
        "\n",
        "hyperparameters = dict(max_depth=max_depth, \n",
        "                       min_samples_split=min_samples_split, \n",
        "                       min_samples_leaf=min_samples_leaf,\n",
        "                       max_features=max_features\n",
        "                      )\n",
        "\n",
        "# Inisialisasi Model\n",
        "dt = DecisionTreeClassifier(random_state=42)\n",
        "model = RandomizedSearchCV(dt, hyperparameters, cv=5, random_state=42, scoring='f1')\n",
        "model.fit(X1_train, y1_train)\n",
        "\n",
        "# Predict & Evaluation\n",
        "y1_pred = model.predict(X1_test)#Check performa dari model\n",
        "eval_classification(model, y1_pred, X1_train, y1_train, X1_test, y1_test)"
      ],
      "execution_count": null,
      "outputs": [
        {
          "output_type": "stream",
          "text": [
            "Accuracy (Test Set): 0.75\n",
            "Precision (Test Set): 0.52\n",
            "Recall (Test Set): 0.29\n",
            "F1-Score (Test Set): 0.38\n",
            "AUC: 0.60\n"
          ],
          "name": "stdout"
        }
      ]
    },
    {
      "cell_type": "code",
      "metadata": {
        "id": "z1DuSfzEIff6",
        "colab": {
          "base_uri": "https://localhost:8080/"
        },
        "outputId": "18f48cd2-7ecc-4423-cf61-6a60d451ae19"
      },
      "source": [
        "print('Best max_depth:', model.best_estimator_.get_params()['max_depth'])\n",
        "print('Best min_samples_split:', model.best_estimator_.get_params()['min_samples_split'])\n",
        "print('Best min_samples_leaf:', model.best_estimator_.get_params()['min_samples_leaf'])\n",
        "print('Best max_features:', model.best_estimator_.get_params()['max_features'])"
      ],
      "execution_count": null,
      "outputs": [
        {
          "output_type": "stream",
          "text": [
            "Best max_depth: 83\n",
            "Best min_samples_split: 100\n",
            "Best min_samples_leaf: 10\n",
            "Best max_features: sqrt\n"
          ],
          "name": "stdout"
        }
      ]
    },
    {
      "cell_type": "code",
      "metadata": {
        "id": "c7qQLFVSIff7",
        "colab": {
          "base_uri": "https://localhost:8080/"
        },
        "outputId": "250c5dcc-44af-48e2-9276-93b985cce1f4"
      },
      "source": [
        "print('Train score: ' + str(model.score(X1_train, y1_train)))\n",
        "print('Test score:' + str(model.score(X1_test, y1_test)))"
      ],
      "execution_count": null,
      "outputs": [
        {
          "output_type": "stream",
          "text": [
            "Train score: 0.4467172550313428\n",
            "Test score:0.3766025641025641\n"
          ],
          "name": "stdout"
        }
      ]
    },
    {
      "cell_type": "markdown",
      "metadata": {
        "id": "WmakIi0ZHj3R"
      },
      "source": [
        "#####UNDER"
      ]
    },
    {
      "cell_type": "code",
      "metadata": {
        "id": "oeMdNlQrHj3n",
        "colab": {
          "base_uri": "https://localhost:8080/"
        },
        "outputId": "1056d9a7-af9c-495b-fb66-98266e0c10a7"
      },
      "source": [
        "dt = DecisionTreeClassifier(random_state=42)\n",
        "dt.fit(X1_under,y1_under)"
      ],
      "execution_count": null,
      "outputs": [
        {
          "output_type": "execute_result",
          "data": {
            "text/plain": [
              "DecisionTreeClassifier(ccp_alpha=0.0, class_weight=None, criterion='gini',\n",
              "                       max_depth=None, max_features=None, max_leaf_nodes=None,\n",
              "                       min_impurity_decrease=0.0, min_impurity_split=None,\n",
              "                       min_samples_leaf=1, min_samples_split=2,\n",
              "                       min_weight_fraction_leaf=0.0, presort='deprecated',\n",
              "                       random_state=42, splitter='best')"
            ]
          },
          "metadata": {
            "tags": []
          },
          "execution_count": 103
        }
      ]
    },
    {
      "cell_type": "code",
      "metadata": {
        "id": "jcG0yi6RHj3p",
        "colab": {
          "base_uri": "https://localhost:8080/"
        },
        "outputId": "b6e1eda0-8b0d-4f40-ab25-825e1f26ba87"
      },
      "source": [
        "y1_pred = dt.predict(X1_test)\n",
        "eval_classification(dt, y1_pred, X1_under, y1_under, X1_test, y1_test)"
      ],
      "execution_count": null,
      "outputs": [
        {
          "output_type": "stream",
          "text": [
            "Accuracy (Test Set): 0.60\n",
            "Precision (Test Set): 0.34\n",
            "Recall (Test Set): 0.59\n",
            "F1-Score (Test Set): 0.44\n",
            "AUC: 0.60\n"
          ],
          "name": "stdout"
        }
      ]
    },
    {
      "cell_type": "code",
      "metadata": {
        "id": "n7SvzPdKHj3p",
        "colab": {
          "base_uri": "https://localhost:8080/"
        },
        "outputId": "323c8ec5-a751-48b5-eb79-7856c4dfc383"
      },
      "source": [
        "print('Train score: ' + str(dt.score(X1_under, y1_under))) #accuracy\n",
        "print('Test score:' + str(dt.score(X1_test, y1_test))) #accuracy"
      ],
      "execution_count": null,
      "outputs": [
        {
          "output_type": "stream",
          "text": [
            "Train score: 1.0\n",
            "Test score:0.6030410870268521\n"
          ],
          "name": "stdout"
        }
      ]
    },
    {
      "cell_type": "markdown",
      "metadata": {
        "id": "y2GXXAF5Hj3q"
      },
      "source": [
        "######Hypertuning"
      ]
    },
    {
      "cell_type": "code",
      "metadata": {
        "id": "nozRWe4WHj3r",
        "colab": {
          "base_uri": "https://localhost:8080/"
        },
        "outputId": "b33cab6e-83cb-4e43-e614-ab249400a0e7"
      },
      "source": [
        "from sklearn.model_selection import RandomizedSearchCV\n",
        "from scipy.stats import uniform\n",
        "import numpy as np\n",
        "\n",
        "# List of hyperparameter\n",
        "max_depth = [int(x) for x in np.linspace(1, 110, num = 30)] # Maximum number of levels in tree\n",
        "min_samples_split = [2, 5, 10, 100] # Minimum number of samples required to split a node\n",
        "min_samples_leaf = [1, 2, 4, 10, 20, 50] # Minimum number of samples required at each leaf node\n",
        "max_features = ['auto', 'sqrt'] # Number of features to consider at every split\n",
        "\n",
        "hyperparameters = dict(max_depth=max_depth, \n",
        "                       min_samples_split=min_samples_split, \n",
        "                       min_samples_leaf=min_samples_leaf,\n",
        "                       max_features=max_features\n",
        "                      )\n",
        "\n",
        "# Inisialisasi Model\n",
        "dt = DecisionTreeClassifier(random_state=42)\n",
        "model = RandomizedSearchCV(dt, hyperparameters, cv=5, random_state=42, scoring='f1')\n",
        "model.fit(X1_under, y1_under)\n",
        "\n",
        "# Predict & Evaluation\n",
        "y1_pred = model.predict(X1_test)#Check performa dari model\n",
        "eval_classification(model, y1_pred, X1_under, y1_under, X1_test, y1_test)"
      ],
      "execution_count": null,
      "outputs": [
        {
          "output_type": "stream",
          "text": [
            "Accuracy (Test Set): 0.63\n",
            "Precision (Test Set): 0.38\n",
            "Recall (Test Set): 0.66\n",
            "F1-Score (Test Set): 0.48\n",
            "AUC: 0.64\n"
          ],
          "name": "stdout"
        }
      ]
    },
    {
      "cell_type": "code",
      "metadata": {
        "id": "rxTrKb9rHj3r",
        "colab": {
          "base_uri": "https://localhost:8080/"
        },
        "outputId": "f5a5905f-f29b-4da5-9208-66096abef398"
      },
      "source": [
        "print('Best max_depth:', model.best_estimator_.get_params()['max_depth'])\n",
        "print('Best min_samples_split:', model.best_estimator_.get_params()['min_samples_split'])\n",
        "print('Best min_samples_leaf:', model.best_estimator_.get_params()['min_samples_leaf'])\n",
        "print('Best max_features:', model.best_estimator_.get_params()['max_features'])"
      ],
      "execution_count": null,
      "outputs": [
        {
          "output_type": "stream",
          "text": [
            "Best max_depth: 83\n",
            "Best min_samples_split: 100\n",
            "Best min_samples_leaf: 10\n",
            "Best max_features: sqrt\n"
          ],
          "name": "stdout"
        }
      ]
    },
    {
      "cell_type": "code",
      "metadata": {
        "id": "2rphROL2Hj3s",
        "colab": {
          "base_uri": "https://localhost:8080/"
        },
        "outputId": "39531aca-a9c0-473c-f4f2-b07eff7b6a62"
      },
      "source": [
        "print('Train score: ' + str(model.score(X1_under, y1_under)))\n",
        "print('Test score:' + str(model.score(X1_test, y1_test)))"
      ],
      "execution_count": null,
      "outputs": [
        {
          "output_type": "stream",
          "text": [
            "Train score: 0.7056441407238674\n",
            "Test score:0.4805429864253393\n"
          ],
          "name": "stdout"
        }
      ]
    },
    {
      "cell_type": "markdown",
      "metadata": {
        "id": "jEoeait9GcAH"
      },
      "source": [
        "#####OVER"
      ]
    },
    {
      "cell_type": "code",
      "metadata": {
        "id": "fRAp5q90GXoM",
        "colab": {
          "base_uri": "https://localhost:8080/"
        },
        "outputId": "d3ead006-310c-41e3-adfe-afc738073a3c"
      },
      "source": [
        "dt = DecisionTreeClassifier(random_state=42)\n",
        "dt.fit(X1_over,y1_over)"
      ],
      "execution_count": null,
      "outputs": [
        {
          "output_type": "execute_result",
          "data": {
            "text/plain": [
              "DecisionTreeClassifier(ccp_alpha=0.0, class_weight=None, criterion='gini',\n",
              "                       max_depth=None, max_features=None, max_leaf_nodes=None,\n",
              "                       min_impurity_decrease=0.0, min_impurity_split=None,\n",
              "                       min_samples_leaf=1, min_samples_split=2,\n",
              "                       min_weight_fraction_leaf=0.0, presort='deprecated',\n",
              "                       random_state=42, splitter='best')"
            ]
          },
          "metadata": {
            "tags": []
          },
          "execution_count": 109
        }
      ]
    },
    {
      "cell_type": "code",
      "metadata": {
        "id": "2cQr1sZOGXoX",
        "colab": {
          "base_uri": "https://localhost:8080/"
        },
        "outputId": "15dda6a9-ded4-407a-98a2-dfac7b75c701"
      },
      "source": [
        "y1_pred = dt.predict(X1_test)\n",
        "eval_classification(dt, y1_pred, X1_over, y1_over, X1_test, y1_test)"
      ],
      "execution_count": null,
      "outputs": [
        {
          "output_type": "stream",
          "text": [
            "Accuracy (Test Set): 0.69\n",
            "Precision (Test Set): 0.41\n",
            "Recall (Test Set): 0.45\n",
            "F1-Score (Test Set): 0.43\n",
            "AUC: 0.61\n"
          ],
          "name": "stdout"
        }
      ]
    },
    {
      "cell_type": "code",
      "metadata": {
        "id": "PJisjCQOGXoY",
        "colab": {
          "base_uri": "https://localhost:8080/"
        },
        "outputId": "191153fc-98fa-4663-8223-513539494bb4"
      },
      "source": [
        "print('Train score: ' + str(dt.score(X1_over, y1_over))) #accuracy\n",
        "print('Test score:' + str(dt.score(X1_test, y1_test))) #accuracy"
      ],
      "execution_count": null,
      "outputs": [
        {
          "output_type": "stream",
          "text": [
            "Train score: 1.0\n",
            "Test score:0.6894208993853121\n"
          ],
          "name": "stdout"
        }
      ]
    },
    {
      "cell_type": "markdown",
      "metadata": {
        "id": "jA0WfniWGXoa"
      },
      "source": [
        "######Hypertuning"
      ]
    },
    {
      "cell_type": "code",
      "metadata": {
        "id": "qDntMh2LGXod",
        "colab": {
          "base_uri": "https://localhost:8080/"
        },
        "outputId": "fa8ab2db-5c37-46a4-ef20-87a62ef82f2e"
      },
      "source": [
        "from sklearn.model_selection import RandomizedSearchCV\n",
        "from scipy.stats import uniform\n",
        "import numpy as np\n",
        "\n",
        "# List of hyperparameter\n",
        "max_depth = [int(x) for x in np.linspace(1, 110, num = 30)] # Maximum number of levels in tree\n",
        "min_samples_split = [2, 5, 10, 100] # Minimum number of samples required to split a node\n",
        "min_samples_leaf = [1, 2, 4, 10, 20, 50] # Minimum number of samples required at each leaf node\n",
        "max_features = ['auto', 'sqrt'] # Number of features to consider at every split\n",
        "\n",
        "hyperparameters = dict(max_depth=max_depth, \n",
        "                       min_samples_split=min_samples_split, \n",
        "                       min_samples_leaf=min_samples_leaf,\n",
        "                       max_features=max_features\n",
        "                      )\n",
        "\n",
        "# Inisialisasi Model\n",
        "dt = DecisionTreeClassifier(random_state=42)\n",
        "model = RandomizedSearchCV(dt, hyperparameters, cv=5, random_state=42, scoring='f1')\n",
        "model.fit(X1_over, y1_over)\n",
        "\n",
        "# Predict & Evaluation\n",
        "y1_pred = model.predict(X1_test)#Check performa dari model\n",
        "eval_classification(model, y1_pred, X1_over, y1_over, X1_test, y1_test)"
      ],
      "execution_count": null,
      "outputs": [
        {
          "output_type": "stream",
          "text": [
            "Accuracy (Test Set): 0.69\n",
            "Precision (Test Set): 0.40\n",
            "Recall (Test Set): 0.40\n",
            "F1-Score (Test Set): 0.40\n",
            "AUC: 0.59\n"
          ],
          "name": "stdout"
        }
      ]
    },
    {
      "cell_type": "code",
      "metadata": {
        "id": "B8JGRjSPGXoe",
        "colab": {
          "base_uri": "https://localhost:8080/"
        },
        "outputId": "f04ab9ab-417d-44a4-8484-0d81f4f44192"
      },
      "source": [
        "print('Best max_depth:', model.best_estimator_.get_params()['max_depth'])\n",
        "print('Best min_samples_split:', model.best_estimator_.get_params()['min_samples_split'])\n",
        "print('Best min_samples_leaf:', model.best_estimator_.get_params()['min_samples_leaf'])\n",
        "print('Best max_features:', model.best_estimator_.get_params()['max_features'])"
      ],
      "execution_count": null,
      "outputs": [
        {
          "output_type": "stream",
          "text": [
            "Best max_depth: 87\n",
            "Best min_samples_split: 10\n",
            "Best min_samples_leaf: 1\n",
            "Best max_features: sqrt\n"
          ],
          "name": "stdout"
        }
      ]
    },
    {
      "cell_type": "code",
      "metadata": {
        "id": "D3A7xAFcGXog",
        "colab": {
          "base_uri": "https://localhost:8080/"
        },
        "outputId": "d81eda1c-80e4-4938-a8c5-20a7eb3c8484"
      },
      "source": [
        "print('Train score: ' + str(model.score(X1_over, y1_over)))\n",
        "print('Test score:' + str(model.score(X1_test, y1_test)))"
      ],
      "execution_count": null,
      "outputs": [
        {
          "output_type": "stream",
          "text": [
            "Train score: 0.8346862007523264\n",
            "Test score:0.3975\n"
          ],
          "name": "stdout"
        }
      ]
    },
    {
      "cell_type": "markdown",
      "metadata": {
        "id": "J98dPDwGFnPi"
      },
      "source": [
        "#####SMOTE"
      ]
    },
    {
      "cell_type": "code",
      "metadata": {
        "id": "lMBezbasFwRq",
        "colab": {
          "base_uri": "https://localhost:8080/"
        },
        "outputId": "ea67918a-be36-49db-8626-b63d1d4feaec"
      },
      "source": [
        "dt = DecisionTreeClassifier(random_state=42)\n",
        "dt.fit(X1_over_SMOTE,y1_over_SMOTE)"
      ],
      "execution_count": null,
      "outputs": [
        {
          "output_type": "execute_result",
          "data": {
            "text/plain": [
              "DecisionTreeClassifier(ccp_alpha=0.0, class_weight=None, criterion='gini',\n",
              "                       max_depth=None, max_features=None, max_leaf_nodes=None,\n",
              "                       min_impurity_decrease=0.0, min_impurity_split=None,\n",
              "                       min_samples_leaf=1, min_samples_split=2,\n",
              "                       min_weight_fraction_leaf=0.0, presort='deprecated',\n",
              "                       random_state=42, splitter='best')"
            ]
          },
          "metadata": {
            "tags": []
          },
          "execution_count": 115
        }
      ]
    },
    {
      "cell_type": "code",
      "metadata": {
        "id": "s6cguL5KFwSN",
        "colab": {
          "base_uri": "https://localhost:8080/"
        },
        "outputId": "dd0c6baa-cd82-4753-f98b-6aa980c48046"
      },
      "source": [
        "y1_pred = dt.predict(X1_test)\n",
        "eval_classification(dt, y1_pred, X1_over_SMOTE, y1_over_SMOTE, X1_test, y1_test)"
      ],
      "execution_count": null,
      "outputs": [
        {
          "output_type": "stream",
          "text": [
            "Accuracy (Test Set): 0.67\n",
            "Precision (Test Set): 0.39\n",
            "Recall (Test Set): 0.44\n",
            "F1-Score (Test Set): 0.41\n",
            "AUC: 0.60\n"
          ],
          "name": "stdout"
        }
      ]
    },
    {
      "cell_type": "code",
      "metadata": {
        "id": "fxowY38JFwSO",
        "colab": {
          "base_uri": "https://localhost:8080/"
        },
        "outputId": "ffeb37ba-55f7-4eb5-e376-9cafb106ff89"
      },
      "source": [
        "print('Train score: ' + str(dt.score(X1_over_SMOTE, y1_over_SMOTE))) #accuracy\n",
        "print('Test score:' + str(dt.score(X1_test, y1_test))) #accuracy"
      ],
      "execution_count": null,
      "outputs": [
        {
          "output_type": "stream",
          "text": [
            "Train score: 1.0\n",
            "Test score:0.6745389841475251\n"
          ],
          "name": "stdout"
        }
      ]
    },
    {
      "cell_type": "markdown",
      "metadata": {
        "id": "RgGNTEOkFwSP"
      },
      "source": [
        "######Hypertuning"
      ]
    },
    {
      "cell_type": "code",
      "metadata": {
        "id": "krBucxnJFwSQ",
        "colab": {
          "base_uri": "https://localhost:8080/"
        },
        "outputId": "6acff9c1-ce5b-4b89-f88a-c3291be50f23"
      },
      "source": [
        "from sklearn.model_selection import RandomizedSearchCV\n",
        "from scipy.stats import uniform\n",
        "import numpy as np\n",
        "\n",
        "# List of hyperparameter\n",
        "max_depth = [int(x) for x in np.linspace(1, 110, num = 30)] # Maximum number of levels in tree\n",
        "min_samples_split = [2, 5, 10, 100] # Minimum number of samples required to split a node\n",
        "min_samples_leaf = [1, 2, 4, 10, 20, 50] # Minimum number of samples required at each leaf node\n",
        "max_features = ['auto', 'sqrt'] # Number of features to consider at every split\n",
        "\n",
        "hyperparameters = dict(max_depth=max_depth, \n",
        "                       min_samples_split=min_samples_split, \n",
        "                       min_samples_leaf=min_samples_leaf,\n",
        "                       max_features=max_features\n",
        "                      )\n",
        "\n",
        "# Inisialisasi Model\n",
        "dt = DecisionTreeClassifier(random_state=42)\n",
        "model = RandomizedSearchCV(dt, hyperparameters, cv=5, random_state=42, scoring='f1')\n",
        "model.fit(X1_over_SMOTE, y1_over_SMOTE)\n",
        "\n",
        "# Predict & Evaluation\n",
        "y1_pred = model.predict(X1_test)#Check performa dari model\n",
        "eval_classification(model, y1_pred, X1_over_SMOTE, y1_over_SMOTE, X1_test, y1_test)"
      ],
      "execution_count": null,
      "outputs": [
        {
          "output_type": "stream",
          "text": [
            "Accuracy (Test Set): 0.68\n",
            "Precision (Test Set): 0.40\n",
            "Recall (Test Set): 0.42\n",
            "F1-Score (Test Set): 0.41\n",
            "AUC: 0.60\n"
          ],
          "name": "stdout"
        }
      ]
    },
    {
      "cell_type": "code",
      "metadata": {
        "id": "_r9mgAy5FwSR",
        "colab": {
          "base_uri": "https://localhost:8080/"
        },
        "outputId": "92b7789b-035a-4d5c-960b-e0042c3a83f2"
      },
      "source": [
        "print('Best max_depth:', model.best_estimator_.get_params()['max_depth'])\n",
        "print('Best min_samples_split:', model.best_estimator_.get_params()['min_samples_split'])\n",
        "print('Best min_samples_leaf:', model.best_estimator_.get_params()['min_samples_leaf'])\n",
        "print('Best max_features:', model.best_estimator_.get_params()['max_features'])"
      ],
      "execution_count": null,
      "outputs": [
        {
          "output_type": "stream",
          "text": [
            "Best max_depth: 87\n",
            "Best min_samples_split: 10\n",
            "Best min_samples_leaf: 1\n",
            "Best max_features: sqrt\n"
          ],
          "name": "stdout"
        }
      ]
    },
    {
      "cell_type": "code",
      "metadata": {
        "id": "3Z1AqL5AFwSS",
        "colab": {
          "base_uri": "https://localhost:8080/"
        },
        "outputId": "16a0d448-e420-44b6-93ad-9b6b0014f662"
      },
      "source": [
        "print('Train score: ' + str(model.score(X1_over_SMOTE, y1_over_SMOTE)))\n",
        "print('Test score:' + str(model.score(X1_test, y1_test)))"
      ],
      "execution_count": null,
      "outputs": [
        {
          "output_type": "stream",
          "text": [
            "Train score: 0.9087007413187671\n",
            "Test score:0.406079027355623\n"
          ],
          "name": "stdout"
        }
      ]
    },
    {
      "cell_type": "markdown",
      "metadata": {
        "id": "ruEAEXtCwLpJ"
      },
      "source": [
        "### **4. Ensemble Methods**"
      ]
    },
    {
      "cell_type": "markdown",
      "metadata": {
        "id": "a4zyAebS2PyT"
      },
      "source": [
        "####**DATA SEBELUM OUTLIER**"
      ]
    },
    {
      "cell_type": "markdown",
      "metadata": {
        "id": "v5ikQsPI2gM5"
      },
      "source": [
        "##### Bagging: Random Forest"
      ]
    },
    {
      "cell_type": "code",
      "metadata": {
        "id": "U8XgAsBSuDvH",
        "colab": {
          "base_uri": "https://localhost:8080/"
        },
        "outputId": "9aaf7f4a-7e0c-4f6c-cf25-ced929400f85"
      },
      "source": [
        "from sklearn.ensemble import RandomForestClassifier\n",
        "rf = RandomForestClassifier(random_state=42, max_depth=12) #Tunning Maxdepth\n",
        "rf.fit(X1_over_SMOTE,y1_over_SMOTE)\n",
        "\n",
        "y1_pred = rf.predict(X1_test)\n",
        "eval_classification(rf, y1_pred, X1_over_SMOTE, y1_over_SMOTE, X1_test, y1_test)"
      ],
      "execution_count": null,
      "outputs": [
        {
          "output_type": "stream",
          "text": [
            "Accuracy (Test Set): 0.76\n",
            "Precision (Test Set): 0.55\n",
            "Recall (Test Set): 0.51\n",
            "F1-Score (Test Set): 0.53\n",
            "AUC: 0.68\n"
          ],
          "name": "stdout"
        }
      ]
    },
    {
      "cell_type": "code",
      "metadata": {
        "id": "Ls6_q2vZxrBh",
        "colab": {
          "base_uri": "https://localhost:8080/"
        },
        "outputId": "f66d328f-58a2-4ca8-8d8f-8d573e389efe"
      },
      "source": [
        "show_feature_importance(rf)"
      ],
      "execution_count": null,
      "outputs": [
        {
          "output_type": "display_data",
          "data": {
            "image/png": "[encoded data removed]",
            "text/plain": [
              "<Figure size 720x576 with 1 Axes>"
            ]
          },
          "metadata": {
            "tags": [],
            "needs_background": "light"
          }
        }
      ]
    },
    {
      "cell_type": "code",
      "metadata": {
        "colab": {
          "base_uri": "https://localhost:8080/"
        },
        "id": "ObNUS6YVyOFu",
        "outputId": "7a8cf768-5874-4883-bde4-6a1affcb9b76"
      },
      "source": [
        "from sklearn.model_selection import RandomizedSearchCV, GridSearchCV\n",
        "\n",
        "#List Hyperparameters yang akan diuji\n",
        "hyperparameters = dict(\n",
        "                       n_estimators = [int(x) for x in np.linspace(start = 100, stop = 2000, num = 20)], # Jumlah subtree --\n",
        "                       bootstrap = [True], # Apakah pakai bootstrapping atau tidak\n",
        "                       criterion = ['gini','entropy'],\n",
        "                       max_depth = [int(x) for x in np.linspace(1, 10, num = 11)],  # Maximum kedalaman tree\n",
        "                       min_samples_split = [int(x) for x in np.linspace(start = 2, stop = 10, num = 5)], # Jumlah minimum samples pada node agar boleh di split menjadi leaf baru\n",
        "                       min_samples_leaf = [int(x) for x in np.linspace(start = 1, stop = 10, num = 5)], # Jumlah minimum samples pada leaf agar boleh terbentuk leaf baru\n",
        "                       max_features = ['auto', 'sqrt', 'log2'], # Jumlah feature yg dipertimbangkan pada masing-masing split\n",
        "                       n_jobs = [-1], # Core untuk parallel computation. -1 untuk menggunakan semua core\n",
        "                      )\n",
        "\n",
        "# Init\n",
        "rf = RandomForestClassifier(random_state=42)\n",
        "rf_tuned = RandomizedSearchCV(rf, hyperparameters, cv=5, random_state=42, scoring='f1')\n",
        "rf_tuned.fit(X1_over_SMOTE,y1_over_SMOTE)\n",
        "\n",
        "# Predict & Evaluation\n",
        "y1_pred = rf_tuned.predict(X1_test)#Check performa dari model\n",
        "eval_classification(rf_tuned, y1_pred, X1_over_SMOTE, y1_over_SMOTE, X1_test, y1_test)"
      ],
      "execution_count": null,
      "outputs": [
        {
          "output_type": "stream",
          "text": [
            "Accuracy (Test Set): 0.76\n",
            "Precision (Test Set): 0.53\n",
            "Recall (Test Set): 0.55\n",
            "F1-Score (Test Set): 0.54\n",
            "AUC: 0.69\n"
          ],
          "name": "stdout"
        }
      ]
    },
    {
      "cell_type": "code",
      "metadata": {
        "id": "0yezO2fV79A-",
        "colab": {
          "base_uri": "https://localhost:8080/"
        },
        "outputId": "63ab6a51-1e23-44e4-fd83-62f948795bb2"
      },
      "source": [
        "show_best_hyperparameter(rf_tuned.best_estimator_, hyperparameters)"
      ],
      "execution_count": null,
      "outputs": [
        {
          "output_type": "stream",
          "text": [
            "Best n_estimators: 400\n",
            "Best bootstrap: True\n",
            "Best criterion: gini\n",
            "Best max_depth: 10\n",
            "Best min_samples_split: 4\n",
            "Best min_samples_leaf: 1\n",
            "Best max_features: log2\n",
            "Best n_jobs: -1\n"
          ],
          "name": "stdout"
        }
      ]
    },
    {
      "cell_type": "code",
      "metadata": {
        "colab": {
          "base_uri": "https://localhost:8080/"
        },
        "id": "paiJYino79uS",
        "outputId": "4f068b56-a604-421a-e705-172b63c3f628"
      },
      "source": [
        "show_feature_importance(rf_tuned.best_estimator_)"
      ],
      "execution_count": null,
      "outputs": [
        {
          "output_type": "display_data",
          "data": {
            "image/png": "[encoded data removed]",
            "text/plain": [
              "<Figure size 720x576 with 1 Axes>"
            ]
          },
          "metadata": {
            "tags": [],
            "needs_background": "light"
          }
        }
      ]
    },
    {
      "cell_type": "markdown",
      "metadata": {
        "id": "n6k_10Fu9KjX"
      },
      "source": [
        "#####Boosting: AdaBoost"
      ]
    },
    {
      "cell_type": "code",
      "metadata": {
        "colab": {
          "base_uri": "https://localhost:8080/"
        },
        "id": "o1Rfd6MP9RX0",
        "outputId": "6820057a-26f8-4574-b5ae-9dc53002b0d2"
      },
      "source": [
        "from sklearn.ensemble import AdaBoostClassifier\n",
        "ab = AdaBoostClassifier(random_state=42)\n",
        "ab.fit(X1_over_SMOTE,y1_over_SMOTE)\n",
        "\n",
        "y1_pred = ab.predict(X1_test)\n",
        "eval_classification(ab, y1_pred, X1_over_SMOTE, y1_over_SMOTE, X1_test, y1_test)"
      ],
      "execution_count": null,
      "outputs": [
        {
          "output_type": "stream",
          "text": [
            "Accuracy (Test Set): 0.75\n",
            "Precision (Test Set): 0.52\n",
            "Recall (Test Set): 0.57\n",
            "F1-Score (Test Set): 0.55\n",
            "AUC: 0.69\n"
          ],
          "name": "stdout"
        }
      ]
    },
    {
      "cell_type": "code",
      "metadata": {
        "colab": {
          "base_uri": "https://localhost:8080/",
          "height": 513
        },
        "id": "XK_ejAej9Umk",
        "outputId": "2a0ffa41-60f5-4761-fc22-597de3195402"
      },
      "source": [
        "show_feature_importance(ab)"
      ],
      "execution_count": null,
      "outputs": [
        {
          "output_type": "display_data",
          "data": {
            "image/png": "[encoded data removed]",
            "text/plain": [
              "<Figure size 720x576 with 1 Axes>"
            ]
          },
          "metadata": {
            "tags": [],
            "needs_background": "light"
          }
        }
      ]
    },
    {
      "cell_type": "code",
      "metadata": {
        "id": "Bsbb-nCk9XN7",
        "colab": {
          "base_uri": "https://localhost:8080/"
        },
        "outputId": "9908cb14-e3b6-46bd-d548-4fc547f8de28"
      },
      "source": [
        "from sklearn.model_selection import RandomizedSearchCV, GridSearchCV\n",
        "import numpy as np\n",
        "\n",
        "# List of hyperparameter\n",
        "hyperparameters = dict(n_estimators = [int(x) for x in np.linspace(start = 100, stop = 2000, num = 20)], # Jumlah iterasi\n",
        "                       learning_rate = [float(x) for x in np.linspace(start = 0.001, stop = 0.1, num = 20)],  \n",
        "                       algorithm = ['SAMME', 'SAMME.R']\n",
        "                      )\n",
        "\n",
        "# Init model\n",
        "ab = AdaBoostClassifier(random_state=42)\n",
        "ab_tuned = RandomizedSearchCV(ab, hyperparameters, random_state=42, cv=5, scoring='f1')\n",
        "ab_tuned.fit(X1_over_SMOTE,y1_over_SMOTE)\n",
        "\n",
        "# Predict & Evaluation\n",
        "y1_pred = ab_tuned.predict(X1_test)#Check performa dari model\n",
        "eval_classification(ab_tuned, y1_pred, X1_over_SMOTE, y1_over_SMOTE, X1_test, y1_test)"
      ],
      "execution_count": null,
      "outputs": [
        {
          "output_type": "stream",
          "text": [
            "Accuracy (Test Set): 0.75\n",
            "Precision (Test Set): 0.51\n",
            "Recall (Test Set): 0.59\n",
            "F1-Score (Test Set): 0.55\n",
            "AUC: 0.70\n"
          ],
          "name": "stdout"
        }
      ]
    },
    {
      "cell_type": "code",
      "metadata": {
        "id": "qpHseeV-9Xp7",
        "colab": {
          "base_uri": "https://localhost:8080/"
        },
        "outputId": "dea1b288-75ec-465e-e09f-c327835df4f2"
      },
      "source": [
        "show_best_hyperparameter(ab_tuned.best_estimator_, hyperparameters)"
      ],
      "execution_count": null,
      "outputs": [
        {
          "output_type": "stream",
          "text": [
            "Best n_estimators: 800\n",
            "Best learning_rate: 0.06873684210526315\n",
            "Best algorithm: SAMME.R\n"
          ],
          "name": "stdout"
        }
      ]
    },
    {
      "cell_type": "code",
      "metadata": {
        "id": "rlRRabc59ZGj",
        "colab": {
          "base_uri": "https://localhost:8080/",
          "height": 513
        },
        "outputId": "ac00ee9b-ed1f-47a6-e091-73abe003f1b6"
      },
      "source": [
        "show_feature_importance(ab_tuned.best_estimator_)"
      ],
      "execution_count": null,
      "outputs": [
        {
          "output_type": "display_data",
          "data": {
            "image/png": "[encoded data removed]",
            "text/plain": [
              "<Figure size 720x576 with 1 Axes>"
            ]
          },
          "metadata": {
            "tags": [],
            "needs_background": "light"
          }
        }
      ]
    },
    {
      "cell_type": "markdown",
      "metadata": {
        "id": "HXTNGVt49iai"
      },
      "source": [
        "#####Boosting: XGBoost"
      ]
    },
    {
      "cell_type": "code",
      "metadata": {
        "id": "816RwEkZ9lfq",
        "colab": {
          "base_uri": "https://localhost:8080/"
        },
        "outputId": "c8d92a9a-7b04-483d-891b-b3a1416b9607"
      },
      "source": [
        "from xgboost import XGBClassifier\n",
        "xg = XGBClassifier(random_state=42)\n",
        "xg.fit(X1_over_SMOTE, y1_over_SMOTE)\n",
        "\n",
        "y1_pred = xg.predict(array_X1_test)\n",
        "eval_classification(xg, y1_pred, X1_over_SMOTE, y1_over_SMOTE, array_X1_test, array_y1_test)"
      ],
      "execution_count": null,
      "outputs": [
        {
          "output_type": "stream",
          "text": [
            "Accuracy (Test Set): 0.78\n",
            "Precision (Test Set): 0.59\n",
            "Recall (Test Set): 0.48\n",
            "F1-Score (Test Set): 0.53\n",
            "AUC: 0.68\n"
          ],
          "name": "stdout"
        }
      ]
    },
    {
      "cell_type": "code",
      "metadata": {
        "id": "LOYy7HnC9neb",
        "colab": {
          "base_uri": "https://localhost:8080/",
          "height": 513
        },
        "outputId": "39cc7b01-0d4a-48b3-dbea-9b9e43df86a1"
      },
      "source": [
        "show_feature_importance(xg)"
      ],
      "execution_count": null,
      "outputs": [
        {
          "output_type": "display_data",
          "data": {
            "image/png": "[encoded data removed]",
            "text/plain": [
              "<Figure size 720x576 with 1 Axes>"
            ]
          },
          "metadata": {
            "tags": [],
            "needs_background": "light"
          }
        }
      ]
    },
    {
      "cell_type": "code",
      "metadata": {
        "id": "r8pcXTYX9pce",
        "colab": {
          "base_uri": "https://localhost:8080/"
        },
        "outputId": "9cef27a0-be7c-49e4-e047-ba1ac5362064"
      },
      "source": [
        "from sklearn.model_selection import RandomizedSearchCV, GridSearchCV\n",
        "import numpy as np\n",
        "\n",
        "#Menjadikan ke dalam bentuk dictionary\n",
        "hyperparameters = {\n",
        "                    'max_depth' : [int(x) for x in np.linspace(1, 10, num = 11)],\n",
        "                    'min_child_weight' : [int(x) for x in np.linspace(1, 20, num = 11)],\n",
        "                    'gamma' : [float(x) for x in np.linspace(0, 1, num = 11)],\n",
        "                    'tree_method' : ['auto', 'exact', 'approx', 'hist'],\n",
        "\n",
        "                    'colsample_bytree' : [float(x) for x in np.linspace(0, 1, num = 11)],\n",
        "                    'eta' : [float(x) for x in np.linspace(0, 1, num = 100)],\n",
        "\n",
        "                    'lambda' : [float(x) for x in np.linspace(0, 1, num = 11)],\n",
        "                    'alpha' : [float(x) for x in np.linspace(0, 1, num = 11)]\n",
        "                    }\n",
        "\n",
        "# Init\n",
        "xg = XGBClassifier(random_state=42)\n",
        "xg_tuned = RandomizedSearchCV(xg, hyperparameters, cv=5, random_state=42, scoring='f1')\n",
        "xg_tuned.fit(X1_over_SMOTE,y1_over_SMOTE)\n",
        "\n",
        "# Predict & Evaluation\n",
        "y1_pred = xg_tuned.predict(array_X1_test)#Check performa dari model\n",
        "eval_classification(xg_tuned, y1_pred, X1_over_SMOTE, y1_over_SMOTE, array_X1_test, array_y1_test)"
      ],
      "execution_count": null,
      "outputs": [
        {
          "output_type": "stream",
          "text": [
            "Accuracy (Test Set): 0.77\n",
            "Precision (Test Set): 0.59\n",
            "Recall (Test Set): 0.41\n",
            "F1-Score (Test Set): 0.48\n",
            "AUC: 0.65\n"
          ],
          "name": "stdout"
        }
      ]
    },
    {
      "cell_type": "code",
      "metadata": {
        "id": "Ymgy7PRo9v-l",
        "colab": {
          "base_uri": "https://localhost:8080/"
        },
        "outputId": "8d4737f9-6e24-449f-d7bd-87a9e2c2619f"
      },
      "source": [
        "show_best_hyperparameter(xg_tuned.best_estimator_, hyperparameters)"
      ],
      "execution_count": null,
      "outputs": [
        {
          "output_type": "stream",
          "text": [
            "Best max_depth: 10\n",
            "Best min_child_weight: 2\n",
            "Best gamma: 0.5\n",
            "Best tree_method: hist\n",
            "Best colsample_bytree: 1.0\n",
            "Best eta: 0.7777777777777778\n",
            "Best lambda: 0.2\n",
            "Best alpha: 0.1\n"
          ],
          "name": "stdout"
        }
      ]
    },
    {
      "cell_type": "code",
      "metadata": {
        "id": "-IN8_mNy9xwc",
        "colab": {
          "base_uri": "https://localhost:8080/",
          "height": 513
        },
        "outputId": "6c482bb6-47c1-4246-cdfd-a2b586aba646"
      },
      "source": [
        "show_feature_importance(xg_tuned.best_estimator_)"
      ],
      "execution_count": null,
      "outputs": [
        {
          "output_type": "display_data",
          "data": {
            "image/png": "[encoded data removed]",
            "text/plain": [
              "<Figure size 720x576 with 1 Axes>"
            ]
          },
          "metadata": {
            "tags": [],
            "needs_background": "light"
          }
        }
      ]
    },
    {
      "cell_type": "markdown",
      "metadata": {
        "id": "4ivoPwvO-jwi"
      },
      "source": [
        "#####Choosing the baseline"
      ]
    },
    {
      "cell_type": "code",
      "metadata": {
        "id": "pdot3jGvy6rN"
      },
      "source": [
        "from sklearn.metrics import accuracy_score, recall_score, f1_score, precision_score, roc_auc_score\n",
        "from sklearn.ensemble import StackingClassifier\n",
        "from sklearn.linear_model import LogisticRegression\n",
        "from sklearn.neighbors import KNeighborsClassifier\n",
        "from sklearn.tree import DecisionTreeClassifier\n",
        "from sklearn.svm import SVC\n",
        "from sklearn.ensemble import RandomForestClassifier\n",
        "from sklearn.naive_bayes import GaussianNB\n",
        "from sklearn.ensemble import AdaBoostClassifier\n",
        "from xgboost import XGBClassifier\n",
        "\n",
        "def algorithm_pipeline(X1_over_SMOTE, array_X1_test, y1_over_SMOTE, array_y1_test, model, hyperparameters, cv=5, scoring_fit='f1', scoring_test=f1_score): #\n",
        "    rs = RandomizedSearchCV(estimator=model, param_distributions=hyperparameters, cv=cv, n_jobs=-1, scoring=scoring_fit, verbose=0, random_state=42) # Use GridSearch better if you have more resource & time\n",
        "    rs.fit(X1_over_SMOTE, y1_over_SMOTE)\n",
        "    best_model = rs.best_estimator_\n",
        "    \n",
        "    pred = rs.predict(array_X1_test)\n",
        "    score = scoring_test(array_y1_test, pred)\n",
        "    return [best_model, pred, score]"
      ],
      "execution_count": null,
      "outputs": []
    },
    {
      "cell_type": "code",
      "metadata": {
        "id": "vejpwr4W_kc0"
      },
      "source": [
        "models_to_train = [LogisticRegression(), KNeighborsClassifier(), DecisionTreeClassifier(), RandomForestClassifier(), AdaBoostClassifier(random_state=42), XGBClassifier(random_state=42)]\n",
        "\n",
        "# Defining the hyperparameters to optimize\n",
        "grid_parameters = [\n",
        "    { # Logistic Regression\n",
        "        'penalty': ['l2','l1','elasticnet'],\n",
        "        'C': np.logspace(-4,4,20)\n",
        "    },\n",
        "    { # KNearestNeighbor\n",
        "        'leaf_size': list(range(1,50)),\n",
        "        'n_neighbors': list(range(1,30)),\n",
        "        'p': [1,2],\n",
        "        'algorithm' : ['auto', 'ball_tree', 'kd_tree', 'brute']\n",
        "    }, \n",
        "    { # Decision Tree\n",
        "        'max_depth': np.linspace(1, 32, 32, endpoint=True),\n",
        "        'min_samples_split': np.linspace(0.1, 1.0, 10, endpoint=True),\n",
        "        'min_samples_leaf': np.linspace(0.1, 0.5, 5, endpoint=True),\n",
        "        'max_features': list(range(1,array_X1_test.shape[1]))\n",
        "    }, \n",
        "    { # Random Forest\n",
        "        'n_estimators': [int(x) for x in np.linspace(start = 100, stop = 2000, num = 20)],\n",
        "        'max_features': ['auto', 'sqrt', 'log2'],\n",
        "        'max_depth': [int(x) for x in np.linspace(10, 110, num = 11)],\n",
        "        'criterion': ['gini','entropy'],\n",
        "        'min_samples_split': [int(x) for x in np.linspace(start = 2, stop = 10, num = 5)],\n",
        "        'min_samples_leaf': [int(x) for x in np.linspace(start = 1, stop = 10, num = 5)],\n",
        "        'bootstrap': [True],\n",
        "        'n_jobs': [-1]\n",
        "    },\n",
        "    { # Adaboost\n",
        "       'n_estimators': [int(x) for x in np.linspace(start = 100, stop = 2000, num = 20)],\n",
        "       'learning_rate': [float(x) for x in np.linspace(start = 0.001, stop = 0.1, num = 20)],\n",
        "       'algorithm': ['SAMME', 'SAMME.R']\n",
        "    },\n",
        "    { # XGBoost\n",
        "        'max_depth' : [int(x) for x in np.linspace(10, 110, num = 11)],\n",
        "        'min_child_weight' : [int(x) for x in np.linspace(1, 20, num = 11)],\n",
        "        'gamma' : [float(x) for x in np.linspace(0, 1, num = 11)],\n",
        "        'tree_method' : ['auto', 'exact', 'approx', 'hist'],\n",
        "\n",
        "        'colsample_bytree' : [float(x) for x in np.linspace(0, 1, num = 11)],\n",
        "        'eta' : [float(x) for x in np.linspace(0, 1, num = 100)],\n",
        "\n",
        "        'lambda' : [float(x) for x in np.linspace(0, 1, num = 11)],\n",
        "        'alpha' : [float(x) for x in np.linspace(0, 1, num = 11)]\n",
        "    }\n",
        "]"
      ],
      "execution_count": null,
      "outputs": []
    },
    {
      "cell_type": "code",
      "metadata": {
        "id": "gAdTPK83_2Rw"
      },
      "source": [
        "models_preds_scores = []\n",
        "\n",
        "for i, model in enumerate(models_to_train):\n",
        "    hyperparameters = grid_parameters[i]\n",
        "    result = algorithm_pipeline(X1_over_SMOTE, array_X1_test, y1_over_SMOTE, array_y1_test,  model, hyperparameters, cv=5)\n",
        "    models_preds_scores.append(result)"
      ],
      "execution_count": null,
      "outputs": []
    },
    {
      "cell_type": "code",
      "metadata": {
        "id": "6ztp9LWL__Yg",
        "colab": {
          "base_uri": "https://localhost:8080/"
        },
        "outputId": "716fabf8-0a8f-46ff-dfdc-c120cc05a6ef"
      },
      "source": [
        "for result in models_preds_scores:\n",
        "    print('Model: {0}, Score: {1}'.format(type(result[0]).__name__, result[2])) # score in training data"
      ],
      "execution_count": null,
      "outputs": [
        {
          "output_type": "stream",
          "text": [
            "Model: LogisticRegression, Score: 0.5502901353965184\n",
            "Model: KNeighborsClassifier, Score: 0.3220858895705522\n",
            "Model: DecisionTreeClassifier, Score: 0.46760837798343885\n",
            "Model: RandomForestClassifier, Score: 0.5053533190578159\n",
            "Model: AdaBoostClassifier, Score: 0.547441058079356\n",
            "Model: XGBClassifier, Score: 0.47154471544715443\n"
          ],
          "name": "stdout"
        }
      ]
    },
    {
      "cell_type": "code",
      "metadata": {
        "id": "1WROMKdKAFsU",
        "colab": {
          "base_uri": "https://localhost:8080/"
        },
        "outputId": "ada00d0e-8648-4d95-cfde-2f629bb65d70"
      },
      "source": [
        "models_preds_scores"
      ],
      "execution_count": null,
      "outputs": [
        {
          "output_type": "execute_result",
          "data": {
            "text/plain": [
              "[[LogisticRegression(C=11.288378916846883, class_weight=None, dual=False,\n",
              "                     fit_intercept=True, intercept_scaling=1, l1_ratio=None,\n",
              "                     max_iter=100, multi_class='auto', n_jobs=None, penalty='l2',\n",
              "                     random_state=None, solver='lbfgs', tol=0.0001, verbose=0,\n",
              "                     warm_start=False),\n",
              "  array([1., 1., 0., ..., 0., 1., 1.]),\n",
              "  0.5502901353965184],\n",
              " [KNeighborsClassifier(algorithm='auto', leaf_size=9, metric='minkowski',\n",
              "                       metric_params=None, n_jobs=None, n_neighbors=2, p=1,\n",
              "                       weights='uniform'),\n",
              "  array([0., 1., 0., ..., 0., 1., 0.]),\n",
              "  0.3220858895705522],\n",
              " [DecisionTreeClassifier(ccp_alpha=0.0, class_weight=None, criterion='gini',\n",
              "                         max_depth=10.0, max_features=23, max_leaf_nodes=None,\n",
              "                         min_impurity_decrease=0.0, min_impurity_split=None,\n",
              "                         min_samples_leaf=0.1, min_samples_split=0.1,\n",
              "                         min_weight_fraction_leaf=0.0, presort='deprecated',\n",
              "                         random_state=None, splitter='best'),\n",
              "  array([1., 1., 1., ..., 1., 1., 0.]),\n",
              "  0.46760837798343885],\n",
              " [RandomForestClassifier(bootstrap=True, ccp_alpha=0.0, class_weight=None,\n",
              "                         criterion='gini', max_depth=110, max_features='log2',\n",
              "                         max_leaf_nodes=None, max_samples=None,\n",
              "                         min_impurity_decrease=0.0, min_impurity_split=None,\n",
              "                         min_samples_leaf=1, min_samples_split=4,\n",
              "                         min_weight_fraction_leaf=0.0, n_estimators=400,\n",
              "                         n_jobs=-1, oob_score=False, random_state=None, verbose=0,\n",
              "                         warm_start=False),\n",
              "  array([0., 1., 0., ..., 0., 1., 0.]),\n",
              "  0.5053533190578159],\n",
              " [AdaBoostClassifier(algorithm='SAMME.R', base_estimator=None,\n",
              "                     learning_rate=0.06873684210526315, n_estimators=800,\n",
              "                     random_state=42),\n",
              "  array([1., 1., 1., ..., 0., 1., 1.]),\n",
              "  0.547441058079356],\n",
              " [XGBClassifier(alpha=0.1, base_score=0.5, booster='gbtree', colsample_bylevel=1,\n",
              "                colsample_bynode=1, colsample_bytree=1.0, eta=0.7777777777777778,\n",
              "                gamma=0.5, lambda=0.2, learning_rate=0.1, max_delta_step=0,\n",
              "                max_depth=110, min_child_weight=2, missing=None, n_estimators=100,\n",
              "                n_jobs=1, nthread=None, objective='binary:logistic',\n",
              "                random_state=42, reg_alpha=0, reg_lambda=1, scale_pos_weight=1,\n",
              "                seed=None, silent=None, subsample=1, tree_method='hist',\n",
              "                verbosity=1),\n",
              "  array([0., 1., 0., ..., 0., 1., 0.]),\n",
              "  0.47154471544715443]]"
            ]
          },
          "metadata": {
            "tags": []
          },
          "execution_count": 140
        }
      ]
    },
    {
      "cell_type": "markdown",
      "metadata": {
        "id": "CpSTPfalALUG"
      },
      "source": [
        "Stacking"
      ]
    },
    {
      "cell_type": "code",
      "metadata": {
        "id": "2Lw7yDcoAKBp",
        "colab": {
          "base_uri": "https://localhost:8080/"
        },
        "outputId": "3ec9c301-6374-4a57-f4c2-fe300572e96e"
      },
      "source": [
        "# define level-1 algorithm\n",
        "level1 = list()\n",
        "level1.append(('lr', LogisticRegression(C=4.281332398719396)))\n",
        "level1.append(('knn', KNeighborsClassifier(algorithm='brute', leaf_size=48, n_neighbors=17, p=1)))\n",
        "level1.append(('dt', DecisionTreeClassifier(max_depth=31.0, max_features=25, min_samples_leaf=0.4, min_samples_split=0.30000000000000004)))\n",
        "level1.append(('rf', RandomForestClassifier(max_depth=110, max_features='sqrt', min_samples_leaf=5, min_samples_split=10, n_estimators=1600, n_jobs=-1)))\n",
        "level1.append(('ab', AdaBoostClassifier(learning_rate=0.05831578947368421, n_estimators=200, random_state=42)))\n",
        "\n",
        "# define level-2 algorithm\n",
        "level2 = XGBClassifier(alpha=0.30000000000000004, base_score=0.5, booster='gbtree',\n",
        "                colsample_bylevel=1, colsample_bynode=1, colsample_bytree=0.1,\n",
        "                eta=0.13131313131313133, gamma=0.4, gpu_id=0,\n",
        "                importance_type='gain',\n",
        "                learning_rate=0.13131313, max_delta_step=0, max_depth=90,\n",
        "                min_child_weight=6,\n",
        "                n_estimators=100, n_jobs=0, num_parallel_tree=1, random_state=42,\n",
        "                reg_alpha=0.300000012, reg_lambda=0, scale_pos_weight=1,\n",
        "                subsample=1, tree_method='hist', validate_parameters=1,\n",
        "                verbosity=0)\n",
        "\n",
        "# Fit model\n",
        "stacking_model = StackingClassifier(estimators=level1, final_estimator=level2, cv=5)\n",
        "stacking_model.fit(X1_over_SMOTE, y1_over_SMOTE)\n",
        "y1_pred = stacking_model.predict(array_X1_test)#Check performa dari model\n",
        "eval_classification(stacking_model, y1_pred, X1_over_SMOTE, array_X1_test, y1_over_SMOTE, array_y1_test)"
      ],
      "execution_count": null,
      "outputs": [
        {
          "output_type": "stream",
          "text": [
            "Accuracy (Test Set): 0.77\n",
            "Precision (Test Set): 0.62\n",
            "Recall (Test Set): 0.28\n",
            "F1-Score (Test Set): 0.39\n",
            "AUC: 0.61\n"
          ],
          "name": "stdout"
        }
      ]
    }
  ]
}